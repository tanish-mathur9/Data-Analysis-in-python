{
 "cells": [
  {
   "cell_type": "markdown",
   "id": "78e717bd-87b7-4d8f-9c04-03b31b520b95",
   "metadata": {},
   "source": [
    "# list"
   ]
  },
  {
   "cell_type": "code",
   "execution_count": 1,
   "id": "44780255-35c1-4797-be50-9b2e5c079e3c",
   "metadata": {},
   "outputs": [],
   "source": [
    "virat_score = [23, 17, 49, 46, 12, 9, 16]"
   ]
  },
  {
   "cell_type": "code",
   "execution_count": 2,
   "id": "be48eb22-2fb0-4196-9931-a53e4abab1ed",
   "metadata": {},
   "outputs": [
    {
     "data": {
      "text/plain": [
       "7"
      ]
     },
     "execution_count": 2,
     "metadata": {},
     "output_type": "execute_result"
    }
   ],
   "source": [
    "len (virat_score)"
   ]
  },
  {
   "cell_type": "code",
   "execution_count": 3,
   "id": "553b5d1e-0cd1-4f7d-b3c1-481a1905becc",
   "metadata": {},
   "outputs": [
    {
     "data": {
      "text/plain": [
       "[23, 17, 49, 46, 12, 9, 16]"
      ]
     },
     "execution_count": 3,
     "metadata": {},
     "output_type": "execute_result"
    }
   ],
   "source": [
    "virat_score"
   ]
  },
  {
   "cell_type": "code",
   "execution_count": 4,
   "id": "efe80302-ed6c-416c-a901-9726bb83b9fc",
   "metadata": {},
   "outputs": [
    {
     "data": {
      "text/plain": [
       "list"
      ]
     },
     "execution_count": 4,
     "metadata": {},
     "output_type": "execute_result"
    }
   ],
   "source": [
    "type(virat_score) #prints the datatype "
   ]
  },
  {
   "cell_type": "code",
   "execution_count": 5,
   "id": "3781e0d3-d273-449d-b3b6-fb3b7edf1caa",
   "metadata": {},
   "outputs": [
    {
     "data": {
      "text/plain": [
       "list"
      ]
     },
     "execution_count": 5,
     "metadata": {},
     "output_type": "execute_result"
    }
   ],
   "source": [
    "virat_strike_rates = [73.3, 32.1, 80.4, 81.2, 29.3, 75.5, 88.3]\n",
    "type(virat_strike_rates)"
   ]
  },
  {
   "cell_type": "code",
   "execution_count": 6,
   "id": "32671b24-6519-4211-b6ed-1f496e41d6de",
   "metadata": {},
   "outputs": [
    {
     "name": "stdout",
     "output_type": "stream",
     "text": [
      "1*1 = 1\n",
      "2*2 = 4\n",
      "3*3 = 9\n",
      "4*4 = 16\n",
      "5*5 = 25\n",
      "6*6 = 36\n",
      "7*7 = 49\n",
      "8*8 = 64\n",
      "9*9 = 81\n",
      "10*10 = 100\n"
     ]
    },
    {
     "data": {
      "text/plain": [
       "[1, 4, 9, 16, 25, 36, 49, 64, 81, 100]"
      ]
     },
     "execution_count": 6,
     "metadata": {},
     "output_type": "execute_result"
    }
   ],
   "source": [
    "squares = []\n",
    "for i in range (1, 11):\n",
    "    squared = i*i\n",
    "    squares.append(squared)\n",
    "    print (f\"{i}*{i} = {i*i}\")\n",
    "\n",
    "squares"
   ]
  },
  {
   "cell_type": "code",
   "execution_count": 7,
   "id": "491ece17-b740-41e8-a946-43160bfbfe16",
   "metadata": {},
   "outputs": [
    {
     "data": {
      "text/plain": [
       "[23, 17, 49, 46, 12, 9, 16, 'not out 3 times']"
      ]
     },
     "execution_count": 7,
     "metadata": {},
     "output_type": "execute_result"
    }
   ],
   "source": [
    "virat_score_not_outs = [23, 17, 49, 46, 12, 9, 16, 'not out 3 times']\n",
    "virat_score_not_outs"
   ]
  },
  {
   "cell_type": "code",
   "execution_count": 8,
   "id": "124eb44e-0167-4964-afe7-d7a207127192",
   "metadata": {},
   "outputs": [
    {
     "data": {
      "text/plain": [
       "[23, 17, 49, 46, 12]"
      ]
     },
     "execution_count": 8,
     "metadata": {},
     "output_type": "execute_result"
    }
   ],
   "source": [
    "virat_score[:5]"
   ]
  },
  {
   "cell_type": "code",
   "execution_count": 9,
   "id": "ab8cf1eb-5db5-48f6-bd73-b43b0536383d",
   "metadata": {},
   "outputs": [
    {
     "data": {
      "text/plain": [
       "[23, 17, 49, 46, 12, 9, 16]"
      ]
     },
     "execution_count": 9,
     "metadata": {},
     "output_type": "execute_result"
    }
   ],
   "source": [
    "virat_score[:50] #no error is shown"
   ]
  },
  {
   "cell_type": "markdown",
   "id": "fe5f765f-4cab-4532-9c62-51b1e638d504",
   "metadata": {},
   "source": [
    "## in FORTAN and SQL indexing starts from 1\n"
   ]
  },
  {
   "cell_type": "code",
   "execution_count": 10,
   "id": "4a61c239-2a1d-43f3-85df-0cf043957ed1",
   "metadata": {},
   "outputs": [
    {
     "data": {
      "text/plain": [
       "range(0, 10)"
      ]
     },
     "execution_count": 10,
     "metadata": {},
     "output_type": "execute_result"
    }
   ],
   "source": [
    "range (10)"
   ]
  },
  {
   "cell_type": "code",
   "execution_count": 11,
   "id": "8c467e61-3b2c-4c0c-b781-737197137a4e",
   "metadata": {},
   "outputs": [
    {
     "data": {
      "text/plain": [
       "range(1, 10)"
      ]
     },
     "execution_count": 11,
     "metadata": {},
     "output_type": "execute_result"
    }
   ],
   "source": [
    "my_generator = range(1, 10)\n",
    "my_generator"
   ]
  },
  {
   "cell_type": "code",
   "execution_count": null,
   "id": "3a9ee84e-74b6-4f26-a2ea-e24f1796cdee",
   "metadata": {},
   "outputs": [],
   "source": []
  },
  {
   "cell_type": "code",
   "execution_count": 12,
   "id": "15713a61-e600-4df0-bdf0-07e7689dd14b",
   "metadata": {},
   "outputs": [],
   "source": [
    "hardik_scores = [32, 12, 34, 78]"
   ]
  },
  {
   "cell_type": "code",
   "execution_count": 13,
   "id": "a1ac0557-dbc3-4e0e-a821-7aebca3626c5",
   "metadata": {},
   "outputs": [],
   "source": [
    "hardik_scores.append(90) #adds at the end of the list "
   ]
  },
  {
   "cell_type": "code",
   "execution_count": 14,
   "id": "253b95a6-9dac-4899-84bf-caebfe952dd8",
   "metadata": {},
   "outputs": [
    {
     "data": {
      "text/plain": [
       "[32, 12, 34, 78, 90]"
      ]
     },
     "execution_count": 14,
     "metadata": {},
     "output_type": "execute_result"
    }
   ],
   "source": [
    "hardik_scores"
   ]
  },
  {
   "cell_type": "code",
   "execution_count": 15,
   "id": "7d5f295b-fc9a-486c-9357-619f06e9a863",
   "metadata": {},
   "outputs": [],
   "source": [
    "hardik_scores.insert(1, 67) #to add at the specific position\n",
    "# more expensive method (takes more time)"
   ]
  },
  {
   "cell_type": "code",
   "execution_count": 16,
   "id": "573561fc-99b0-44cb-9859-7768800b2254",
   "metadata": {},
   "outputs": [
    {
     "data": {
      "text/plain": [
       "[32, 67, 12, 34, 78, 90]"
      ]
     },
     "execution_count": 16,
     "metadata": {},
     "output_type": "execute_result"
    }
   ],
   "source": [
    "hardik_scores"
   ]
  },
  {
   "cell_type": "code",
   "execution_count": 17,
   "id": "69c7a673-0879-45d5-814d-e7291dbbfa45",
   "metadata": {},
   "outputs": [
    {
     "data": {
      "text/plain": [
       "90"
      ]
     },
     "execution_count": 17,
     "metadata": {},
     "output_type": "execute_result"
    }
   ],
   "source": [
    "hardik_scores.pop()"
   ]
  },
  {
   "cell_type": "code",
   "execution_count": 19,
   "id": "e9ff8eca-63d9-4729-b801-82bafa8cee67",
   "metadata": {},
   "outputs": [],
   "source": [
    "# hardik_scores.pop(5) #removing by index"
   ]
  },
  {
   "cell_type": "code",
   "execution_count": 20,
   "id": "3a3368b8-817b-4dea-aea4-cece61bc3c44",
   "metadata": {},
   "outputs": [
    {
     "data": {
      "text/plain": [
       "[32, 67, 12, 34, 78]"
      ]
     },
     "execution_count": 20,
     "metadata": {},
     "output_type": "execute_result"
    }
   ],
   "source": [
    "hardik_scores"
   ]
  },
  {
   "cell_type": "code",
   "execution_count": 21,
   "id": "7d4521df-5c60-4787-bfb4-e9eb9390ddfb",
   "metadata": {},
   "outputs": [],
   "source": [
    "sunny_review = [\"tough\", \"strong\", \"harsh\", \"powerful\"]"
   ]
  },
  {
   "cell_type": "code",
   "execution_count": 22,
   "id": "b2b9fc2f-1d51-483e-a2c0-edf5790dde57",
   "metadata": {},
   "outputs": [
    {
     "data": {
      "text/plain": [
       "4"
      ]
     },
     "execution_count": 22,
     "metadata": {},
     "output_type": "execute_result"
    }
   ],
   "source": [
    "len(sunny_review)"
   ]
  },
  {
   "cell_type": "code",
   "execution_count": 23,
   "id": "ed167755-b258-419f-a860-b6d155038a6d",
   "metadata": {},
   "outputs": [],
   "source": [
    "sunny_adjective = [\"difficult\",\n",
    "                   \"exactly\"]\n",
    "\n",
    "#\\ to change the line for readability"
   ]
  },
  {
   "cell_type": "code",
   "execution_count": 24,
   "id": "d17c7ae2-bc69-4d06-b05e-c87b625c3100",
   "metadata": {},
   "outputs": [
    {
     "name": "stdout",
     "output_type": "stream",
     "text": [
      "['difficult', 'exactly']\n"
     ]
    }
   ],
   "source": [
    "print(sunny_adjective)"
   ]
  },
  {
   "cell_type": "code",
   "execution_count": 25,
   "id": "55e86637-7159-49ce-b536-fd9fa4284bfd",
   "metadata": {},
   "outputs": [
    {
     "data": {
      "text/plain": [
       "False"
      ]
     },
     "execution_count": 25,
     "metadata": {},
     "output_type": "execute_result"
    }
   ],
   "source": [
    "\"strong\" in sunny_adjective"
   ]
  },
  {
   "cell_type": "code",
   "execution_count": 26,
   "id": "62656036-4731-4ac1-bc6a-dbbdb62285a7",
   "metadata": {},
   "outputs": [
    {
     "data": {
      "text/plain": [
       "True"
      ]
     },
     "execution_count": 26,
     "metadata": {},
     "output_type": "execute_result"
    }
   ],
   "source": [
    "\"difficult\" in sunny_adjective"
   ]
  },
  {
   "cell_type": "code",
   "execution_count": 27,
   "id": "99493849-d43b-4fdc-9add-c1630763377f",
   "metadata": {},
   "outputs": [],
   "source": [
    "trucks = [\"tata\", \"mahindra\", \"elcher\", \"ashok leyland\", \"force\", \"bharat benz\"]\n",
    "trucks_1 = [\"tata\", \"mahindra\", \"elcher\", \"ashok leyland\", \"force\", \"bharat benz\"]\n",
    "\n",
    "truck_prices = [24, 29, 27, 32, 39, 24]"
   ]
  },
  {
   "cell_type": "code",
   "execution_count": 28,
   "id": "79fe7cce-ce1c-40e1-a492-855135720492",
   "metadata": {},
   "outputs": [
    {
     "data": {
      "text/plain": [
       "['tata', 'mahindra', 'force', 'elcher', 'bharat benz', 'ashok leyland']"
      ]
     },
     "execution_count": 28,
     "metadata": {},
     "output_type": "execute_result"
    }
   ],
   "source": [
    "sorted(trucks) #temporary\n",
    "sorted(trucks , reverse = True) #descending"
   ]
  },
  {
   "cell_type": "markdown",
   "id": "51a1e934-a34d-4106-b05e-9234e2cfbed0",
   "metadata": {},
   "source": [
    "# trucks.sort() \n",
    "permenent sort\\\n",
    "expensive method (use wisely)"
   ]
  },
  {
   "cell_type": "markdown",
   "id": "1e46e2e5-1999-4be0-8c95-1dcda8cb1008",
   "metadata": {},
   "source": [
    "## fstrings "
   ]
  },
  {
   "cell_type": "code",
   "execution_count": 31,
   "id": "7c641ace-ca97-49f6-9cb1-c7a5ae292d9c",
   "metadata": {},
   "outputs": [
    {
     "data": {
      "text/plain": [
       "5"
      ]
     },
     "execution_count": 31,
     "metadata": {},
     "output_type": "execute_result"
    }
   ],
   "source": [
    "trucks.index(\"bharat benz\")"
   ]
  },
  {
   "cell_type": "code",
   "execution_count": 32,
   "id": "b5ba23c3-d7a6-4625-a5d2-253b94a2470a",
   "metadata": {},
   "outputs": [],
   "source": [
    "truck_prices.sort()"
   ]
  },
  {
   "cell_type": "code",
   "execution_count": 33,
   "id": "1a8c29fc-c94d-4d76-9562-d5234dca1909",
   "metadata": {},
   "outputs": [
    {
     "data": {
      "text/plain": [
       "[24, 24, 27, 29, 32, 39]"
      ]
     },
     "execution_count": 33,
     "metadata": {},
     "output_type": "execute_result"
    }
   ],
   "source": [
    "truck_prices"
   ]
  },
  {
   "cell_type": "code",
   "execution_count": 34,
   "id": "9893e51e-9bda-4c24-9c6d-f5e6df56689a",
   "metadata": {},
   "outputs": [],
   "source": [
    "trucks = [\"tata\", \"mahindra\", \"elcher\", \"ashok leyland\", \"force\", \"bharat benz\"]\n",
    "lorries = [ '', '', '', '', '', '', '', '']"
   ]
  },
  {
   "cell_type": "markdown",
   "id": "1282ffc5-0a95-413d-a56f-7e8b5570ae6f",
   "metadata": {},
   "source": [
    "### just replicating the pattern"
   ]
  },
  {
   "cell_type": "code",
   "execution_count": 38,
   "id": "f4545c28-2c55-4bfa-ad3d-c4afec5a5f88",
   "metadata": {},
   "outputs": [
    {
     "data": {
      "text/plain": [
       "['tata', 'force', 'elcher', 'mahindra', 'bharat benz', 'ashok leyland']"
      ]
     },
     "execution_count": 38,
     "metadata": {},
     "output_type": "execute_result"
    }
   ],
   "source": [
    "trucks.sort(key=len) #sorting on the basis of len of str inside the list\n",
    "trucks"
   ]
  },
  {
   "cell_type": "code",
   "execution_count": 42,
   "id": "03a1b6a8-4939-4b63-a783-1f1a26a188bd",
   "metadata": {},
   "outputs": [
    {
     "data": {
      "text/plain": [
       "['ashok leyland', 'bharat benz', 'mahindra', 'elcher', 'force', 'tata']"
      ]
     },
     "execution_count": 42,
     "metadata": {},
     "output_type": "execute_result"
    }
   ],
   "source": [
    "trucks.sort(key=len, reverse = True) #printing the reverse order\n",
    "trucks"
   ]
  },
  {
   "cell_type": "markdown",
   "id": "1f3f8e78-961c-4fa7-9a77-c7364aa554df",
   "metadata": {},
   "source": [
    "### step operation"
   ]
  },
  {
   "cell_type": "code",
   "execution_count": 50,
   "id": "698b489e-8467-46d4-b4a9-d37c149f1b97",
   "metadata": {},
   "outputs": [
    {
     "name": "stdout",
     "output_type": "stream",
     "text": [
      "[0, 1, 2, 3, 4, 5, 6, 7, 8, 9, 10, 11, 12, 13, 14, 15, 16, 17, 18, 19]\n"
     ]
    },
    {
     "data": {
      "text/plain": [
       "[0, 3, 6, 9, 12, 15, 18]"
      ]
     },
     "execution_count": 50,
     "metadata": {},
     "output_type": "execute_result"
    }
   ],
   "source": [
    "int_list = list (range(20)) #creating the list from 0 to 19\n",
    "print (int_list)\n",
    "int_list[0: 20: 3] #from : to : step"
   ]
  },
  {
   "cell_type": "code",
   "execution_count": null,
   "id": "d651d44a-fbc4-465e-8ca8-a9b4e04737c2",
   "metadata": {},
   "outputs": [],
   "source": []
  }
 ],
 "metadata": {
  "kernelspec": {
   "display_name": "Python 3 (ipykernel)",
   "language": "python",
   "name": "python3"
  },
  "language_info": {
   "codemirror_mode": {
    "name": "ipython",
    "version": 3
   },
   "file_extension": ".py",
   "mimetype": "text/x-python",
   "name": "python",
   "nbconvert_exporter": "python",
   "pygments_lexer": "ipython3",
   "version": "3.13.5"
  }
 },
 "nbformat": 4,
 "nbformat_minor": 5
}
