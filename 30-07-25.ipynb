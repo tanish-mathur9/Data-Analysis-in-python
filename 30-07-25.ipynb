{
 "cells": [
  {
   "cell_type": "code",
   "execution_count": 18,
   "id": "cdf69817-86ea-4a81-abd4-dd0877d88f3c",
   "metadata": {},
   "outputs": [
    {
     "data": {
      "text/plain": [
       "[3, 41, 252, 327, 'no', 180.6, ['strokes', 'works', 'cardi b']]"
      ]
     },
     "execution_count": 18,
     "metadata": {},
     "output_type": "execute_result"
    }
   ],
   "source": [
    "rajesh = [3, 41, 252, 109*3 , 'no', 180.6, ['strokes', 'works', \"cardi b\"]] #109*3 is an expression\n",
    "rajesh"
   ]
  },
  {
   "cell_type": "markdown",
   "id": "8a1d3692-cc80-4df6-9476-b6fbb46aca60",
   "metadata": {},
   "source": [
    "mixed datatypes can be stored in the list"
   ]
  },
  {
   "cell_type": "code",
   "execution_count": 9,
   "id": "18d9cbfa-02c7-497d-8bf8-854591fdb105",
   "metadata": {},
   "outputs": [
    {
     "data": {
      "text/plain": [
       "[3, 41, 252, 109]"
      ]
     },
     "execution_count": 9,
     "metadata": {},
     "output_type": "execute_result"
    }
   ],
   "source": [
    "shubhman_score_list"
   ]
  },
  {
   "cell_type": "code",
   "execution_count": 22,
   "id": "93826985-eea7-486b-8118-17651df278a0",
   "metadata": {},
   "outputs": [
    {
     "data": {
      "text/plain": [
       "[64.0, 46.0, 33.0, 61.0, 61.4]"
      ]
     },
     "execution_count": 22,
     "metadata": {},
     "output_type": "execute_result"
    }
   ],
   "source": [
    "virat_avg = [64,46,33,61]\n",
    "virat_avg = [64,46,33,61, 61.4]\n",
    "virat_avg = [64.,46.,33.,61., 61.4]\n",
    "virat_avg"
   ]
  },
  {
   "cell_type": "code",
   "execution_count": 24,
   "id": "ec55ea9d-ab6d-4bc8-a2e2-b85785be1c71",
   "metadata": {},
   "outputs": [
    {
     "name": "stdout",
     "output_type": "stream",
     "text": [
      "Python 3.13.5\n"
     ]
    }
   ],
   "source": [
    "!python --version\n"
   ]
  },
  {
   "cell_type": "markdown",
   "id": "a8f2bc0b-d5d8-400f-a275-2c17fead9fbb",
   "metadata": {},
   "source": [
    "##  Djiskstra op (reverse indexing -1)"
   ]
  },
  {
   "cell_type": "code",
   "execution_count": 25,
   "id": "63e558f2-5aaa-4c7e-a784-098a37aa2602",
   "metadata": {},
   "outputs": [
    {
     "data": {
      "text/plain": [
       "[64.0, 46.0]"
      ]
     },
     "execution_count": 25,
     "metadata": {},
     "output_type": "execute_result"
    }
   ],
   "source": [
    "virat_avg[0:2]"
   ]
  },
  {
   "cell_type": "markdown",
   "id": "686ddcc1-e6de-401f-8e23-b814dd9284bc",
   "metadata": {},
   "source": [
    "trends only when time series data \\\n",
    "see patterns \\\n",
    "Independent and Identically Distributed\n"
   ]
  },
  {
   "cell_type": "code",
   "execution_count": 26,
   "id": "19f9d73d-c47b-4a15-a7e4-84244d62f4fa",
   "metadata": {},
   "outputs": [],
   "source": [
    "import numpy as np\n"
   ]
  },
  {
   "cell_type": "code",
   "execution_count": 84,
   "id": "622f894c-a36b-4853-9a30-c21d8ca702cc",
   "metadata": {},
   "outputs": [
    {
     "data": {
      "text/plain": [
       "0.8615560878559065"
      ]
     },
     "execution_count": 84,
     "metadata": {},
     "output_type": "execute_result"
    }
   ],
   "source": [
    "np.random.uniform()  # instead of rand\n",
    "np.random.normal()   #instead of randn"
   ]
  },
  {
   "cell_type": "code",
   "execution_count": 99,
   "id": "1a0a9bc1-6cc9-460e-9c9e-2ca8884b0b8a",
   "metadata": {},
   "outputs": [
    {
     "name": "stdout",
     "output_type": "stream",
     "text": [
      "[ 84.9690781  172.54886133  82.90708597 ... 112.10243755 153.85394291\n",
      " 130.72867536]\n"
     ]
    }
   ],
   "source": [
    "np.random.seed(5)\n",
    "bml_scrn_time = np.random.uniform(55, 190, 3000) #start end size \n",
    "print(bml_scrn_time) #1000 is the limit to print all the values"
   ]
  },
  {
   "cell_type": "code",
   "execution_count": 90,
   "id": "da2a60bc-1163-4726-92a6-2d8f7a63a5f8",
   "metadata": {},
   "outputs": [],
   "source": [
    "import matplotlib.pyplot as plt"
   ]
  },
  {
   "cell_type": "code",
   "execution_count": null,
   "id": "0ad407af-c747-4585-835b-803e7a804bb3",
   "metadata": {},
   "outputs": [],
   "source": [
    "plt.hist(bml_scrn_time, bins = 60000) #exposing the data clearly"
   ]
  },
  {
   "cell_type": "code",
   "execution_count": null,
   "id": "29652217-de1f-4c99-9c5f-4d6c7d2f6fce",
   "metadata": {},
   "outputs": [],
   "source": []
  }
 ],
 "metadata": {
  "kernelspec": {
   "display_name": "Python 3 (ipykernel)",
   "language": "python",
   "name": "python3"
  },
  "language_info": {
   "codemirror_mode": {
    "name": "ipython",
    "version": 3
   },
   "file_extension": ".py",
   "mimetype": "text/x-python",
   "name": "python",
   "nbconvert_exporter": "python",
   "pygments_lexer": "ipython3",
   "version": "3.13.5"
  }
 },
 "nbformat": 4,
 "nbformat_minor": 5
}
