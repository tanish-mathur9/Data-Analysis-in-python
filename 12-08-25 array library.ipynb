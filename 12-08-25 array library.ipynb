{
 "cells": [
  {
   "cell_type": "markdown",
   "id": "f56e6c09-9733-4181-bf10-313dd81c926b",
   "metadata": {},
   "source": [
    "## new alternative of Numpy library -> array library"
   ]
  },
  {
   "cell_type": "code",
   "execution_count": 1,
   "id": "3ab89535-15f5-4f37-a245-3ae8805193f8",
   "metadata": {},
   "outputs": [],
   "source": [
    "import array "
   ]
  },
  {
   "cell_type": "code",
   "execution_count": 4,
   "id": "35b370c6-9de9-4eb5-82c0-6fdbbe8f17c2",
   "metadata": {},
   "outputs": [
    {
     "data": {
      "text/plain": [
       "[0, 1, 2, 3, 4, 5, 6, 7, 8, 9]"
      ]
     },
     "execution_count": 4,
     "metadata": {},
     "output_type": "execute_result"
    }
   ],
   "source": [
    "# nums = list (range (0,int(1e2))) #wont implement if list aint written\n",
    "# nums = list (range (100,600,100))\n",
    "nums = list (range (0, 10))\n",
    "nums"
   ]
  },
  {
   "cell_type": "code",
   "execution_count": 5,
   "id": "7cb22833-5220-4e35-ae9e-302e47cbffe9",
   "metadata": {},
   "outputs": [
    {
     "data": {
      "text/plain": [
       "array('i', [0, 1, 2, 3, 4, 5, 6, 7, 8, 9])"
      ]
     },
     "execution_count": 5,
     "metadata": {},
     "output_type": "execute_result"
    }
   ],
   "source": [
    "nums1 = array.array('i', nums)\n",
    "nums1"
   ]
  },
  {
   "cell_type": "code",
   "execution_count": 12,
   "id": "129f9555-1f62-4b6a-9491-c54624b7eca9",
   "metadata": {},
   "outputs": [
    {
     "name": "stdout",
     "output_type": "stream",
     "text": [
      "5.6\n"
     ]
    }
   ],
   "source": [
    "nums.insert(5, 5.6)\n",
    "nums\n",
    "print (nums[5])"
   ]
  },
  {
   "cell_type": "code",
   "execution_count": 14,
   "id": "b3e76c61-807f-490e-80f2-cad679a43ea5",
   "metadata": {},
   "outputs": [
    {
     "data": {
      "text/plain": [
       "array('f', [0.0, 1.0, 2.0, 3.0, 4.0, 5.599999904632568, 5.599999904632568, 5.599999904632568, 5.599999904632568, 5.0, 6.0, 7.0, 8.0, 9.0])"
      ]
     },
     "execution_count": 14,
     "metadata": {},
     "output_type": "execute_result"
    }
   ],
   "source": [
    "nums_arr = array.array('f', nums)\n",
    "nums_arr"
   ]
  },
  {
   "cell_type": "code",
   "execution_count": 16,
   "id": "ffaea28e-ab0b-4795-b543-010ecf545485",
   "metadata": {},
   "outputs": [
    {
     "ename": "TypeError",
     "evalue": "'float' object cannot be interpreted as an integer",
     "output_type": "error",
     "traceback": [
      "\u001b[1;31m---------------------------------------------------------------------------\u001b[0m",
      "\u001b[1;31mTypeError\u001b[0m                                 Traceback (most recent call last)",
      "Cell \u001b[1;32mIn[16], line 1\u001b[0m\n\u001b[1;32m----> 1\u001b[0m nums_arr \u001b[38;5;241m=\u001b[39m \u001b[43marray\u001b[49m\u001b[38;5;241;43m.\u001b[39;49m\u001b[43marray\u001b[49m\u001b[43m(\u001b[49m\u001b[38;5;124;43m'\u001b[39;49m\u001b[38;5;124;43mi\u001b[39;49m\u001b[38;5;124;43m'\u001b[39;49m\u001b[43m,\u001b[49m\u001b[43m \u001b[49m\u001b[43mnums\u001b[49m\u001b[43m)\u001b[49m \u001b[38;5;66;03m#will throw an error -> ''float' object cannot be interpreted as an integer'\u001b[39;00m\n",
      "\u001b[1;31mTypeError\u001b[0m: 'float' object cannot be interpreted as an integer"
     ]
    }
   ],
   "source": [
    "nums_arr = array.array('i', nums) #will throw an error -> ''float' object cannot be interpreted as an integer'"
   ]
  },
  {
   "cell_type": "code",
   "execution_count": 17,
   "id": "93a6de16-2518-4c3e-a308-f48b74a42f0b",
   "metadata": {},
   "outputs": [
    {
     "data": {
      "text/plain": [
       "float"
      ]
     },
     "execution_count": 17,
     "metadata": {},
     "output_type": "execute_result"
    }
   ],
   "source": [
    "type (nums_arr[5])"
   ]
  },
  {
   "cell_type": "code",
   "execution_count": 22,
   "id": "5603cfe2-fdc7-4655-8818-71dd45d113d6",
   "metadata": {},
   "outputs": [],
   "source": [
    "# nums_arr.mean ##throw an error"
   ]
  },
  {
   "cell_type": "code",
   "execution_count": null,
   "id": "85638db8-24fd-448a-938f-560baabcd98f",
   "metadata": {},
   "outputs": [],
   "source": []
  },
  {
   "cell_type": "code",
   "execution_count": null,
   "id": "6d560480-ed3b-482a-9abe-f064c1519183",
   "metadata": {},
   "outputs": [],
   "source": [
    "\n",
    "\n"
   ]
  },
  {
   "cell_type": "markdown",
   "id": "a2bb2c16-10c8-48dc-9aa7-056bde659f0d",
   "metadata": {},
   "source": [
    "# numpy"
   ]
  },
  {
   "cell_type": "code",
   "execution_count": 23,
   "id": "f0e66eea-8d13-4c3d-b525-71a6c54d66f6",
   "metadata": {},
   "outputs": [],
   "source": [
    "import numpy as np"
   ]
  },
  {
   "cell_type": "code",
   "execution_count": 30,
   "id": "e152da20-66b2-4829-b2d5-806bb0f8cffd",
   "metadata": {},
   "outputs": [
    {
     "data": {
      "text/plain": [
       "array([5, 6, 7, 8])"
      ]
     },
     "execution_count": 30,
     "metadata": {},
     "output_type": "execute_result"
    }
   ],
   "source": [
    "np.array([5, 6, 7, 8]) #passing list as an argument\n",
    "np.array((5, 6, 7, 8)) #passing tuple as an argument\n",
    "# np.array(5, 6, 7, 8) #passing tuple as an argument ..........throws an error\n"
   ]
  },
  {
   "cell_type": "code",
   "execution_count": 31,
   "id": "d6641327-d312-451d-9e5a-db35449ba386",
   "metadata": {},
   "outputs": [],
   "source": [
    "my_lst = [5, 5, 6, 8]\n",
    "sorted(my_lst) #temop list\n",
    "my_lst.sort() #permanent list"
   ]
  },
  {
   "cell_type": "code",
   "execution_count": 32,
   "id": "d31a4488-af34-400b-8e67-473a36e98c13",
   "metadata": {},
   "outputs": [
    {
     "data": {
      "text/plain": [
       "array([5, 5, 6, 8])"
      ]
     },
     "execution_count": 32,
     "metadata": {},
     "output_type": "execute_result"
    }
   ],
   "source": [
    "np.array(my_lst)"
   ]
  },
  {
   "cell_type": "code",
   "execution_count": 33,
   "id": "858395c6-f522-4c2e-9aa4-83312d75b6eb",
   "metadata": {},
   "outputs": [
    {
     "data": {
      "text/plain": [
       "array([6. , 5.6, 8. , 8. ])"
      ]
     },
     "execution_count": 33,
     "metadata": {},
     "output_type": "execute_result"
    }
   ],
   "source": [
    "np.array([6, 5.6, 8, 8]) #type promotion"
   ]
  },
  {
   "cell_type": "code",
   "execution_count": 35,
   "id": "e31c7933-cc04-4192-b080-1820cea27a1e",
   "metadata": {},
   "outputs": [
    {
     "data": {
      "text/plain": [
       "['T',\n",
       " '__abs__',\n",
       " '__add__',\n",
       " '__and__',\n",
       " '__array__',\n",
       " '__array_interface__',\n",
       " '__array_namespace__',\n",
       " '__array_priority__',\n",
       " '__array_struct__',\n",
       " '__array_wrap__',\n",
       " '__bool__',\n",
       " '__buffer__',\n",
       " '__class__',\n",
       " '__contains__',\n",
       " '__copy__',\n",
       " '__deepcopy__',\n",
       " '__delattr__',\n",
       " '__dir__',\n",
       " '__divmod__',\n",
       " '__doc__',\n",
       " '__eq__',\n",
       " '__float__',\n",
       " '__floordiv__',\n",
       " '__format__',\n",
       " '__ge__',\n",
       " '__getattribute__',\n",
       " '__getitem__',\n",
       " '__getnewargs__',\n",
       " '__getstate__',\n",
       " '__gt__',\n",
       " '__hash__',\n",
       " '__init__',\n",
       " '__init_subclass__',\n",
       " '__int__',\n",
       " '__invert__',\n",
       " '__iter__',\n",
       " '__le__',\n",
       " '__len__',\n",
       " '__lshift__',\n",
       " '__lt__',\n",
       " '__mod__',\n",
       " '__mul__',\n",
       " '__ne__',\n",
       " '__neg__',\n",
       " '__new__',\n",
       " '__or__',\n",
       " '__pos__',\n",
       " '__pow__',\n",
       " '__radd__',\n",
       " '__rand__',\n",
       " '__rdivmod__',\n",
       " '__reduce__',\n",
       " '__reduce_ex__',\n",
       " '__repr__',\n",
       " '__rfloordiv__',\n",
       " '__rlshift__',\n",
       " '__rmod__',\n",
       " '__rmul__',\n",
       " '__ror__',\n",
       " '__rpow__',\n",
       " '__rrshift__',\n",
       " '__rshift__',\n",
       " '__rsub__',\n",
       " '__rtruediv__',\n",
       " '__rxor__',\n",
       " '__setattr__',\n",
       " '__setstate__',\n",
       " '__sizeof__',\n",
       " '__str__',\n",
       " '__sub__',\n",
       " '__subclasshook__',\n",
       " '__truediv__',\n",
       " '__xor__',\n",
       " 'all',\n",
       " 'any',\n",
       " 'argmax',\n",
       " 'argmin',\n",
       " 'argsort',\n",
       " 'astype',\n",
       " 'base',\n",
       " 'byteswap',\n",
       " 'capitalize',\n",
       " 'casefold',\n",
       " 'center',\n",
       " 'choose',\n",
       " 'clip',\n",
       " 'compress',\n",
       " 'conj',\n",
       " 'conjugate',\n",
       " 'copy',\n",
       " 'count',\n",
       " 'cumprod',\n",
       " 'cumsum',\n",
       " 'data',\n",
       " 'device',\n",
       " 'diagonal',\n",
       " 'dtype',\n",
       " 'dump',\n",
       " 'dumps',\n",
       " 'encode',\n",
       " 'endswith',\n",
       " 'expandtabs',\n",
       " 'fill',\n",
       " 'find',\n",
       " 'flags',\n",
       " 'flat',\n",
       " 'flatten',\n",
       " 'format',\n",
       " 'format_map',\n",
       " 'getfield',\n",
       " 'imag',\n",
       " 'index',\n",
       " 'isalnum',\n",
       " 'isalpha',\n",
       " 'isascii',\n",
       " 'isdecimal',\n",
       " 'isdigit',\n",
       " 'isidentifier',\n",
       " 'islower',\n",
       " 'isnumeric',\n",
       " 'isprintable',\n",
       " 'isspace',\n",
       " 'istitle',\n",
       " 'isupper',\n",
       " 'item',\n",
       " 'itemset',\n",
       " 'itemsize',\n",
       " 'join',\n",
       " 'ljust',\n",
       " 'lower',\n",
       " 'lstrip',\n",
       " 'maketrans',\n",
       " 'max',\n",
       " 'mean',\n",
       " 'min',\n",
       " 'nbytes',\n",
       " 'ndim',\n",
       " 'newbyteorder',\n",
       " 'nonzero',\n",
       " 'partition',\n",
       " 'prod',\n",
       " 'ptp',\n",
       " 'put',\n",
       " 'ravel',\n",
       " 'real',\n",
       " 'removeprefix',\n",
       " 'removesuffix',\n",
       " 'repeat',\n",
       " 'replace',\n",
       " 'reshape',\n",
       " 'resize',\n",
       " 'rfind',\n",
       " 'rindex',\n",
       " 'rjust',\n",
       " 'round',\n",
       " 'rpartition',\n",
       " 'rsplit',\n",
       " 'rstrip',\n",
       " 'searchsorted',\n",
       " 'setfield',\n",
       " 'setflags',\n",
       " 'shape',\n",
       " 'size',\n",
       " 'sort',\n",
       " 'split',\n",
       " 'splitlines',\n",
       " 'squeeze',\n",
       " 'startswith',\n",
       " 'std',\n",
       " 'strides',\n",
       " 'strip',\n",
       " 'sum',\n",
       " 'swapaxes',\n",
       " 'swapcase',\n",
       " 'take',\n",
       " 'title',\n",
       " 'to_device',\n",
       " 'tobytes',\n",
       " 'tofile',\n",
       " 'tolist',\n",
       " 'tostring',\n",
       " 'trace',\n",
       " 'translate',\n",
       " 'transpose',\n",
       " 'upper',\n",
       " 'var',\n",
       " 'view',\n",
       " 'zfill']"
      ]
     },
     "execution_count": 35,
     "metadata": {},
     "output_type": "execute_result"
    }
   ],
   "source": [
    "np.array(['a1', 'b1','c1', 'd1'])\n",
    "np.array(['a1', 'b1','c1', 'd1'])[0] #array of strings\n",
    "dir(np.array(['a1', 'b1','c1', 'd1'])[0]) #array of strings"
   ]
  },
  {
   "cell_type": "code",
   "execution_count": 45,
   "id": "bcea3dcb-7a08-4858-8149-3d1e87ccc920",
   "metadata": {},
   "outputs": [
    {
     "data": {
      "text/plain": [
       "array([5.3, 6.4, 2.3, 8.6])"
      ]
     },
     "execution_count": 45,
     "metadata": {},
     "output_type": "execute_result"
    }
   ],
   "source": [
    "np.array([5.3, 6.4, 2.3, 8.6], dtype=np.float16)\n",
    "np.array([5.3, 6.4, 2.3, 8.6], dtype=np.float32)\n",
    "# np.array([5.3, 6.4, 2.3, 8.6], dtype=np.float_) #error in new numpy version 2.0 .......\n",
    "np.array([5.3, 6.4, 2.3, 8.6], dtype=np.float64)\n",
    "# np.array([5.3, 6.4, 2.3, 8.6], dtype=np.float) #error\n",
    "# np.array([5.3, 6.4, 2.3, 8.6], dtype=np.float8) #error"
   ]
  },
  {
   "cell_type": "code",
   "execution_count": 52,
   "id": "5aaaa440-9477-4ad9-9b61-b281e60fffc9",
   "metadata": {},
   "outputs": [
    {
     "data": {
      "text/plain": [
       "array([0, 0, 0, 0, 0, 0])"
      ]
     },
     "execution_count": 52,
     "metadata": {},
     "output_type": "execute_result"
    }
   ],
   "source": [
    "np.zeros(6, dtype= int)"
   ]
  },
  {
   "cell_type": "code",
   "execution_count": 53,
   "id": "a21f5086-ba39-461b-92ed-56351e07120c",
   "metadata": {},
   "outputs": [
    {
     "data": {
      "text/plain": [
       "array([[1, 1],\n",
       "       [1, 1],\n",
       "       [1, 1]])"
      ]
     },
     "execution_count": 53,
     "metadata": {},
     "output_type": "execute_result"
    }
   ],
   "source": [
    "np.ones((3,2), dtype= int)"
   ]
  },
  {
   "cell_type": "code",
   "execution_count": 55,
   "id": "07c8ce7e-1f01-4c0f-ad8a-f85759a68fbd",
   "metadata": {},
   "outputs": [
    {
     "data": {
      "text/plain": [
       "array([0.  , 0.25, 0.5 , 0.75, 1.  ])"
      ]
     },
     "execution_count": 55,
     "metadata": {},
     "output_type": "execute_result"
    }
   ],
   "source": [
    "np.linspace(0,1,5) #endpoint included"
   ]
  },
  {
   "cell_type": "code",
   "execution_count": 59,
   "id": "1f43a80c-3d34-45c0-84f0-409d6ae5232d",
   "metadata": {},
   "outputs": [
    {
     "data": {
      "text/plain": [
       "array([ 1.        ,  1.77827941,  3.16227766,  5.62341325, 10.        ])"
      ]
     },
     "execution_count": 59,
     "metadata": {},
     "output_type": "execute_result"
    }
   ],
   "source": [
    " log_space = np.logspace(0, 1, 5, dtype= float) #logarithmic spaced............log10 = 1\n",
    "log_space"
   ]
  },
  {
   "cell_type": "code",
   "execution_count": null,
   "id": "d53b2b92-058b-47f4-8e72-bb6099e97751",
   "metadata": {},
   "outputs": [],
   "source": []
  }
 ],
 "metadata": {
  "kernelspec": {
   "display_name": "Python 3 (ipykernel)",
   "language": "python",
   "name": "python3"
  },
  "language_info": {
   "codemirror_mode": {
    "name": "ipython",
    "version": 3
   },
   "file_extension": ".py",
   "mimetype": "text/x-python",
   "name": "python",
   "nbconvert_exporter": "python",
   "pygments_lexer": "ipython3",
   "version": "3.13.5"
  }
 },
 "nbformat": 4,
 "nbformat_minor": 5
}
