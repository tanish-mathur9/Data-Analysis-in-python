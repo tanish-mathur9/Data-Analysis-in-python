{
  "nbformat": 4,
  "nbformat_minor": 0,
  "metadata": {
    "colab": {
      "provenance": []
    },
    "kernelspec": {
      "name": "python3",
      "display_name": "Python 3"
    },
    "language_info": {
      "name": "python"
    }
  },
  "cells": [
    {
      "cell_type": "markdown",
      "source": [
        "# We have covered a set of basic concepts of `array` and `NumPy` modules\n",
        "## Next we move other aspects of NumPy in greater detail.\n"
      ],
      "metadata": {
        "id": "0bkke8Q1dmJp"
      }
    },
    {
      "cell_type": "code",
      "execution_count": 63,
      "metadata": {
        "id": "U501E7HdSWVU",
        "colab": {
          "base_uri": "https://localhost:8080/",
          "height": 17
        },
        "outputId": "800bfd95-e422-42e9-a3f0-4e05108fbac5"
      },
      "outputs": [
        {
          "output_type": "display_data",
          "data": {
            "text/plain": [
              "<IPython.core.display.Javascript object>"
            ],
            "application/javascript": [
              "\n",
              "  for (rule of document.styleSheets[0].cssRules){\n",
              "    if (rule.selectorText=='body') {\n",
              "      rule.style.fontSize = '30px'\n",
              "      rule.style.color = 'darkblue'\n",
              "      break\n",
              "    }\n",
              "  }\n",
              "  "
            ]
          },
          "metadata": {}
        }
      ],
      "source": [
        "import numpy as np"
      ]
    },
    {
      "cell_type": "markdown",
      "source": [
        "# We generate below random number based arrays in 1,2, 3 dimensions to show important attributes.\n",
        "\n",
        "# And how to check no of dimensions, size and shape and how to access elements of arrays.\n"
      ],
      "metadata": {
        "id": "zhvVueyw2ra7"
      }
    },
    {
      "cell_type": "markdown",
      "source": [
        "------------------------\n",
        "------------------------\n",
        "# Learning NumPy is important because it forms one of the pillars of another useful library called `pandas` (**Pa**nel **D**ata **A**nalysi**s**) .\n",
        "\n",
        "## Beginners would be puzzled why `NumPy` was needed in the first place. The inventor of Python Guido Van Rossum was using python only for system admininstration (troubleshoot, and maintain computer servers and networks ie, hardware) tasks. He was writing small scripts (one or two line commands only).\n",
        "\n",
        "## Python script was much more readable than C. So sysadmins in other firms and organisations could easily modify it for their specific tasks.\n",
        "\n",
        "## Others users of Python thought why not use Python for numerical calculations because it was so English like. That is how NumPy was born in 1995.\n",
        "\n",
        "## Note that in English we write `NumPy` (camel case) and in python language itself it is written in all small case `numpy`.  \n",
        "------------------------\n",
        "------------------------\n"
      ],
      "metadata": {
        "id": "ribEhWtThLbS"
      }
    },
    {
      "cell_type": "markdown",
      "source": [
        "# https://numpy.org/doc/stable/reference/random/index.html\n",
        "\n",
        "# From the link above\n",
        "\n",
        "# The `numpy.random` module implements pseudo-random number generators (PRNGs or RNGs, for short) with the ability to draw samples.\n"
      ],
      "metadata": {
        "id": "XA2alrhjGosF"
      }
    },
    {
      "cell_type": "code",
      "source": [
        "my_rng = np.random.default_rng(seed=2023) # I can specify the seed hence my_rng\n",
        "my_rng # This is what is called a Bit-Generator"
      ],
      "metadata": {
        "id": "pJSNxMGuSZKB",
        "colab": {
          "base_uri": "https://localhost:8080/",
          "height": 55
        },
        "outputId": "fcd5ddae-b180-4ff7-aeca-b5c1500f5774"
      },
      "execution_count": 64,
      "outputs": [
        {
          "output_type": "display_data",
          "data": {
            "text/plain": [
              "<IPython.core.display.Javascript object>"
            ],
            "application/javascript": [
              "\n",
              "  for (rule of document.styleSheets[0].cssRules){\n",
              "    if (rule.selectorText=='body') {\n",
              "      rule.style.fontSize = '30px'\n",
              "      rule.style.color = 'darkblue'\n",
              "      break\n",
              "    }\n",
              "  }\n",
              "  "
            ]
          },
          "metadata": {}
        },
        {
          "output_type": "execute_result",
          "data": {
            "text/plain": [
              "Generator(PCG64) at 0x7DA5DA9E4580"
            ]
          },
          "metadata": {},
          "execution_count": 64
        }
      ]
    },
    {
      "cell_type": "markdown",
      "source": [],
      "metadata": {
        "id": "MtM9TzeTLl-h"
      }
    },
    {
      "cell_type": "markdown",
      "source": [
        "---\n",
        "---\n",
        "<font size = 8 color = red face = Monospace>\n",
        "my_rng.integers(low = 0, high = 10, size = 7)\n",
        "</font>\n",
        "\n",
        "## Here high value will not included by default. So idea of half open interval [1, 10) is applied.\n",
        "\n",
        "## Here is a way of understanding this :\n",
        "\n",
        "## From the population of numbers comprising numbers 1 to 10 draw a sample of size 7  \n",
        "---\n",
        "---"
      ],
      "metadata": {
        "id": "PcKbM69rjXzH"
      }
    },
    {
      "cell_type": "code",
      "source": [
        "my_rng = np.random.default_rng(seed=2023) # I can specify the seed hence my_rng\n",
        "my_rng"
      ],
      "metadata": {
        "colab": {
          "base_uri": "https://localhost:8080/",
          "height": 55
        },
        "id": "qyWzPOgvS5Lp",
        "outputId": "727e4583-ea4e-4f9e-d559-fb314c6b8af5"
      },
      "execution_count": 65,
      "outputs": [
        {
          "output_type": "display_data",
          "data": {
            "text/plain": [
              "<IPython.core.display.Javascript object>"
            ],
            "application/javascript": [
              "\n",
              "  for (rule of document.styleSheets[0].cssRules){\n",
              "    if (rule.selectorText=='body') {\n",
              "      rule.style.fontSize = '30px'\n",
              "      rule.style.color = 'darkblue'\n",
              "      break\n",
              "    }\n",
              "  }\n",
              "  "
            ]
          },
          "metadata": {}
        },
        {
          "output_type": "execute_result",
          "data": {
            "text/plain": [
              "Generator(PCG64) at 0x7DA5DA9E49E0"
            ]
          },
          "metadata": {},
          "execution_count": 65
        }
      ]
    },
    {
      "cell_type": "code",
      "source": [
        "# rand_1D = my_rng.integers(low = 2, high = 12, size = 7)\n",
        "rand_1D = my_rng.integers(low = 2, high = 12, size = 50)\n",
        "print(rand_1D) # from sequence of 10 numbers, draw a sample of 50\n",
        "# so there will be some repeats\n",
        "\n",
        "## Every time you run this code cell a new set of random values is generated.\n",
        "## Please try this yourself.\n",
        "# Check how may random numbers were generated.\n",
        "len(rand_1D) # 50 because we specified size = 50 above"
      ],
      "metadata": {
        "colab": {
          "base_uri": "https://localhost:8080/",
          "height": 188
        },
        "id": "HIPXmkaj3qhk",
        "outputId": "b6025177-240b-426b-9d96-e1c306397712"
      },
      "execution_count": 66,
      "outputs": [
        {
          "output_type": "display_data",
          "data": {
            "text/plain": [
              "<IPython.core.display.Javascript object>"
            ],
            "application/javascript": [
              "\n",
              "  for (rule of document.styleSheets[0].cssRules){\n",
              "    if (rule.selectorText=='body') {\n",
              "      rule.style.fontSize = '30px'\n",
              "      rule.style.color = 'darkblue'\n",
              "      break\n",
              "    }\n",
              "  }\n",
              "  "
            ]
          },
          "metadata": {}
        },
        {
          "output_type": "stream",
          "name": "stdout",
          "text": [
            "[ 6  2  3  4  4  3  7  6  4  8  2  7  4  9  4  7  6 10  3  3  3  7  5 10\n",
            "  4  3  7  8  2  4  3 10  5  7  8  6  6  5  9 11 10  9  9  6  3 11  8  6\n",
            " 10  4]\n"
          ]
        },
        {
          "output_type": "execute_result",
          "data": {
            "text/plain": [
              "50"
            ]
          },
          "metadata": {},
          "execution_count": 66
        }
      ]
    },
    {
      "cell_type": "markdown",
      "source": [
        "\n",
        "---\n",
        "---\n",
        "## We can also write\n",
        "<font size = 8 color = red face = Monospace>\n",
        "my_rng.integers(10, size = 7) <br>\n",
        "This is the usual way of writing\n",
        "</font>\n",
        "\n",
        "## Here we have written only 10 as first argument. NO high or low value was specified. In this case, this method  `my_rng.integers( )` will consider that high value = 10, and assume low value = 0.\n",
        "\n",
        "## We have seen in lists earlier that `my.list[:4]` is short hand for `my.list[0:4]`.\n",
        "\n",
        "\n",
        "<font size = 8 color = red face = Monospace>\n",
        "We often drop the starting value of zero to save repeated typing.\n",
        "</font>\n",
        "\n",
        "\n",
        "---\n",
        "---\n"
      ],
      "metadata": {
        "id": "7uAqa-n1rgpU"
      }
    },
    {
      "cell_type": "markdown",
      "source": [
        "\n",
        "## Hence below  \n",
        "<font size = 8 color = red face = Monospace>\n",
        "my_rng.integers(10, size = (2,3))\n",
        "</font>\n",
        "\n",
        "## ...means from population of numbers from [0,10) draw a sample $ 2 \\times 3 = 6$ and place them\n",
        "\n",
        "## in an array of 2 rows and 3 columns\n",
        "---\n",
        "---"
      ],
      "metadata": {
        "id": "lBFzC4qEtLzl"
      }
    },
    {
      "cell_type": "code",
      "source": [
        "rand_2D_T = my_rng.integers(10, size = (2,3))\n",
        "rand_2D = rand_2D_T #= my_rng.integers(10, size = (2,3))\n",
        "\n",
        "rand_2D_L = my_rng.integers(10, size = [2,3])\n",
        "rand_2D_T, rand_2D_L"
      ],
      "metadata": {
        "colab": {
          "base_uri": "https://localhost:8080/",
          "height": 168
        },
        "id": "qfAuEB8FTgXM",
        "outputId": "0d723786-1f71-46b3-8b12-4afc1f03f16e"
      },
      "execution_count": 67,
      "outputs": [
        {
          "output_type": "display_data",
          "data": {
            "text/plain": [
              "<IPython.core.display.Javascript object>"
            ],
            "application/javascript": [
              "\n",
              "  for (rule of document.styleSheets[0].cssRules){\n",
              "    if (rule.selectorText=='body') {\n",
              "      rule.style.fontSize = '30px'\n",
              "      rule.style.color = 'darkblue'\n",
              "      break\n",
              "    }\n",
              "  }\n",
              "  "
            ]
          },
          "metadata": {}
        },
        {
          "output_type": "execute_result",
          "data": {
            "text/plain": [
              "(array([[6, 9, 0],\n",
              "        [7, 5, 8]]),\n",
              " array([[8, 1, 7],\n",
              "        [8, 8, 8]]))"
            ]
          },
          "metadata": {},
          "execution_count": 67
        }
      ]
    },
    {
      "cell_type": "code",
      "source": [
        "rand_3D = my_rng.integers(6, size = (4, 2, 3))\n",
        "rand_3D"
      ],
      "metadata": {
        "colab": {
          "base_uri": "https://localhost:8080/",
          "height": 433
        },
        "id": "IiRqadvpTg8A",
        "outputId": "d07919fb-2db6-4444-8533-6f9bfa3f8055"
      },
      "execution_count": 68,
      "outputs": [
        {
          "output_type": "display_data",
          "data": {
            "text/plain": [
              "<IPython.core.display.Javascript object>"
            ],
            "application/javascript": [
              "\n",
              "  for (rule of document.styleSheets[0].cssRules){\n",
              "    if (rule.selectorText=='body') {\n",
              "      rule.style.fontSize = '30px'\n",
              "      rule.style.color = 'darkblue'\n",
              "      break\n",
              "    }\n",
              "  }\n",
              "  "
            ]
          },
          "metadata": {}
        },
        {
          "output_type": "execute_result",
          "data": {
            "text/plain": [
              "array([[[0, 5, 4],\n",
              "        [3, 1, 5]],\n",
              "\n",
              "       [[2, 2, 1],\n",
              "        [1, 4, 5]],\n",
              "\n",
              "       [[0, 5, 3],\n",
              "        [2, 5, 1]],\n",
              "\n",
              "       [[0, 4, 1],\n",
              "        [1, 5, 5]]])"
            ]
          },
          "metadata": {},
          "execution_count": 68
        }
      ]
    },
    {
      "cell_type": "markdown",
      "source": [
        "# We next specify data type if so desired in quotes as `int16`. This will affect how much memory is taken up by the array, compared to say `int64`."
      ],
      "metadata": {
        "id": "gDibRhjiVjC_"
      }
    },
    {
      "cell_type": "code",
      "source": [
        "rand_4D = my_rng.integers(20, size = (4, 2, 3, 2), dtype = 'int16')\n",
        "rand_4D"
      ],
      "metadata": {
        "colab": {
          "base_uri": "https://localhost:8080/",
          "height": 1000
        },
        "id": "02giXzJtU805",
        "outputId": "3e732e3a-8fc0-4d4d-e967-62891e65a826"
      },
      "execution_count": 69,
      "outputs": [
        {
          "output_type": "display_data",
          "data": {
            "text/plain": [
              "<IPython.core.display.Javascript object>"
            ],
            "application/javascript": [
              "\n",
              "  for (rule of document.styleSheets[0].cssRules){\n",
              "    if (rule.selectorText=='body') {\n",
              "      rule.style.fontSize = '30px'\n",
              "      rule.style.color = 'darkblue'\n",
              "      break\n",
              "    }\n",
              "  }\n",
              "  "
            ]
          },
          "metadata": {}
        },
        {
          "output_type": "execute_result",
          "data": {
            "text/plain": [
              "array([[[[ 7,  9],\n",
              "         [ 6,  6],\n",
              "         [19,  7]],\n",
              "\n",
              "        [[ 5,  4],\n",
              "         [12,  3],\n",
              "         [11,  3]]],\n",
              "\n",
              "\n",
              "       [[[15, 19],\n",
              "         [19,  3],\n",
              "         [13,  7]],\n",
              "\n",
              "        [[ 9, 17],\n",
              "         [ 8,  8],\n",
              "         [17, 16]]],\n",
              "\n",
              "\n",
              "       [[[12, 11],\n",
              "         [ 1,  8],\n",
              "         [10,  7]],\n",
              "\n",
              "        [[16,  1],\n",
              "         [ 1,  2],\n",
              "         [19, 13]]],\n",
              "\n",
              "\n",
              "       [[[10,  4],\n",
              "         [11,  4],\n",
              "         [13, 19]],\n",
              "\n",
              "        [[ 8, 13],\n",
              "         [19, 12],\n",
              "         [16,  1]]]], dtype=int16)"
            ]
          },
          "metadata": {},
          "execution_count": 69
        }
      ]
    },
    {
      "cell_type": "code",
      "source": [
        "#np.array(dir(rand_1D)).reshape(55,3) # entire list of attributes"
      ],
      "metadata": {
        "id": "2KGfK041TpmZ",
        "colab": {
          "base_uri": "https://localhost:8080/",
          "height": 17
        },
        "outputId": "d4e89f55-d0e3-448a-f95b-6b8d2285c707"
      },
      "execution_count": 70,
      "outputs": [
        {
          "output_type": "display_data",
          "data": {
            "text/plain": [
              "<IPython.core.display.Javascript object>"
            ],
            "application/javascript": [
              "\n",
              "  for (rule of document.styleSheets[0].cssRules){\n",
              "    if (rule.selectorText=='body') {\n",
              "      rule.style.fontSize = '30px'\n",
              "      rule.style.color = 'darkblue'\n",
              "      break\n",
              "    }\n",
              "  }\n",
              "  "
            ]
          },
          "metadata": {}
        }
      ]
    },
    {
      "cell_type": "markdown",
      "source": [
        "# Important Attributes\n",
        "- ndim\n",
        "- shape (IMP: as it is used in pandas also)\n",
        "- size\n",
        "- dtype"
      ],
      "metadata": {
        "id": "Tns36a9eT54G"
      }
    },
    {
      "cell_type": "code",
      "source": [
        "# @title\n",
        "print(f'rand_2D dimensions is {rand_2D.ndim}')\n",
        "print(f'rand_2D shape(rows , cols) is {rand_2D.shape}')\n",
        "print(f'rand_3D shape(rows , cols) is {rand_3D.shape}')\n",
        "print(f'rand_4D shape(rows , cols) is {rand_4D.shape}')"
      ],
      "metadata": {
        "colab": {
          "base_uri": "https://localhost:8080/",
          "height": 168
        },
        "id": "bffoEV6STz62",
        "outputId": "263c96e4-4599-4579-f014-939099dcde94"
      },
      "execution_count": 71,
      "outputs": [
        {
          "output_type": "display_data",
          "data": {
            "text/plain": [
              "<IPython.core.display.Javascript object>"
            ],
            "application/javascript": [
              "\n",
              "  for (rule of document.styleSheets[0].cssRules){\n",
              "    if (rule.selectorText=='body') {\n",
              "      rule.style.fontSize = '30px'\n",
              "      rule.style.color = 'darkblue'\n",
              "      break\n",
              "    }\n",
              "  }\n",
              "  "
            ]
          },
          "metadata": {}
        },
        {
          "output_type": "stream",
          "name": "stdout",
          "text": [
            "rand_2D dimensions is 2\n",
            "rand_2D shape(rows , cols) is (2, 3)\n",
            "rand_3D shape(rows , cols) is (4, 2, 3)\n",
            "rand_4D shape(rows , cols) is (4, 2, 3, 2)\n"
          ]
        }
      ]
    },
    {
      "cell_type": "code",
      "source": [
        "print(f'rand_3D size(no of elements) is {rand_3D.size}')\n",
        "print(f'rand_2D data type is {rand_2D.dtype}, Rows is {rand_2D.shape[0]}, Cols is {rand_2D.shape[1]}')"
      ],
      "metadata": {
        "colab": {
          "base_uri": "https://localhost:8080/",
          "height": 93
        },
        "id": "v5ssiVyJ-VT9",
        "outputId": "84604ab7-cd8f-46b6-dc49-4b33afa0c695"
      },
      "execution_count": 72,
      "outputs": [
        {
          "output_type": "display_data",
          "data": {
            "text/plain": [
              "<IPython.core.display.Javascript object>"
            ],
            "application/javascript": [
              "\n",
              "  for (rule of document.styleSheets[0].cssRules){\n",
              "    if (rule.selectorText=='body') {\n",
              "      rule.style.fontSize = '30px'\n",
              "      rule.style.color = 'darkblue'\n",
              "      break\n",
              "    }\n",
              "  }\n",
              "  "
            ]
          },
          "metadata": {}
        },
        {
          "output_type": "stream",
          "name": "stdout",
          "text": [
            "rand_3D size(no of elements) is 24\n",
            "rand_2D data type is int64, Rows is 2, Cols is 3\n"
          ]
        }
      ]
    },
    {
      "cell_type": "markdown",
      "source": [
        "# Working with NumPy `array` : How to Access One Element only\n",
        "# The similar approach as in lists - we use square brackets\n",
        "# Indexing of elements starts with 0"
      ],
      "metadata": {
        "id": "8EXzx-Zb_8Du"
      }
    },
    {
      "cell_type": "code",
      "source": [
        "rand_2D"
      ],
      "metadata": {
        "colab": {
          "base_uri": "https://localhost:8080/",
          "height": 93
        },
        "id": "OKc-_ufiAKSd",
        "outputId": "f23e0ec5-efa3-4dfc-e427-1cb4eb93352d"
      },
      "execution_count": 73,
      "outputs": [
        {
          "output_type": "display_data",
          "data": {
            "text/plain": [
              "<IPython.core.display.Javascript object>"
            ],
            "application/javascript": [
              "\n",
              "  for (rule of document.styleSheets[0].cssRules){\n",
              "    if (rule.selectorText=='body') {\n",
              "      rule.style.fontSize = '30px'\n",
              "      rule.style.color = 'darkblue'\n",
              "      break\n",
              "    }\n",
              "  }\n",
              "  "
            ]
          },
          "metadata": {}
        },
        {
          "output_type": "execute_result",
          "data": {
            "text/plain": [
              "array([[6, 9, 0],\n",
              "       [7, 5, 8]])"
            ]
          },
          "metadata": {},
          "execution_count": 73
        }
      ]
    },
    {
      "cell_type": "code",
      "source": [
        "rand_2D[0] # shows up as a array object\n",
        "type(rand_2D[0]) # confirms doubly that its an array\n",
        "print(rand_2D[0]) # print to Output\n",
        "type(print(rand_2D[0])) # drops the array attrib makes it NoneType though it appears like a list\n",
        "## Why because print directs results to Output and does not store in memory.\n",
        "## If an object is not stored in memory, python does not need to store its data type.\n",
        "## So its shows NoneType"
      ],
      "metadata": {
        "colab": {
          "base_uri": "https://localhost:8080/",
          "height": 131
        },
        "id": "MoV_mZVFAokV",
        "outputId": "c5d1c963-a9f4-456c-b975-c96e7eec6812"
      },
      "execution_count": 74,
      "outputs": [
        {
          "output_type": "display_data",
          "data": {
            "text/plain": [
              "<IPython.core.display.Javascript object>"
            ],
            "application/javascript": [
              "\n",
              "  for (rule of document.styleSheets[0].cssRules){\n",
              "    if (rule.selectorText=='body') {\n",
              "      rule.style.fontSize = '30px'\n",
              "      rule.style.color = 'darkblue'\n",
              "      break\n",
              "    }\n",
              "  }\n",
              "  "
            ]
          },
          "metadata": {}
        },
        {
          "output_type": "stream",
          "name": "stdout",
          "text": [
            "[6 9 0]\n",
            "[6 9 0]\n"
          ]
        },
        {
          "output_type": "execute_result",
          "data": {
            "text/plain": [
              "NoneType"
            ]
          },
          "metadata": {},
          "execution_count": 74
        }
      ]
    },
    {
      "cell_type": "code",
      "source": [
        "rand_3D"
      ],
      "metadata": {
        "colab": {
          "base_uri": "https://localhost:8080/",
          "height": 433
        },
        "id": "3NuvKSJJA8NX",
        "outputId": "924df038-34c4-4687-94e7-7a4f05569461"
      },
      "execution_count": 75,
      "outputs": [
        {
          "output_type": "display_data",
          "data": {
            "text/plain": [
              "<IPython.core.display.Javascript object>"
            ],
            "application/javascript": [
              "\n",
              "  for (rule of document.styleSheets[0].cssRules){\n",
              "    if (rule.selectorText=='body') {\n",
              "      rule.style.fontSize = '30px'\n",
              "      rule.style.color = 'darkblue'\n",
              "      break\n",
              "    }\n",
              "  }\n",
              "  "
            ]
          },
          "metadata": {}
        },
        {
          "output_type": "execute_result",
          "data": {
            "text/plain": [
              "array([[[0, 5, 4],\n",
              "        [3, 1, 5]],\n",
              "\n",
              "       [[2, 2, 1],\n",
              "        [1, 4, 5]],\n",
              "\n",
              "       [[0, 5, 3],\n",
              "        [2, 5, 1]],\n",
              "\n",
              "       [[0, 4, 1],\n",
              "        [1, 5, 5]]])"
            ]
          },
          "metadata": {},
          "execution_count": 75
        }
      ]
    },
    {
      "cell_type": "markdown",
      "source": [
        "# Indexing from end with [-1] : Last element"
      ],
      "metadata": {
        "id": "bzTUAdhzCSRt"
      }
    },
    {
      "cell_type": "code",
      "source": [
        "rand_3D\n",
        "rand_3D[-1]\n"
      ],
      "metadata": {
        "colab": {
          "base_uri": "https://localhost:8080/",
          "height": 93
        },
        "id": "Y2nyREmcCM61",
        "outputId": "a90b7d89-d869-492c-ccb1-a369fea92501"
      },
      "execution_count": 76,
      "outputs": [
        {
          "output_type": "display_data",
          "data": {
            "text/plain": [
              "<IPython.core.display.Javascript object>"
            ],
            "application/javascript": [
              "\n",
              "  for (rule of document.styleSheets[0].cssRules){\n",
              "    if (rule.selectorText=='body') {\n",
              "      rule.style.fontSize = '30px'\n",
              "      rule.style.color = 'darkblue'\n",
              "      break\n",
              "    }\n",
              "  }\n",
              "  "
            ]
          },
          "metadata": {}
        },
        {
          "output_type": "execute_result",
          "data": {
            "text/plain": [
              "array([[0, 4, 1],\n",
              "       [1, 5, 5]])"
            ]
          },
          "metadata": {},
          "execution_count": 76
        }
      ]
    },
    {
      "cell_type": "markdown",
      "source": [
        "# In higher dim arrays we can use (row, column, depth) format to extract parts of array\n",
        "# Recall that indexing starts with 0, So shape (4,2,3) You have to be careful that your indexing is one less than the `my_arr.shape( )` results\n",
        "# If shape is (4,2,3) indexes can be no more than  [4-1, 2-1, 3-1]"
      ],
      "metadata": {
        "id": "tyJ43OJhCeOa"
      }
    },
    {
      "cell_type": "code",
      "source": [
        "rand_3D\n",
        "rand_3D.shape # (4,2,3)"
      ],
      "metadata": {
        "colab": {
          "base_uri": "https://localhost:8080/",
          "height": 55
        },
        "id": "i8ZlDBUlCuwL",
        "outputId": "6f59af9a-d2dc-4eb0-d24c-90eedc575e69"
      },
      "execution_count": 77,
      "outputs": [
        {
          "output_type": "display_data",
          "data": {
            "text/plain": [
              "<IPython.core.display.Javascript object>"
            ],
            "application/javascript": [
              "\n",
              "  for (rule of document.styleSheets[0].cssRules){\n",
              "    if (rule.selectorText=='body') {\n",
              "      rule.style.fontSize = '30px'\n",
              "      rule.style.color = 'darkblue'\n",
              "      break\n",
              "    }\n",
              "  }\n",
              "  "
            ]
          },
          "metadata": {}
        },
        {
          "output_type": "execute_result",
          "data": {
            "text/plain": [
              "(4, 2, 3)"
            ]
          },
          "metadata": {},
          "execution_count": 77
        }
      ]
    },
    {
      "cell_type": "code",
      "source": [
        "\n",
        "rand_3D[3,1,1]\n",
        "# rand_3D[4,1,1] # throws an error\n",
        "rand_3D[3,1,2] # recall that indexing starts with 0"
      ],
      "metadata": {
        "colab": {
          "base_uri": "https://localhost:8080/",
          "height": 55
        },
        "id": "-zIseGwM-uQ8",
        "outputId": "37f319d4-cd2c-47c0-c48f-125763a663fb"
      },
      "execution_count": 78,
      "outputs": [
        {
          "output_type": "display_data",
          "data": {
            "text/plain": [
              "<IPython.core.display.Javascript object>"
            ],
            "application/javascript": [
              "\n",
              "  for (rule of document.styleSheets[0].cssRules){\n",
              "    if (rule.selectorText=='body') {\n",
              "      rule.style.fontSize = '30px'\n",
              "      rule.style.color = 'darkblue'\n",
              "      break\n",
              "    }\n",
              "  }\n",
              "  "
            ]
          },
          "metadata": {}
        },
        {
          "output_type": "execute_result",
          "data": {
            "text/plain": [
              "np.int64(5)"
            ]
          },
          "metadata": {},
          "execution_count": 78
        }
      ]
    },
    {
      "cell_type": "code",
      "source": [],
      "metadata": {
        "id": "px-f4uNt3emT"
      },
      "execution_count": 78,
      "outputs": []
    },
    {
      "cell_type": "markdown",
      "source": [
        "# We can reset or alter the values of an array using `[  ]` square brackets"
      ],
      "metadata": {
        "id": "1F3RqPP0FO9t"
      }
    },
    {
      "cell_type": "code",
      "source": [
        "rand_2D # before"
      ],
      "metadata": {
        "colab": {
          "base_uri": "https://localhost:8080/",
          "height": 93
        },
        "id": "phzGA1NTFUxM",
        "outputId": "77cd31e9-7d65-4aa6-8015-16235e9012f1"
      },
      "execution_count": 79,
      "outputs": [
        {
          "output_type": "display_data",
          "data": {
            "text/plain": [
              "<IPython.core.display.Javascript object>"
            ],
            "application/javascript": [
              "\n",
              "  for (rule of document.styleSheets[0].cssRules){\n",
              "    if (rule.selectorText=='body') {\n",
              "      rule.style.fontSize = '30px'\n",
              "      rule.style.color = 'darkblue'\n",
              "      break\n",
              "    }\n",
              "  }\n",
              "  "
            ]
          },
          "metadata": {}
        },
        {
          "output_type": "execute_result",
          "data": {
            "text/plain": [
              "array([[6, 9, 0],\n",
              "       [7, 5, 8]])"
            ]
          },
          "metadata": {},
          "execution_count": 79
        }
      ]
    },
    {
      "cell_type": "code",
      "source": [
        "\n",
        "rand_2D[0, 1]\n",
        "rand_2D[0, 1] = 9"
      ],
      "metadata": {
        "id": "5GBCujjx_FB7",
        "colab": {
          "base_uri": "https://localhost:8080/",
          "height": 17
        },
        "outputId": "efc68c7e-d85e-42c0-8c7d-2e11442e458e"
      },
      "execution_count": 80,
      "outputs": [
        {
          "output_type": "display_data",
          "data": {
            "text/plain": [
              "<IPython.core.display.Javascript object>"
            ],
            "application/javascript": [
              "\n",
              "  for (rule of document.styleSheets[0].cssRules){\n",
              "    if (rule.selectorText=='body') {\n",
              "      rule.style.fontSize = '30px'\n",
              "      rule.style.color = 'darkblue'\n",
              "      break\n",
              "    }\n",
              "  }\n",
              "  "
            ]
          },
          "metadata": {}
        }
      ]
    },
    {
      "cell_type": "code",
      "source": [
        "\n",
        "rand_2D # after"
      ],
      "metadata": {
        "colab": {
          "base_uri": "https://localhost:8080/",
          "height": 93
        },
        "id": "LZ4ll3Sh_GUa",
        "outputId": "f08e52b2-2c0f-4e8d-a60b-3ad65c5a92af"
      },
      "execution_count": 81,
      "outputs": [
        {
          "output_type": "display_data",
          "data": {
            "text/plain": [
              "<IPython.core.display.Javascript object>"
            ],
            "application/javascript": [
              "\n",
              "  for (rule of document.styleSheets[0].cssRules){\n",
              "    if (rule.selectorText=='body') {\n",
              "      rule.style.fontSize = '30px'\n",
              "      rule.style.color = 'darkblue'\n",
              "      break\n",
              "    }\n",
              "  }\n",
              "  "
            ]
          },
          "metadata": {}
        },
        {
          "output_type": "execute_result",
          "data": {
            "text/plain": [
              "array([[6, 9, 0],\n",
              "       [7, 5, 8]])"
            ]
          },
          "metadata": {},
          "execution_count": 81
        }
      ]
    },
    {
      "cell_type": "markdown",
      "source": [
        "# How to get /access subarrays : Slicing Arrays\n",
        "## We take an example of\n",
        "\n",
        "\n",
        "1D array"
      ],
      "metadata": {
        "id": "nxlk24T-3q1C"
      }
    },
    {
      "cell_type": "code",
      "source": [
        "print(rand_1D)\n",
        "len(rand_1D) # 7\n",
        "rand_1D[:4] # Get first four elements -- index 0 to index 3; ie using half-open idea [0, 4)"
      ],
      "metadata": {
        "colab": {
          "base_uri": "https://localhost:8080/",
          "height": 188
        },
        "id": "D5nwKiA53yb8",
        "outputId": "0b67d6ed-16f3-4f1c-f000-7b2001db9ee5"
      },
      "execution_count": 82,
      "outputs": [
        {
          "output_type": "display_data",
          "data": {
            "text/plain": [
              "<IPython.core.display.Javascript object>"
            ],
            "application/javascript": [
              "\n",
              "  for (rule of document.styleSheets[0].cssRules){\n",
              "    if (rule.selectorText=='body') {\n",
              "      rule.style.fontSize = '30px'\n",
              "      rule.style.color = 'darkblue'\n",
              "      break\n",
              "    }\n",
              "  }\n",
              "  "
            ]
          },
          "metadata": {}
        },
        {
          "output_type": "stream",
          "name": "stdout",
          "text": [
            "[ 6  2  3  4  4  3  7  6  4  8  2  7  4  9  4  7  6 10  3  3  3  7  5 10\n",
            "  4  3  7  8  2  4  3 10  5  7  8  6  6  5  9 11 10  9  9  6  3 11  8  6\n",
            " 10  4]\n"
          ]
        },
        {
          "output_type": "execute_result",
          "data": {
            "text/plain": [
              "array([6, 2, 3, 4])"
            ]
          },
          "metadata": {},
          "execution_count": 82
        }
      ]
    },
    {
      "cell_type": "code",
      "source": [
        "rand_1D[2:] # Get all elements after index 2 ie, from index 3 to end\n",
        "rand_1D[1:4] # Get elements from in beetween using index [1, 4)"
      ],
      "metadata": {
        "colab": {
          "base_uri": "https://localhost:8080/",
          "height": 55
        },
        "id": "pywZVqrE4bQM",
        "outputId": "d967f797-c54f-4653-d14b-c7fad2390c24"
      },
      "execution_count": 83,
      "outputs": [
        {
          "output_type": "display_data",
          "data": {
            "text/plain": [
              "<IPython.core.display.Javascript object>"
            ],
            "application/javascript": [
              "\n",
              "  for (rule of document.styleSheets[0].cssRules){\n",
              "    if (rule.selectorText=='body') {\n",
              "      rule.style.fontSize = '30px'\n",
              "      rule.style.color = 'darkblue'\n",
              "      break\n",
              "    }\n",
              "  }\n",
              "  "
            ]
          },
          "metadata": {}
        },
        {
          "output_type": "execute_result",
          "data": {
            "text/plain": [
              "array([2, 3, 4])"
            ]
          },
          "metadata": {},
          "execution_count": 83
        }
      ]
    },
    {
      "cell_type": "markdown",
      "source": [
        "# rand[ start: end: step]\n",
        "<font color = blue size = 14>\n",
        "rand[ start: end: step]"
      ],
      "metadata": {
        "id": "G19cPZO-7pEb"
      }
    },
    {
      "cell_type": "code",
      "source": [
        "print(rand_1D)\n",
        "print(rand_1D [ : : 2]) # every second element\n",
        "rand_1D [ : : -1] # reverse the order of elements to show. But not in-place; the array itself is not affected\n",
        "rand_1D [ 3: : -2] # every second element from index 3,  order is reveresed"
      ],
      "metadata": {
        "colab": {
          "base_uri": "https://localhost:8080/",
          "height": 264
        },
        "id": "DQxagVMU6OTL",
        "outputId": "41c82596-1b72-4007-dd64-f885cfaba141"
      },
      "execution_count": 84,
      "outputs": [
        {
          "output_type": "display_data",
          "data": {
            "text/plain": [
              "<IPython.core.display.Javascript object>"
            ],
            "application/javascript": [
              "\n",
              "  for (rule of document.styleSheets[0].cssRules){\n",
              "    if (rule.selectorText=='body') {\n",
              "      rule.style.fontSize = '30px'\n",
              "      rule.style.color = 'darkblue'\n",
              "      break\n",
              "    }\n",
              "  }\n",
              "  "
            ]
          },
          "metadata": {}
        },
        {
          "output_type": "stream",
          "name": "stdout",
          "text": [
            "[ 6  2  3  4  4  3  7  6  4  8  2  7  4  9  4  7  6 10  3  3  3  7  5 10\n",
            "  4  3  7  8  2  4  3 10  5  7  8  6  6  5  9 11 10  9  9  6  3 11  8  6\n",
            " 10  4]\n",
            "[ 6  3  4  7  4  2  4  4  6  3  3  5  4  7  2  3  5  8  6  9 10  9  3  8\n",
            " 10]\n"
          ]
        },
        {
          "output_type": "execute_result",
          "data": {
            "text/plain": [
              "array([4, 2])"
            ]
          },
          "metadata": {},
          "execution_count": 84
        }
      ]
    },
    {
      "cell_type": "markdown",
      "source": [
        "# Working with Higher-Dimensional Arrays"
      ],
      "metadata": {
        "id": "56CiU6NJ5erl"
      }
    },
    {
      "cell_type": "code",
      "source": [
        "rand_2D\n",
        "rand_2D [:2, :2] # first two rows ; first 2 columns"
      ],
      "metadata": {
        "colab": {
          "base_uri": "https://localhost:8080/",
          "height": 93
        },
        "id": "lbpzEiVb5cO1",
        "outputId": "a2a35665-7bdb-4e61-ea35-1f6e64c6274e"
      },
      "execution_count": 85,
      "outputs": [
        {
          "output_type": "display_data",
          "data": {
            "text/plain": [
              "<IPython.core.display.Javascript object>"
            ],
            "application/javascript": [
              "\n",
              "  for (rule of document.styleSheets[0].cssRules){\n",
              "    if (rule.selectorText=='body') {\n",
              "      rule.style.fontSize = '30px'\n",
              "      rule.style.color = 'darkblue'\n",
              "      break\n",
              "    }\n",
              "  }\n",
              "  "
            ]
          },
          "metadata": {}
        },
        {
          "output_type": "execute_result",
          "data": {
            "text/plain": [
              "array([[6, 9],\n",
              "       [7, 5]])"
            ]
          },
          "metadata": {},
          "execution_count": 85
        }
      ]
    },
    {
      "cell_type": "markdown",
      "source": [
        "# Caution: Accessing more rows than existing in array, will work without throwing an error\n",
        "# Use `.shape()` to assess the size of an nD array not index numbers"
      ],
      "metadata": {
        "id": "C2Qk_jO7BG1j"
      }
    },
    {
      "cell_type": "code",
      "source": [
        "print(rand_2D)\n",
        "rand_2D.ndim  # has two rows; this works\n",
        "rand_2D.shape  # 2,3 which means index of max (1,2) must be used\n",
        "rand_2D[:2, 0]  # Row[0,2) Col [0] has two rows slicing works\n",
        "# Surprise\n",
        "rand_2D[:2, 0].shape  # Extracted array has shape 2 rows in one column, but looks like 1 row 2 columns"
      ],
      "metadata": {
        "colab": {
          "base_uri": "https://localhost:8080/",
          "height": 131
        },
        "id": "4nEGgEnD_0Ph",
        "outputId": "c75ddbea-2882-4333-e32f-1fb5c18f2387"
      },
      "execution_count": 86,
      "outputs": [
        {
          "output_type": "display_data",
          "data": {
            "text/plain": [
              "<IPython.core.display.Javascript object>"
            ],
            "application/javascript": [
              "\n",
              "  for (rule of document.styleSheets[0].cssRules){\n",
              "    if (rule.selectorText=='body') {\n",
              "      rule.style.fontSize = '30px'\n",
              "      rule.style.color = 'darkblue'\n",
              "      break\n",
              "    }\n",
              "  }\n",
              "  "
            ]
          },
          "metadata": {}
        },
        {
          "output_type": "stream",
          "name": "stdout",
          "text": [
            "[[6 9 0]\n",
            " [7 5 8]]\n"
          ]
        },
        {
          "output_type": "execute_result",
          "data": {
            "text/plain": [
              "(2,)"
            ]
          },
          "metadata": {},
          "execution_count": 86
        }
      ]
    },
    {
      "cell_type": "code",
      "source": [
        "rand_2D[:3, 0]  # has two rows but slicing works, no error\n",
        "rand_2D[:4, 0]  # has two rows but slicing works, no error"
      ],
      "metadata": {
        "id": "qz4c2TlOD9Hh",
        "colab": {
          "base_uri": "https://localhost:8080/",
          "height": 55
        },
        "outputId": "2af26183-983a-48bf-9d0b-920943fa07a3"
      },
      "execution_count": 87,
      "outputs": [
        {
          "output_type": "display_data",
          "data": {
            "text/plain": [
              "<IPython.core.display.Javascript object>"
            ],
            "application/javascript": [
              "\n",
              "  for (rule of document.styleSheets[0].cssRules){\n",
              "    if (rule.selectorText=='body') {\n",
              "      rule.style.fontSize = '30px'\n",
              "      rule.style.color = 'darkblue'\n",
              "      break\n",
              "    }\n",
              "  }\n",
              "  "
            ]
          },
          "metadata": {}
        },
        {
          "output_type": "execute_result",
          "data": {
            "text/plain": [
              "array([6, 7])"
            ]
          },
          "metadata": {},
          "execution_count": 87
        }
      ]
    },
    {
      "cell_type": "code",
      "source": [
        "# Let's us generate a larger 2 D array to better show properties\n",
        "rand_2D1 = my_rng.integers(10, size = (4,5))\n",
        "print(rand_2D1)"
      ],
      "metadata": {
        "colab": {
          "base_uri": "https://localhost:8080/",
          "height": 168
        },
        "id": "mTA9-JeH3n5S",
        "outputId": "0e29f13e-58de-4814-b625-c3464fce7a04"
      },
      "execution_count": 88,
      "outputs": [
        {
          "output_type": "display_data",
          "data": {
            "text/plain": [
              "<IPython.core.display.Javascript object>"
            ],
            "application/javascript": [
              "\n",
              "  for (rule of document.styleSheets[0].cssRules){\n",
              "    if (rule.selectorText=='body') {\n",
              "      rule.style.fontSize = '30px'\n",
              "      rule.style.color = 'darkblue'\n",
              "      break\n",
              "    }\n",
              "  }\n",
              "  "
            ]
          },
          "metadata": {}
        },
        {
          "output_type": "stream",
          "name": "stdout",
          "text": [
            "[[0 4 9 4 5]\n",
            " [9 4 0 7 4]\n",
            " [0 5 3 4 5]\n",
            " [1 9 9 1 3]]\n"
          ]
        }
      ]
    },
    {
      "cell_type": "code",
      "source": [
        "\n",
        "rand_2D1[:2, :3] # Get Rows [0, 2) Cols [0, 3)\n",
        "rand_2D1[:3, : : 2] # Get All Rows [0, 3) ; Every 2nd column\n",
        "rand_2D1[::-1, ::-1] # Get All Rows All Columns But in reverse order"
      ],
      "metadata": {
        "colab": {
          "base_uri": "https://localhost:8080/",
          "height": 168
        },
        "id": "9N4_7XYpPqGI",
        "outputId": "08551bd4-320b-4b7b-f0df-3dbce3f0082d"
      },
      "execution_count": 89,
      "outputs": [
        {
          "output_type": "display_data",
          "data": {
            "text/plain": [
              "<IPython.core.display.Javascript object>"
            ],
            "application/javascript": [
              "\n",
              "  for (rule of document.styleSheets[0].cssRules){\n",
              "    if (rule.selectorText=='body') {\n",
              "      rule.style.fontSize = '30px'\n",
              "      rule.style.color = 'darkblue'\n",
              "      break\n",
              "    }\n",
              "  }\n",
              "  "
            ]
          },
          "metadata": {}
        },
        {
          "output_type": "execute_result",
          "data": {
            "text/plain": [
              "array([[3, 1, 9, 9, 1],\n",
              "       [5, 4, 3, 5, 0],\n",
              "       [4, 7, 0, 4, 9],\n",
              "       [5, 4, 9, 4, 0]])"
            ]
          },
          "metadata": {},
          "execution_count": 89
        }
      ]
    },
    {
      "cell_type": "markdown",
      "source": [
        "## Above we have an example of combining Indexing & Slicing for Extraction"
      ],
      "metadata": {
        "id": "QkDXe-NKQH7d"
      }
    },
    {
      "cell_type": "code",
      "source": [
        "\n",
        "print(rand_2D) # recall 2 D Array\n",
        "rand_2D[: , 0] # get first column, 2D Array hence comma is placed\n",
        "rand_2D[0 , :] # get first row,   ---ditto---"
      ],
      "metadata": {
        "colab": {
          "base_uri": "https://localhost:8080/",
          "height": 131
        },
        "id": "0sLPGLFiQYnB",
        "outputId": "69f5a10c-cb77-4832-a5b6-6e1a47ad6949"
      },
      "execution_count": 90,
      "outputs": [
        {
          "output_type": "display_data",
          "data": {
            "text/plain": [
              "<IPython.core.display.Javascript object>"
            ],
            "application/javascript": [
              "\n",
              "  for (rule of document.styleSheets[0].cssRules){\n",
              "    if (rule.selectorText=='body') {\n",
              "      rule.style.fontSize = '30px'\n",
              "      rule.style.color = 'darkblue'\n",
              "      break\n",
              "    }\n",
              "  }\n",
              "  "
            ]
          },
          "metadata": {}
        },
        {
          "output_type": "stream",
          "name": "stdout",
          "text": [
            "[[6 9 0]\n",
            " [7 5 8]]\n"
          ]
        },
        {
          "output_type": "execute_result",
          "data": {
            "text/plain": [
              "array([6, 9, 0])"
            ]
          },
          "metadata": {},
          "execution_count": 90
        }
      ]
    },
    {
      "cell_type": "markdown",
      "source": [
        "# Sub Arrays No Copy Views"
      ],
      "metadata": {
        "id": "pUJTIAWrRqen"
      }
    },
    {
      "cell_type": "code",
      "source": [
        "my_list_a = [12, 8, 5, 3]\n",
        "my_list_a\n"
      ],
      "metadata": {
        "colab": {
          "base_uri": "https://localhost:8080/",
          "height": 55
        },
        "id": "cMwkqww3Rvw2",
        "outputId": "e3151998-aab1-4a40-99f7-46b15808aae6"
      },
      "execution_count": 91,
      "outputs": [
        {
          "output_type": "display_data",
          "data": {
            "text/plain": [
              "<IPython.core.display.Javascript object>"
            ],
            "application/javascript": [
              "\n",
              "  for (rule of document.styleSheets[0].cssRules){\n",
              "    if (rule.selectorText=='body') {\n",
              "      rule.style.fontSize = '30px'\n",
              "      rule.style.color = 'darkblue'\n",
              "      break\n",
              "    }\n",
              "  }\n",
              "  "
            ]
          },
          "metadata": {}
        },
        {
          "output_type": "execute_result",
          "data": {
            "text/plain": [
              "[12, 8, 5, 3]"
            ]
          },
          "metadata": {},
          "execution_count": 91
        }
      ]
    },
    {
      "cell_type": "code",
      "source": [
        "my_list_b = my_list_a[:]  # Extract an all element list using slice `[:]`\n",
        "my_list_b\n"
      ],
      "metadata": {
        "colab": {
          "base_uri": "https://localhost:8080/",
          "height": 55
        },
        "id": "gC5_95_qnzC6",
        "outputId": "23fac10e-c0c7-440b-876b-1f7f894a6529"
      },
      "execution_count": 92,
      "outputs": [
        {
          "output_type": "display_data",
          "data": {
            "text/plain": [
              "<IPython.core.display.Javascript object>"
            ],
            "application/javascript": [
              "\n",
              "  for (rule of document.styleSheets[0].cssRules){\n",
              "    if (rule.selectorText=='body') {\n",
              "      rule.style.fontSize = '30px'\n",
              "      rule.style.color = 'darkblue'\n",
              "      break\n",
              "    }\n",
              "  }\n",
              "  "
            ]
          },
          "metadata": {}
        },
        {
          "output_type": "execute_result",
          "data": {
            "text/plain": [
              "[12, 8, 5, 3]"
            ]
          },
          "metadata": {},
          "execution_count": 92
        }
      ]
    },
    {
      "cell_type": "code",
      "source": [
        "my_list_b == my_list_a  # True -- checks for each element identical or not\n",
        "\n",
        "my_list_b is my_list_a  # False -- checks if both refer to same object\n"
      ],
      "metadata": {
        "colab": {
          "base_uri": "https://localhost:8080/",
          "height": 55
        },
        "id": "ABZATf_tn0nZ",
        "outputId": "88252548-379d-44dc-87d9-b7dca3634691"
      },
      "execution_count": 93,
      "outputs": [
        {
          "output_type": "display_data",
          "data": {
            "text/plain": [
              "<IPython.core.display.Javascript object>"
            ],
            "application/javascript": [
              "\n",
              "  for (rule of document.styleSheets[0].cssRules){\n",
              "    if (rule.selectorText=='body') {\n",
              "      rule.style.fontSize = '30px'\n",
              "      rule.style.color = 'darkblue'\n",
              "      break\n",
              "    }\n",
              "  }\n",
              "  "
            ]
          },
          "metadata": {}
        },
        {
          "output_type": "execute_result",
          "data": {
            "text/plain": [
              "False"
            ]
          },
          "metadata": {},
          "execution_count": 93
        }
      ]
    },
    {
      "cell_type": "markdown",
      "source": [
        "# Lists produce `copies` when extracted. But numpy arrays return `views`.\n",
        "\n",
        "## Below rand_2D_A[1,0] is a view. We can use this to assign values to specific elements of the array. One application is a large dataset with say tempearture readings of a warehouse. Assume that temp below zero upto -2 degrees is allowed.\n",
        "\n",
        "## In case temp sensors are faulty they may hold -9 as a value as a code for the technician for diagnosis. This needs to be modified with with an average value for our analysis.\n"
      ],
      "metadata": {
        "id": "lVX-bBiESj8o"
      }
    },
    {
      "cell_type": "code",
      "source": [
        "print(rand_2D)\n",
        "rand_2D_A = rand_2D\n",
        "\n",
        "rand_2D_A[1,0] = 3 # we replace value [1,0] with `3`\n",
        "\n",
        "print (rand_2D_A)"
      ],
      "metadata": {
        "colab": {
          "base_uri": "https://localhost:8080/",
          "height": 168
        },
        "id": "oQLE4xPdQD8m",
        "outputId": "cda0b950-14b9-4a09-baba-5f0346604893"
      },
      "execution_count": 94,
      "outputs": [
        {
          "output_type": "display_data",
          "data": {
            "text/plain": [
              "<IPython.core.display.Javascript object>"
            ],
            "application/javascript": [
              "\n",
              "  for (rule of document.styleSheets[0].cssRules){\n",
              "    if (rule.selectorText=='body') {\n",
              "      rule.style.fontSize = '30px'\n",
              "      rule.style.color = 'darkblue'\n",
              "      break\n",
              "    }\n",
              "  }\n",
              "  "
            ]
          },
          "metadata": {}
        },
        {
          "output_type": "stream",
          "name": "stdout",
          "text": [
            "[[6 9 0]\n",
            " [7 5 8]]\n",
            "[[6 9 0]\n",
            " [3 5 8]]\n"
          ]
        }
      ]
    },
    {
      "cell_type": "code",
      "source": [
        "temp_3D = my_rng.integers(20, size = (3, 4, 4), dtype = 'int')\n",
        "# temp_3D = my_rng.integers(20, size = (3, 4, 4), dtype = 'int')\n",
        "print(temp_3D)\n",
        "\n",
        "print(temp_3D[0,1,0] )\n",
        "temp_3D_sub = temp_3D[0,1,0]\n",
        "temp_3D_sub = 9\n",
        "temp_3D_sub #\n",
        "temp_3D"
      ],
      "metadata": {
        "colab": {
          "base_uri": "https://localhost:8080/",
          "height": 1000
        },
        "id": "jPQ1QpbdUoKO",
        "outputId": "2dc6490f-8d9d-4bf1-c223-549d611fc630"
      },
      "execution_count": 95,
      "outputs": [
        {
          "output_type": "display_data",
          "data": {
            "text/plain": [
              "<IPython.core.display.Javascript object>"
            ],
            "application/javascript": [
              "\n",
              "  for (rule of document.styleSheets[0].cssRules){\n",
              "    if (rule.selectorText=='body') {\n",
              "      rule.style.fontSize = '30px'\n",
              "      rule.style.color = 'darkblue'\n",
              "      break\n",
              "    }\n",
              "  }\n",
              "  "
            ]
          },
          "metadata": {}
        },
        {
          "output_type": "stream",
          "name": "stdout",
          "text": [
            "[[[ 7 10  9  0]\n",
            "  [ 8  9  9  2]\n",
            "  [ 4 14 14 10]\n",
            "  [ 5  6 10  4]]\n",
            "\n",
            " [[18  1  4  1]\n",
            "  [18 10  7 11]\n",
            "  [ 3  4  9  3]\n",
            "  [ 2 17 17 14]]\n",
            "\n",
            " [[17 17 18  3]\n",
            "  [ 7  7 13 13]\n",
            "  [ 6 13  2  7]\n",
            "  [16 19 17 14]]]\n",
            "8\n"
          ]
        },
        {
          "output_type": "execute_result",
          "data": {
            "text/plain": [
              "array([[[ 7, 10,  9,  0],\n",
              "        [ 8,  9,  9,  2],\n",
              "        [ 4, 14, 14, 10],\n",
              "        [ 5,  6, 10,  4]],\n",
              "\n",
              "       [[18,  1,  4,  1],\n",
              "        [18, 10,  7, 11],\n",
              "        [ 3,  4,  9,  3],\n",
              "        [ 2, 17, 17, 14]],\n",
              "\n",
              "       [[17, 17, 18,  3],\n",
              "        [ 7,  7, 13, 13],\n",
              "        [ 6, 13,  2,  7],\n",
              "        [16, 19, 17, 14]]])"
            ]
          },
          "metadata": {},
          "execution_count": 95
        }
      ]
    },
    {
      "cell_type": "markdown",
      "source": [
        "## Below we use `copy()` to avoid over writing any value of the original array"
      ],
      "metadata": {
        "id": "ZoLf4JuaUnGw"
      }
    },
    {
      "cell_type": "code",
      "source": [
        "# temp_3D = my_rng.integers(20, size = (3, 4, 4), dtype = 'int')\n",
        "\n",
        "temp_2D = my_rng.integers(10, size = (2,3))\n",
        "print(temp_2D)\n",
        "\n",
        "temp_2D_N = temp_2D[0, 2].copy()\n",
        "temp_2D_N\n",
        "temp_2D_N = 5\n",
        "temp_2D_N\n",
        "\n",
        "print(f' {temp_2D, temp_2D_N}')"
      ],
      "metadata": {
        "colab": {
          "base_uri": "https://localhost:8080/",
          "height": 168
        },
        "id": "cHVlWKQjYqQx",
        "outputId": "424c54e9-b4bf-4326-f842-47e9ccfa6267"
      },
      "execution_count": 96,
      "outputs": [
        {
          "output_type": "display_data",
          "data": {
            "text/plain": [
              "<IPython.core.display.Javascript object>"
            ],
            "application/javascript": [
              "\n",
              "  for (rule of document.styleSheets[0].cssRules){\n",
              "    if (rule.selectorText=='body') {\n",
              "      rule.style.fontSize = '30px'\n",
              "      rule.style.color = 'darkblue'\n",
              "      break\n",
              "    }\n",
              "  }\n",
              "  "
            ]
          },
          "metadata": {}
        },
        {
          "output_type": "stream",
          "name": "stdout",
          "text": [
            "[[3 7 2]\n",
            " [7 6 9]]\n",
            " (array([[3, 7, 2],\n",
            "       [7, 6, 9]]), 5)\n"
          ]
        }
      ]
    },
    {
      "cell_type": "markdown",
      "source": [
        "## We can also reshape arrays\n",
        "## Recall np.arange(5, 20) produces an array of 5 to 14 ie, 15 numbers"
      ],
      "metadata": {
        "id": "st1ULOuccYfh"
      }
    },
    {
      "cell_type": "code",
      "source": [
        "my_thermo_grid = np.arange(5, 20)\n",
        "len(my_thermo_grid ) # 15\n",
        "print(my_thermo_grid )\n",
        "\n",
        "# 15 numbers must exactly fit in (5,3) array, neither more nor less\n",
        "np.arange(5, 20).reshape(5,3)"
      ],
      "metadata": {
        "colab": {
          "base_uri": "https://localhost:8080/",
          "height": 244
        },
        "id": "n-e_10MNcbFv",
        "outputId": "3d7bd777-6ed7-4a84-f4f2-9cdcf662fc85"
      },
      "execution_count": 97,
      "outputs": [
        {
          "output_type": "display_data",
          "data": {
            "text/plain": [
              "<IPython.core.display.Javascript object>"
            ],
            "application/javascript": [
              "\n",
              "  for (rule of document.styleSheets[0].cssRules){\n",
              "    if (rule.selectorText=='body') {\n",
              "      rule.style.fontSize = '30px'\n",
              "      rule.style.color = 'darkblue'\n",
              "      break\n",
              "    }\n",
              "  }\n",
              "  "
            ]
          },
          "metadata": {}
        },
        {
          "output_type": "stream",
          "name": "stdout",
          "text": [
            "[ 5  6  7  8  9 10 11 12 13 14 15 16 17 18 19]\n"
          ]
        },
        {
          "output_type": "execute_result",
          "data": {
            "text/plain": [
              "array([[ 5,  6,  7],\n",
              "       [ 8,  9, 10],\n",
              "       [11, 12, 13],\n",
              "       [14, 15, 16],\n",
              "       [17, 18, 19]])"
            ]
          },
          "metadata": {},
          "execution_count": 97
        }
      ]
    },
    {
      "cell_type": "markdown",
      "source": [
        "## We use `np.axis` to convert to row array into column array."
      ],
      "metadata": {
        "id": "KDKw9TAQeXtg"
      }
    },
    {
      "cell_type": "code",
      "source": [
        "my_thermo_grid\n",
        "my_thermo_grid[np.newaxis, :]\n",
        "my_thermo_grid[:, np.newaxis]"
      ],
      "metadata": {
        "colab": {
          "base_uri": "https://localhost:8080/",
          "height": 585
        },
        "id": "e2LXVaVWd_3q",
        "outputId": "2d3808d8-839e-4dce-bca7-e8a6ae5fa5f5"
      },
      "execution_count": 98,
      "outputs": [
        {
          "output_type": "display_data",
          "data": {
            "text/plain": [
              "<IPython.core.display.Javascript object>"
            ],
            "application/javascript": [
              "\n",
              "  for (rule of document.styleSheets[0].cssRules){\n",
              "    if (rule.selectorText=='body') {\n",
              "      rule.style.fontSize = '30px'\n",
              "      rule.style.color = 'darkblue'\n",
              "      break\n",
              "    }\n",
              "  }\n",
              "  "
            ]
          },
          "metadata": {}
        },
        {
          "output_type": "execute_result",
          "data": {
            "text/plain": [
              "array([[ 5],\n",
              "       [ 6],\n",
              "       [ 7],\n",
              "       [ 8],\n",
              "       [ 9],\n",
              "       [10],\n",
              "       [11],\n",
              "       [12],\n",
              "       [13],\n",
              "       [14],\n",
              "       [15],\n",
              "       [16],\n",
              "       [17],\n",
              "       [18],\n",
              "       [19]])"
            ]
          },
          "metadata": {},
          "execution_count": 98
        }
      ]
    },
    {
      "cell_type": "code",
      "execution_count": 99,
      "metadata": {
        "id": "VmJpk3jGjy7k",
        "colab": {
          "base_uri": "https://localhost:8080/",
          "height": 93
        },
        "outputId": "023c7748-4c35-42c6-bc24-d3b5effdb470"
      },
      "outputs": [
        {
          "output_type": "display_data",
          "data": {
            "text/plain": [
              "<IPython.core.display.Javascript object>"
            ],
            "application/javascript": [
              "\n",
              "  for (rule of document.styleSheets[0].cssRules){\n",
              "    if (rule.selectorText=='body') {\n",
              "      rule.style.fontSize = '30px'\n",
              "      rule.style.color = 'darkblue'\n",
              "      break\n",
              "    }\n",
              "  }\n",
              "  "
            ]
          },
          "metadata": {}
        },
        {
          "output_type": "display_data",
          "data": {
            "text/plain": [
              "<IPython.core.display.Javascript object>"
            ],
            "application/javascript": [
              "\n",
              "  for (rule of document.styleSheets[0].cssRules){\n",
              "    if (rule.selectorText=='body') {\n",
              "      rule.style.fontSize = '30px'\n",
              "      rule.style.color = 'darkblue'\n",
              "      break\n",
              "    }\n",
              "  }\n",
              "  "
            ]
          },
          "metadata": {}
        },
        {
          "output_type": "stream",
          "name": "stdout",
          "text": [
            "Hello in \n",
            "...in larger font \n"
          ]
        }
      ],
      "source": [
        "def increase_font():\n",
        "  from IPython.display import Javascript\n",
        "  display(Javascript('''\n",
        "  for (rule of document.styleSheets[0].cssRules){\n",
        "    if (rule.selectorText=='body') {\n",
        "      rule.style.fontSize = '30px'\n",
        "      rule.style.color = 'darkblue'\n",
        "      break\n",
        "    }\n",
        "  }\n",
        "  '''))\n",
        "increase_font()\n",
        "get_ipython().events.register('pre_run_cell', increase_font)\n",
        "print(\"Hello in \")\n",
        "print(\"...in larger font \")"
      ]
    }
  ]
}