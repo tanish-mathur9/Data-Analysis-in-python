{
  "nbformat": 4,
  "nbformat_minor": 0,
  "metadata": {
    "colab": {
      "provenance": [],
      "collapsed_sections": [
        "Rj6_AWbe8jJ-",
        "lq6kJauyRY2j",
        "NT9PxmFdRmYA"
      ]
    },
    "kernelspec": {
      "name": "python3",
      "display_name": "Python 3"
    },
    "language_info": {
      "name": "python"
    }
  },
  "cells": [
    {
      "cell_type": "markdown",
      "source": [
        "# Numpy offers more efficient storage than List\n",
        "# An array holds objects of the same type\n",
        "\n"
      ],
      "metadata": {
        "id": "KI5SA5jNoi49"
      }
    },
    {
      "cell_type": "code",
      "source": [],
      "metadata": {
        "id": "CHFdpNeF1p71"
      },
      "execution_count": null,
      "outputs": []
    },
    {
      "cell_type": "code",
      "source": [
        "# @title\n",
        "#\n",
        "# Increase output font size for your audience\n",
        "#\n",
        "def increase_font():\n",
        "  from IPython.display import Javascript\n",
        "  display(Javascript('''\n",
        "  for (rule of document.styleSheets[0].cssRules){\n",
        "    if (rule.selectorText=='body') {\n",
        "      rule.style.fontSize = '40px'\n",
        "      rule.style.color = 'blue'\n",
        "      break\n",
        "    }\n",
        "  }\n",
        "  '''))\n",
        "\n",
        "increase_font()\n",
        "get_ipython().events.register('pre_run_cell', increase_font)\n",
        "print(\"Hello\")"
      ],
      "metadata": {
        "colab": {
          "base_uri": "https://localhost:8080/",
          "height": 67
        },
        "id": "JoFI_RsrHd7Z",
        "outputId": "e60ef8a9-2841-4709-a3db-2656350f2b06",
        "cellView": "form"
      },
      "execution_count": null,
      "outputs": [
        {
          "output_type": "display_data",
          "data": {
            "text/plain": [
              "<IPython.core.display.Javascript object>"
            ],
            "application/javascript": [
              "\n",
              "  for (rule of document.styleSheets[0].cssRules){\n",
              "    if (rule.selectorText=='body') {\n",
              "      rule.style.fontSize = '40px'\n",
              "      rule.style.color = 'blue'\n",
              "      break\n",
              "    }\n",
              "  }\n",
              "  "
            ]
          },
          "metadata": {}
        },
        {
          "output_type": "stream",
          "name": "stdout",
          "text": [
            "Hello\n"
          ]
        }
      ]
    },
    {
      "cell_type": "code",
      "source": [
        "import numpy as np"
      ],
      "metadata": {
        "colab": {
          "base_uri": "https://localhost:8080/",
          "height": 17
        },
        "id": "jyzhTmd0vige",
        "outputId": "1c651548-5616-47ef-f028-75286297c6a8"
      },
      "execution_count": null,
      "outputs": [
        {
          "output_type": "display_data",
          "data": {
            "text/plain": [
              "<IPython.core.display.Javascript object>"
            ],
            "application/javascript": [
              "\n",
              "  for (rule of document.styleSheets[0].cssRules){\n",
              "    if (rule.selectorText=='body') {\n",
              "      rule.style.fontSize = '40px'\n",
              "      rule.style.color = 'blue'\n",
              "      break\n",
              "    }\n",
              "  }\n",
              "  "
            ]
          },
          "metadata": {}
        }
      ]
    },
    {
      "cell_type": "markdown",
      "source": [
        "#2.1\n",
        "<font size = 12 color = red>\n",
        "# If you insert mixed types it will force all elements to be of the same type. Here there is input of one float and rest are integers to nd.array() function. So all other elements are *promoted up* from integers as floats. This is called **upcasting **"
      ],
      "metadata": {
        "id": "mBPPcF5cpWlH"
      }
    },
    {
      "cell_type": "code",
      "source": [
        "# @title\n",
        "\n",
        "\n",
        "mxtype_array = np.array([20, 12, 45, 9.86, 43])\n",
        "mxtype_array"
      ],
      "metadata": {
        "colab": {
          "base_uri": "https://localhost:8080/",
          "height": 67
        },
        "id": "0MqeE7hhpc8y",
        "outputId": "067da148-9096-4a0e-e776-478beeaa1125",
        "cellView": "form"
      },
      "execution_count": null,
      "outputs": [
        {
          "output_type": "display_data",
          "data": {
            "text/plain": [
              "<IPython.core.display.Javascript object>"
            ],
            "application/javascript": [
              "\n",
              "  for (rule of document.styleSheets[0].cssRules){\n",
              "    if (rule.selectorText=='body') {\n",
              "      rule.style.fontSize = '40px'\n",
              "      rule.style.color = 'blue'\n",
              "      break\n",
              "    }\n",
              "  }\n",
              "  "
            ]
          },
          "metadata": {}
        },
        {
          "output_type": "execute_result",
          "data": {
            "text/plain": [
              "array([20.  , 12.  , 45.  ,  9.86, 43.  ])"
            ]
          },
          "metadata": {},
          "execution_count": 3
        }
      ]
    },
    {
      "cell_type": "code",
      "execution_count": null,
      "metadata": {
        "colab": {
          "base_uri": "https://localhost:8080/",
          "height": 67
        },
        "id": "NHfrLH-6ktIH",
        "outputId": "363699bb-2ea7-4e51-f33c-ce1862dddc9d",
        "cellView": "form"
      },
      "outputs": [
        {
          "output_type": "display_data",
          "data": {
            "text/plain": [
              "<IPython.core.display.Javascript object>"
            ],
            "application/javascript": [
              "\n",
              "  for (rule of document.styleSheets[0].cssRules){\n",
              "    if (rule.selectorText=='body') {\n",
              "      rule.style.fontSize = '40px'\n",
              "      rule.style.color = 'blue'\n",
              "      break\n",
              "    }\n",
              "  }\n",
              "  "
            ]
          },
          "metadata": {}
        },
        {
          "output_type": "execute_result",
          "data": {
            "text/plain": [
              "array([3, 7, 1, 9])"
            ]
          },
          "metadata": {},
          "execution_count": 4
        }
      ],
      "source": [
        "# @title\n",
        "\n",
        "\n",
        "np.array([3,7,1,9]) # object is printed by default\n"
      ]
    },
    {
      "cell_type": "code",
      "source": [
        "# use this when you dont need to check the object or its type that is being created\n",
        "np.array([3,7,1,9]); # putting a semicolon supresses output"
      ],
      "metadata": {
        "colab": {
          "base_uri": "https://localhost:8080/",
          "height": 17
        },
        "id": "CaRt-m5ipBD7",
        "outputId": "bf1ae674-7607-4a73-f3ef-5fbe85eb80d7"
      },
      "execution_count": null,
      "outputs": [
        {
          "output_type": "display_data",
          "data": {
            "text/plain": [
              "<IPython.core.display.Javascript object>"
            ],
            "application/javascript": [
              "\n",
              "  for (rule of document.styleSheets[0].cssRules){\n",
              "    if (rule.selectorText=='body') {\n",
              "      rule.style.fontSize = '40px'\n",
              "      rule.style.color = 'blue'\n",
              "      break\n",
              "    }\n",
              "  }\n",
              "  "
            ]
          },
          "metadata": {}
        }
      ]
    },
    {
      "cell_type": "markdown",
      "source": [
        "<font size = 12>\n",
        "$$\\sum_{i=1}^{n} = J(\\theta) $$"
      ],
      "metadata": {
        "id": "2y-GBBgClNoG"
      }
    },
    {
      "cell_type": "code",
      "source": [
        "np.array([3,7,1,9] , dtype ='float32') # object can be defined explicity as float, even though we gave integers as input"
      ],
      "metadata": {
        "colab": {
          "base_uri": "https://localhost:8080/",
          "height": 67
        },
        "id": "rluAZ0r9t28f",
        "outputId": "679c449d-8613-45fa-9d62-00242beb7731"
      },
      "execution_count": null,
      "outputs": [
        {
          "output_type": "display_data",
          "data": {
            "text/plain": [
              "<IPython.core.display.Javascript object>"
            ],
            "application/javascript": [
              "\n",
              "  for (rule of document.styleSheets[0].cssRules){\n",
              "    if (rule.selectorText=='body') {\n",
              "      rule.style.fontSize = '40px'\n",
              "      rule.style.color = 'blue'\n",
              "      break\n",
              "    }\n",
              "  }\n",
              "  "
            ]
          },
          "metadata": {}
        },
        {
          "output_type": "execute_result",
          "data": {
            "text/plain": [
              "array([3., 7., 1., 9.], dtype=float32)"
            ]
          },
          "metadata": {},
          "execution_count": 6
        }
      ]
    },
    {
      "cell_type": "code",
      "source": [
        "# @title\n",
        "arr_3by3 = np.array([range(i, i + 3) for i in (3, 5, 7)])\n",
        "print(f'This is a 3 by 3 array:\\n {arr_3by3}') # note \\n is for new line, so output is neater"
      ],
      "metadata": {
        "colab": {
          "base_uri": "https://localhost:8080/",
          "height": 218
        },
        "id": "a0P1Gw11ui77",
        "outputId": "8f6320b5-51b6-4f7f-c736-56c8fd6e75a5"
      },
      "execution_count": null,
      "outputs": [
        {
          "output_type": "display_data",
          "data": {
            "text/plain": [
              "<IPython.core.display.Javascript object>"
            ],
            "application/javascript": [
              "\n",
              "  for (rule of document.styleSheets[0].cssRules){\n",
              "    if (rule.selectorText=='body') {\n",
              "      rule.style.fontSize = '40px'\n",
              "      rule.style.color = 'blue'\n",
              "      break\n",
              "    }\n",
              "  }\n",
              "  "
            ]
          },
          "metadata": {}
        },
        {
          "output_type": "stream",
          "name": "stdout",
          "text": [
            "This is a 3 by 3 array:\n",
            " [[3 4 5]\n",
            " [5 6 7]\n",
            " [7 8 9]]\n"
          ]
        }
      ]
    },
    {
      "cell_type": "markdown",
      "source": [
        "# How is this working : Let us examine\n",
        "\n",
        "```\n",
        "arr_3by3 = np.array([range(i, i + 3) for i in (3, 5, 7)])\n",
        "```\n",
        "\n",
        "$\\huge \\text{np.array([range(i, i + 3) for i in [3, 5, 7]])}$"
      ],
      "metadata": {
        "id": "Ng4lUjpyv-r3"
      }
    },
    {
      "cell_type": "code",
      "source": [
        "help(range)"
      ],
      "metadata": {
        "id": "T-gqASbRvAVp",
        "colab": {
          "base_uri": "https://localhost:8080/",
          "height": 1000
        },
        "outputId": "8a7745cf-a493-42d3-9741-6c3ce468d767"
      },
      "execution_count": null,
      "outputs": [
        {
          "output_type": "display_data",
          "data": {
            "text/plain": [
              "<IPython.core.display.Javascript object>"
            ],
            "application/javascript": [
              "\n",
              "  for (rule of document.styleSheets[0].cssRules){\n",
              "    if (rule.selectorText=='body') {\n",
              "      rule.style.fontSize = '40px'\n",
              "      rule.style.color = 'blue'\n",
              "      break\n",
              "    }\n",
              "  }\n",
              "  "
            ]
          },
          "metadata": {}
        },
        {
          "output_type": "stream",
          "name": "stdout",
          "text": [
            "Help on class range in module builtins:\n",
            "\n",
            "class range(object)\n",
            " |  range(stop) -> range object\n",
            " |  range(start, stop[, step]) -> range object\n",
            " |  \n",
            " |  Return an object that produces a sequence of integers from start (inclusive)\n",
            " |  to stop (exclusive) by step.  range(i, j) produces i, i+1, i+2, ..., j-1.\n",
            " |  start defaults to 0, and stop is omitted!  range(4) produces 0, 1, 2, 3.\n",
            " |  These are exactly the valid indices for a list of 4 elements.\n",
            " |  When step is given, it specifies the increment (or decrement).\n",
            " |  \n",
            " |  Methods defined here:\n",
            " |  \n",
            " |  __bool__(self, /)\n",
            " |      True if self else False\n",
            " |  \n",
            " |  __contains__(self, key, /)\n",
            " |      Return key in self.\n",
            " |  \n",
            " |  __eq__(self, value, /)\n",
            " |      Return self==value.\n",
            " |  \n",
            " |  __ge__(self, value, /)\n",
            " |      Return self>=value.\n",
            " |  \n",
            " |  __getattribute__(self, name, /)\n",
            " |      Return getattr(self, name).\n",
            " |  \n",
            " |  __getitem__(self, key, /)\n",
            " |      Return self[key].\n",
            " |  \n",
            " |  __gt__(self, value, /)\n",
            " |      Return self>value.\n",
            " |  \n",
            " |  __hash__(self, /)\n",
            " |      Return hash(self).\n",
            " |  \n",
            " |  __iter__(self, /)\n",
            " |      Implement iter(self).\n",
            " |  \n",
            " |  __le__(self, value, /)\n",
            " |      Return self<=value.\n",
            " |  \n",
            " |  __len__(self, /)\n",
            " |      Return len(self).\n",
            " |  \n",
            " |  __lt__(self, value, /)\n",
            " |      Return self<value.\n",
            " |  \n",
            " |  __ne__(self, value, /)\n",
            " |      Return self!=value.\n",
            " |  \n",
            " |  __reduce__(...)\n",
            " |      Helper for pickle.\n",
            " |  \n",
            " |  __repr__(self, /)\n",
            " |      Return repr(self).\n",
            " |  \n",
            " |  __reversed__(...)\n",
            " |      Return a reverse iterator.\n",
            " |  \n",
            " |  count(...)\n",
            " |      rangeobject.count(value) -> integer -- return number of occurrences of value\n",
            " |  \n",
            " |  index(...)\n",
            " |      rangeobject.index(value) -> integer -- return index of value.\n",
            " |      Raise ValueError if the value is not present.\n",
            " |  \n",
            " |  ----------------------------------------------------------------------\n",
            " |  Static methods defined here:\n",
            " |  \n",
            " |  __new__(*args, **kwargs) from builtins.type\n",
            " |      Create and return a new object.  See help(type) for accurate signature.\n",
            " |  \n",
            " |  ----------------------------------------------------------------------\n",
            " |  Data descriptors defined here:\n",
            " |  \n",
            " |  start\n",
            " |  \n",
            " |  step\n",
            " |  \n",
            " |  stop\n",
            "\n"
          ]
        }
      ]
    },
    {
      "cell_type": "code",
      "source": [
        "\n",
        "i = 3\n",
        "\n",
        "r1 = range(i, i + 3)\n",
        "r1\n",
        "print(r1)\n",
        "\n",
        "print(f'This is r1: {r1}')\n",
        "print (f'This is first row of arr_3by3: {np.array(r1)}')\n"
      ],
      "metadata": {
        "colab": {
          "base_uri": "https://localhost:8080/",
          "height": 168
        },
        "id": "0L23pUUaw2N_",
        "outputId": "75cbdb62-76ff-4049-d585-c3d5c163ed93"
      },
      "execution_count": null,
      "outputs": [
        {
          "output_type": "display_data",
          "data": {
            "text/plain": [
              "<IPython.core.display.Javascript object>"
            ],
            "application/javascript": [
              "\n",
              "  for (rule of document.styleSheets[0].cssRules){\n",
              "    if (rule.selectorText=='body') {\n",
              "      rule.style.fontSize = '40px'\n",
              "      rule.style.color = 'blue'\n",
              "      break\n",
              "    }\n",
              "  }\n",
              "  "
            ]
          },
          "metadata": {}
        },
        {
          "output_type": "stream",
          "name": "stdout",
          "text": [
            "range(3, 6)\n",
            "This is r1: range(3, 6)\n",
            "This is first row of arr_3by3: [3 4 5]\n"
          ]
        }
      ]
    },
    {
      "cell_type": "code",
      "source": [
        "\n",
        "i = 5\n",
        "r2 = range(i, i + 3)\n",
        "print(r2)\n",
        "np.array(r2)\n"
      ],
      "metadata": {
        "id": "rJ6_zGuX84Zd",
        "colab": {
          "base_uri": "https://localhost:8080/",
          "height": 118
        },
        "outputId": "2f4ce152-9d10-424d-dc05-c23a719f51ca"
      },
      "execution_count": null,
      "outputs": [
        {
          "output_type": "display_data",
          "data": {
            "text/plain": [
              "<IPython.core.display.Javascript object>"
            ],
            "application/javascript": [
              "\n",
              "  for (rule of document.styleSheets[0].cssRules){\n",
              "    if (rule.selectorText=='body') {\n",
              "      rule.style.fontSize = '40px'\n",
              "      rule.style.color = 'blue'\n",
              "      break\n",
              "    }\n",
              "  }\n",
              "  "
            ]
          },
          "metadata": {}
        },
        {
          "output_type": "stream",
          "name": "stdout",
          "text": [
            "range(5, 8)\n"
          ]
        },
        {
          "output_type": "execute_result",
          "data": {
            "text/plain": [
              "array([5, 6, 7])"
            ]
          },
          "metadata": {},
          "execution_count": 10
        }
      ]
    },
    {
      "cell_type": "code",
      "source": [
        "\n",
        "i = 7\n",
        "r3 = range(i, i + 3)\n",
        "print(r3)\n",
        "np.array(r3)\n"
      ],
      "metadata": {
        "colab": {
          "base_uri": "https://localhost:8080/",
          "height": 118
        },
        "id": "0zVg0hXaw7Q1",
        "outputId": "2c90f592-2952-48f8-df61-e26faecb51a4"
      },
      "execution_count": null,
      "outputs": [
        {
          "output_type": "display_data",
          "data": {
            "text/plain": [
              "<IPython.core.display.Javascript object>"
            ],
            "application/javascript": [
              "\n",
              "  for (rule of document.styleSheets[0].cssRules){\n",
              "    if (rule.selectorText=='body') {\n",
              "      rule.style.fontSize = '40px'\n",
              "      rule.style.color = 'blue'\n",
              "      break\n",
              "    }\n",
              "  }\n",
              "  "
            ]
          },
          "metadata": {}
        },
        {
          "output_type": "stream",
          "name": "stdout",
          "text": [
            "range(7, 10)\n"
          ]
        },
        {
          "output_type": "execute_result",
          "data": {
            "text/plain": [
              "array([7, 8, 9])"
            ]
          },
          "metadata": {},
          "execution_count": 11
        }
      ]
    },
    {
      "cell_type": "markdown",
      "source": [
        "# Exercise 1.1\n",
        "# Looking at the code above, create an array called 'arr_4by3' that has 4 rows and 3 columns.\n",
        "# where will you make the change ?"
      ],
      "metadata": {
        "id": "sgVo0YLlxoNO"
      }
    },
    {
      "cell_type": "code",
      "source": [
        "# Answer\n",
        "arr_4by3 = np.array([range(i, i + 4) for i in (3, 5, 7)])\n",
        "arr_4by3"
      ],
      "metadata": {
        "colab": {
          "base_uri": "https://localhost:8080/",
          "height": 168
        },
        "id": "lw-gArl-yfXW",
        "outputId": "8fe974e1-33f7-4b05-b8b2-1f16f4fe33c7"
      },
      "execution_count": null,
      "outputs": [
        {
          "output_type": "display_data",
          "data": {
            "text/plain": [
              "<IPython.core.display.Javascript object>"
            ],
            "application/javascript": [
              "\n",
              "  for (rule of document.styleSheets[0].cssRules){\n",
              "    if (rule.selectorText=='body') {\n",
              "      rule.style.fontSize = '40px'\n",
              "      rule.style.color = 'blue'\n",
              "      break\n",
              "    }\n",
              "  }\n",
              "  "
            ]
          },
          "metadata": {}
        },
        {
          "output_type": "execute_result",
          "data": {
            "text/plain": [
              "array([[ 3,  4,  5,  6],\n",
              "       [ 5,  6,  7,  8],\n",
              "       [ 7,  8,  9, 10]])"
            ]
          },
          "metadata": {},
          "execution_count": 12
        }
      ]
    },
    {
      "cell_type": "markdown",
      "source": [
        "# We can create arrays from the ground up using built in routines from NumPy\n",
        "\n",
        "Note how the datatype argument *dtype* is specified without single quotes and with single quotes.\n",
        "int, float are understood without quotes but,\n",
        "float32 needs single quotes.\n",
        "\n",
        "Please try to run each line one by one using CTSL+SHFT+ENTER"
      ],
      "metadata": {
        "id": "4jLXq9YNyGT0"
      }
    },
    {
      "cell_type": "code",
      "source": [
        "np.zeros(10, dtype = int) # works\n",
        "np.zeros(10, dtype = 'int') # works\n",
        "np.zeros(10, dtype = float) # works\n",
        "np.zeros(10, dtype = 'float') # works\n",
        "# np.zeros(10, dtype = float32) # but, this throws an error\n",
        "np.zeros(10, dtype = 'float32') # works\n"
      ],
      "metadata": {
        "colab": {
          "base_uri": "https://localhost:8080/",
          "height": 118
        },
        "id": "9kJ7dJuLyerL",
        "outputId": "726eade9-0ecc-44fd-f237-b1859a4e31d9"
      },
      "execution_count": null,
      "outputs": [
        {
          "output_type": "display_data",
          "data": {
            "text/plain": [
              "<IPython.core.display.Javascript object>"
            ],
            "application/javascript": [
              "\n",
              "  for (rule of document.styleSheets[0].cssRules){\n",
              "    if (rule.selectorText=='body') {\n",
              "      rule.style.fontSize = '40px'\n",
              "      rule.style.color = 'blue'\n",
              "      break\n",
              "    }\n",
              "  }\n",
              "  "
            ]
          },
          "metadata": {}
        },
        {
          "output_type": "execute_result",
          "data": {
            "text/plain": [
              "array([0., 0., 0., 0., 0., 0., 0., 0., 0., 0.], dtype=float32)"
            ]
          },
          "metadata": {},
          "execution_count": 13
        }
      ]
    },
    {
      "cell_type": "markdown",
      "source": [
        "# Next we can create arrays that have a few other elements (other than zero) that are commonly used.\n",
        "\n",
        "# Application: we can create an array full of zeros. Then after some computation, store that computed value, replacing the zero."
      ],
      "metadata": {
        "id": "mKmTbDt50FY0"
      }
    },
    {
      "cell_type": "code",
      "source": [
        "np.ones(6, dtype = int)\n",
        "np.ones(6, dtype = float)\n",
        "# np.ones(6, dtype = float32) # without single quotes, again throws error"
      ],
      "metadata": {
        "colab": {
          "base_uri": "https://localhost:8080/",
          "height": 67
        },
        "id": "iXJWoYv11EjU",
        "outputId": "46127edb-8b5c-4845-d1d7-6f1ae4b035ac"
      },
      "execution_count": null,
      "outputs": [
        {
          "output_type": "display_data",
          "data": {
            "text/plain": [
              "<IPython.core.display.Javascript object>"
            ],
            "application/javascript": [
              "\n",
              "  for (rule of document.styleSheets[0].cssRules){\n",
              "    if (rule.selectorText=='body') {\n",
              "      rule.style.fontSize = '40px'\n",
              "      rule.style.color = 'blue'\n",
              "      break\n",
              "    }\n",
              "  }\n",
              "  "
            ]
          },
          "metadata": {}
        },
        {
          "output_type": "execute_result",
          "data": {
            "text/plain": [
              "array([1., 1., 1., 1., 1., 1.])"
            ]
          },
          "metadata": {},
          "execution_count": 14
        }
      ]
    },
    {
      "cell_type": "markdown",
      "source": [
        "And then we can create an array 3 by 4 with same element 9.8 ($m/s^2$)\n"
      ],
      "metadata": {
        "id": "G66sRPfd6dg6"
      }
    },
    {
      "cell_type": "code",
      "source": [
        "np.full((3,4), 9.8)\n",
        "np.full((2,2), '9.8 ms^-2') #"
      ],
      "metadata": {
        "colab": {
          "base_uri": "https://localhost:8080/",
          "height": 118
        },
        "id": "X2Q9ppPy6ijT",
        "outputId": "a2137cf7-8eb5-4df1-f444-c421876cddfc"
      },
      "execution_count": null,
      "outputs": [
        {
          "output_type": "display_data",
          "data": {
            "text/plain": [
              "<IPython.core.display.Javascript object>"
            ],
            "application/javascript": [
              "\n",
              "  for (rule of document.styleSheets[0].cssRules){\n",
              "    if (rule.selectorText=='body') {\n",
              "      rule.style.fontSize = '40px'\n",
              "      rule.style.color = 'blue'\n",
              "      break\n",
              "    }\n",
              "  }\n",
              "  "
            ]
          },
          "metadata": {}
        },
        {
          "output_type": "execute_result",
          "data": {
            "text/plain": [
              "array([['9.8 ms^-2', '9.8 ms^-2'],\n",
              "       ['9.8 ms^-2', '9.8 ms^-2']], dtype='<U9')"
            ]
          },
          "metadata": {},
          "execution_count": 15
        }
      ]
    },
    {
      "cell_type": "code",
      "source": [
        "np.arange(start = 1, stop = 10, step = 2)\n",
        "np.arange(1,12,2)"
      ],
      "metadata": {
        "colab": {
          "base_uri": "https://localhost:8080/",
          "height": 67
        },
        "id": "fsifk3Em7H7X",
        "outputId": "e1bb73b3-2cae-4c15-fd24-209bdf515d11"
      },
      "execution_count": null,
      "outputs": [
        {
          "output_type": "display_data",
          "data": {
            "text/plain": [
              "<IPython.core.display.Javascript object>"
            ],
            "application/javascript": [
              "\n",
              "  for (rule of document.styleSheets[0].cssRules){\n",
              "    if (rule.selectorText=='body') {\n",
              "      rule.style.fontSize = '40px'\n",
              "      rule.style.color = 'blue'\n",
              "      break\n",
              "    }\n",
              "  }\n",
              "  "
            ]
          },
          "metadata": {}
        },
        {
          "output_type": "execute_result",
          "data": {
            "text/plain": [
              "array([ 1,  3,  5,  7,  9, 11])"
            ]
          },
          "metadata": {},
          "execution_count": 16
        }
      ]
    },
    {
      "cell_type": "code",
      "source": [
        "np.linspace(0,1,4) # create an array with four values evenly space b/w 0, 1\n",
        "# np.linspace? # for help"
      ],
      "metadata": {
        "colab": {
          "base_uri": "https://localhost:8080/",
          "height": 67
        },
        "id": "jnDpMy-y7lrP",
        "outputId": "75699294-ea2e-42ad-a257-b8605fe955e8"
      },
      "execution_count": null,
      "outputs": [
        {
          "output_type": "display_data",
          "data": {
            "text/plain": [
              "<IPython.core.display.Javascript object>"
            ],
            "application/javascript": [
              "\n",
              "  for (rule of document.styleSheets[0].cssRules){\n",
              "    if (rule.selectorText=='body') {\n",
              "      rule.style.fontSize = '40px'\n",
              "      rule.style.color = 'blue'\n",
              "      break\n",
              "    }\n",
              "  }\n",
              "  "
            ]
          },
          "metadata": {}
        },
        {
          "output_type": "execute_result",
          "data": {
            "text/plain": [
              "array([0.        , 0.33333333, 0.66666667, 1.        ])"
            ]
          },
          "metadata": {},
          "execution_count": 17
        }
      ]
    },
    {
      "cell_type": "code",
      "source": [
        "np.random.normal(loc= 0, scale = 5, size = 10)\n",
        "np.random.normal(loc= 0, scale = 5, size = (2,3)) # an array of random normal"
      ],
      "metadata": {
        "colab": {
          "base_uri": "https://localhost:8080/",
          "height": 118
        },
        "id": "pFdhsS4U8Fln",
        "outputId": "ab2ba191-2a00-404d-d847-26973c6b8846"
      },
      "execution_count": null,
      "outputs": [
        {
          "output_type": "display_data",
          "data": {
            "text/plain": [
              "<IPython.core.display.Javascript object>"
            ],
            "application/javascript": [
              "\n",
              "  for (rule of document.styleSheets[0].cssRules){\n",
              "    if (rule.selectorText=='body') {\n",
              "      rule.style.fontSize = '40px'\n",
              "      rule.style.color = 'blue'\n",
              "      break\n",
              "    }\n",
              "  }\n",
              "  "
            ]
          },
          "metadata": {}
        },
        {
          "output_type": "execute_result",
          "data": {
            "text/plain": [
              "array([[-0.92815279, -4.36039477, -3.9337967 ],\n",
              "       [ 0.28361057, -0.3567226 ,  1.45814937]])"
            ]
          },
          "metadata": {},
          "execution_count": 18
        }
      ]
    },
    {
      "cell_type": "markdown",
      "source": [
        "# From Stats we know that for a normal distribution we declare the mean and standard deviation.\n",
        "\n",
        "# Above loc is for location of mean, scale is for standard deviation (how much spread out the data should be)"
      ],
      "metadata": {
        "id": "Rj6_AWbe8jJ-"
      }
    },
    {
      "cell_type": "markdown",
      "source": [
        "# In Matrix Theory $I$ stands for Indentity matrix. Where the diagnol element is one and all other elements are zero.   Hence, we can guess that a like-sounding word $np.eye$ is used to avoid a non-distinct, short name like $np.I$\n",
        "\n"
      ],
      "metadata": {
        "id": "Ib9k9En9Qj3q"
      }
    },
    {
      "cell_type": "code",
      "source": [
        "np.eye(4,4) # create an identity matrix #"
      ],
      "metadata": {
        "colab": {
          "base_uri": "https://localhost:8080/",
          "height": 218
        },
        "id": "rvkKwr7-81jA",
        "outputId": "6ea90eb8-e932-4fa6-a5f5-337729f8f379"
      },
      "execution_count": null,
      "outputs": [
        {
          "output_type": "display_data",
          "data": {
            "text/plain": [
              "<IPython.core.display.Javascript object>"
            ],
            "application/javascript": [
              "\n",
              "  for (rule of document.styleSheets[0].cssRules){\n",
              "    if (rule.selectorText=='body') {\n",
              "      rule.style.fontSize = '40px'\n",
              "      rule.style.color = 'blue'\n",
              "      break\n",
              "    }\n",
              "  }\n",
              "  "
            ]
          },
          "metadata": {}
        },
        {
          "output_type": "execute_result",
          "data": {
            "text/plain": [
              "array([[1., 0., 0., 0.],\n",
              "       [0., 1., 0., 0.],\n",
              "       [0., 0., 1., 0.],\n",
              "       [0., 0., 0., 1.]])"
            ]
          },
          "metadata": {},
          "execution_count": 19
        }
      ]
    },
    {
      "cell_type": "markdown",
      "source": [
        "# Array Attributes\n",
        "# Let us first create 1-d 2-d 3-d arrays to show their attributes"
      ],
      "metadata": {
        "id": "lq6kJauyRY2j"
      }
    },
    {
      "cell_type": "markdown",
      "source": [
        "# Two useful random number generator functions are\n",
        "  - random.randint : for *integer *\n",
        "    - these form a *rectangular shaped box*\n",
        "  - random.normal : for *normally* distributed random numbers\n",
        "    - these form a *bell* shaped curve\n",
        "\n",
        "# There are other random distributions also that we may study later courses."
      ],
      "metadata": {
        "id": "NT9PxmFdRmYA"
      }
    },
    {
      "cell_type": "markdown",
      "source": [
        "# We set a random seed that gives the same starting point every time we run a piece of code that calls a random function. This way same set of random number will be generated. We have seen this in a previous example. Thus results can be made reproducible."
      ],
      "metadata": {
        "id": "9-KI4qRtZmsx"
      }
    },
    {
      "cell_type": "markdown",
      "source": [
        "$\\huge \\text{create 1D, 2D, 3D arrays called x1, x2, x3}$"
      ],
      "metadata": {
        "id": "2uuUoEykaC3m"
      }
    },
    {
      "cell_type": "code",
      "source": [
        "import numpy as np\n",
        "np.random.seed(0)  # seed for reproducibility\n",
        "x1 = np.random.randint(10, size=6)  # One-dimensional array\n",
        "x1 # prints the object\n",
        "print(x1) # only contents printed\n",
        "x2 = np.random.randint(10, size=(3, 4))  # Two-dimensional array\n",
        "x3 = np.random.randint(10, size=(3, 4, 5))  # Three-dimensional array"
      ],
      "metadata": {
        "colab": {
          "base_uri": "https://localhost:8080/",
          "height": 67
        },
        "id": "NmriRSkCaGCc",
        "outputId": "4798564d-3ebb-4897-ec59-8c54ba9fcf5e"
      },
      "execution_count": null,
      "outputs": [
        {
          "output_type": "display_data",
          "data": {
            "text/plain": [
              "<IPython.core.display.Javascript object>"
            ],
            "application/javascript": [
              "\n",
              "  for (rule of document.styleSheets[0].cssRules){\n",
              "    if (rule.selectorText=='body') {\n",
              "      rule.style.fontSize = '40px'\n",
              "      rule.style.color = 'blue'\n",
              "      break\n",
              "    }\n",
              "  }\n",
              "  "
            ]
          },
          "metadata": {}
        },
        {
          "output_type": "stream",
          "name": "stdout",
          "text": [
            "[5 0 3 3 7 9]\n"
          ]
        }
      ]
    },
    {
      "cell_type": "markdown",
      "source": [
        "# The f string format : recently introduced\n",
        "# Makes print statement output more clear\n",
        "# Avoids repeated use of quotes and commas\n",
        "\n",
        "# **Advantage**: everything (text, python object name) in one single quote, no commas"
      ],
      "metadata": {
        "id": "7wT8g34oeKa-"
      }
    },
    {
      "cell_type": "code",
      "source": [
        "print(\"x3 ndim: \", x3.ndim, \"# for each piece of text we must use quotes\") # given in textbook\n"
      ],
      "metadata": {
        "colab": {
          "base_uri": "https://localhost:8080/",
          "height": 67
        },
        "id": "CPtycV2yaRUu",
        "outputId": "37705c69-adad-4b2a-d520-e38451d4f7a2"
      },
      "execution_count": null,
      "outputs": [
        {
          "output_type": "display_data",
          "data": {
            "text/plain": [
              "<IPython.core.display.Javascript object>"
            ],
            "application/javascript": [
              "\n",
              "  for (rule of document.styleSheets[0].cssRules){\n",
              "    if (rule.selectorText=='body') {\n",
              "      rule.style.fontSize = '40px'\n",
              "      rule.style.color = 'blue'\n",
              "      break\n",
              "    }\n",
              "  }\n",
              "  "
            ]
          },
          "metadata": {}
        },
        {
          "output_type": "stream",
          "name": "stdout",
          "text": [
            "x3 ndim:  3 # for each piece of text we must use quotes\n"
          ]
        }
      ]
    },
    {
      "cell_type": "code",
      "source": [
        "\n",
        "print(f'x3 has {x3.ndim} dimensions # this uses f string format') # uses f string format single quote makes print more readable\n"
      ],
      "metadata": {
        "colab": {
          "base_uri": "https://localhost:8080/",
          "height": 67
        },
        "id": "KvMGK7Ty4mtv",
        "outputId": "585c96e8-a618-4429-ea98-852931b49c3b"
      },
      "execution_count": null,
      "outputs": [
        {
          "output_type": "display_data",
          "data": {
            "text/plain": [
              "<IPython.core.display.Javascript object>"
            ],
            "application/javascript": [
              "\n",
              "  for (rule of document.styleSheets[0].cssRules){\n",
              "    if (rule.selectorText=='body') {\n",
              "      rule.style.fontSize = '40px'\n",
              "      rule.style.color = 'blue'\n",
              "      break\n",
              "    }\n",
              "  }\n",
              "  "
            ]
          },
          "metadata": {}
        },
        {
          "output_type": "stream",
          "name": "stdout",
          "text": [
            "x3 has 3 dimensions # this uses f string format\n"
          ]
        }
      ]
    },
    {
      "cell_type": "code",
      "source": [
        "\n",
        "print(f\"x3 has {x3.ndim} dimensions\") # uses f string format double quote makes print more readable\n",
        "print(f\"x3 has {x3.shape} shape\") # uses f string format double quote makes print more readable\n",
        "print(f\"x3 has {x3.size} size\") # uses f string format double quote makes print more readable\n"
      ],
      "metadata": {
        "colab": {
          "base_uri": "https://localhost:8080/",
          "height": 168
        },
        "id": "kOM7dg6-4n3l",
        "outputId": "65ba4f63-489a-447f-cf53-53f28cbcd239"
      },
      "execution_count": null,
      "outputs": [
        {
          "output_type": "display_data",
          "data": {
            "text/plain": [
              "<IPython.core.display.Javascript object>"
            ],
            "application/javascript": [
              "\n",
              "  for (rule of document.styleSheets[0].cssRules){\n",
              "    if (rule.selectorText=='body') {\n",
              "      rule.style.fontSize = '40px'\n",
              "      rule.style.color = 'blue'\n",
              "      break\n",
              "    }\n",
              "  }\n",
              "  "
            ]
          },
          "metadata": {}
        },
        {
          "output_type": "stream",
          "name": "stdout",
          "text": [
            "x3 has 3 dimensions\n",
            "x3 has (3, 4, 5) shape\n",
            "x3 has 60 size\n"
          ]
        }
      ]
    },
    {
      "cell_type": "code",
      "source": [
        "f'x3 has shape of {x3.shape} data type' #\n",
        "f'x3 has size of {x3.size} data type' #\n",
        "f'x3 has {x3.dtype} data type' #"
      ],
      "metadata": {
        "colab": {
          "base_uri": "https://localhost:8080/",
          "height": 67
        },
        "id": "JPT2ewe8bfIw",
        "outputId": "021b48e2-fbbe-460e-fd14-1bfc58c6607d"
      },
      "execution_count": null,
      "outputs": [
        {
          "output_type": "display_data",
          "data": {
            "text/plain": [
              "<IPython.core.display.Javascript object>"
            ],
            "application/javascript": [
              "\n",
              "  for (rule of document.styleSheets[0].cssRules){\n",
              "    if (rule.selectorText=='body') {\n",
              "      rule.style.fontSize = '40px'\n",
              "      rule.style.color = 'blue'\n",
              "      break\n",
              "    }\n",
              "  }\n",
              "  "
            ]
          },
          "metadata": {}
        },
        {
          "output_type": "execute_result",
          "data": {
            "text/plain": [
              "'x3 has int64 data type'"
            ],
            "application/vnd.google.colaboratory.intrinsic+json": {
              "type": "string"
            }
          },
          "metadata": {},
          "execution_count": 24
        }
      ]
    },
    {
      "cell_type": "markdown",
      "source": [
        "# Above, if you don't use print(), then all previous lines will be overwritten, only last line will be seen in output."
      ],
      "metadata": {
        "id": "yg7ChjBabuYu"
      }
    },
    {
      "cell_type": "code",
      "source": [
        "print(\"itemsize:\", x3.itemsize, \"bytes\")\n",
        "print(\"nbytes:\", x3.nbytes, \"bytes\")"
      ],
      "metadata": {
        "colab": {
          "base_uri": "https://localhost:8080/"
        },
        "id": "e16QvqNucPlL",
        "outputId": "dc6246e1-8d11-4efb-e4a6-2e165b7b43c2"
      },
      "execution_count": null,
      "outputs": [
        {
          "output_type": "display_data",
          "data": {
            "text/plain": [
              "<IPython.core.display.Javascript object>"
            ],
            "application/javascript": [
              "\n",
              "  for (rule of document.styleSheets[0].cssRules){\n",
              "    if (rule.selectorText=='body') {\n",
              "      rule.style.fontSize = '40px'\n",
              "      rule.style.color = 'blue'\n",
              "      break\n",
              "    }\n",
              "  }\n",
              "  "
            ]
          },
          "metadata": {}
        },
        {
          "output_type": "stream",
          "name": "stdout",
          "text": [
            "itemsize: 8 bytes\n",
            "nbytes: 480 bytes\n"
          ]
        }
      ]
    },
    {
      "cell_type": "code",
      "source": [
        "print(f' x3 has item size of {x3.itemsize} bytes')\n",
        "print(f' x3 occupies  {x3.nbytes} bytes')\n"
      ],
      "metadata": {
        "colab": {
          "base_uri": "https://localhost:8080/"
        },
        "outputId": "b584a988-1040-4661-bd07-ee9af767b13a",
        "id": "_yYQK7UQfJ_5"
      },
      "execution_count": null,
      "outputs": [
        {
          "output_type": "display_data",
          "data": {
            "text/plain": [
              "<IPython.core.display.Javascript object>"
            ],
            "application/javascript": [
              "\n",
              "  for (rule of document.styleSheets[0].cssRules){\n",
              "    if (rule.selectorText=='body') {\n",
              "      rule.style.fontSize = '40px'\n",
              "      rule.style.color = 'blue'\n",
              "      break\n",
              "    }\n",
              "  }\n",
              "  "
            ]
          },
          "metadata": {}
        },
        {
          "output_type": "stream",
          "name": "stdout",
          "text": [
            " x3 has item size of 8 bytes\n",
            " x3 occupies  480 bytes\n"
          ]
        }
      ]
    },
    {
      "cell_type": "markdown",
      "source": [
        "# **Array Indexing**\n",
        "# By now you have used Python’s standard list indexing and so indexing in NumPy will feel quite familiar.\n",
        "# In a one-dimensional array, you can access the $i^{th}$  value (counting from zero) by specifying the desired index in square brackets, just as with Python lists.\n",
        "\n"
      ],
      "metadata": {
        "id": "9sDib6q5froD"
      }
    },
    {
      "cell_type": "code",
      "source": [
        "x1"
      ],
      "metadata": {
        "colab": {
          "base_uri": "https://localhost:8080/",
          "height": 67
        },
        "id": "z8GEFTWHflXA",
        "outputId": "87600957-1edc-40a8-e30d-e7dbf5b230e5"
      },
      "execution_count": null,
      "outputs": [
        {
          "output_type": "display_data",
          "data": {
            "text/plain": [
              "<IPython.core.display.Javascript object>"
            ],
            "application/javascript": [
              "\n",
              "  for (rule of document.styleSheets[0].cssRules){\n",
              "    if (rule.selectorText=='body') {\n",
              "      rule.style.fontSize = '40px'\n",
              "      rule.style.color = 'blue'\n",
              "      break\n",
              "    }\n",
              "  }\n",
              "  "
            ]
          },
          "metadata": {}
        },
        {
          "output_type": "execute_result",
          "data": {
            "text/plain": [
              "array([5, 0, 3, 3, 7, 9])"
            ]
          },
          "metadata": {},
          "execution_count": 27
        }
      ]
    },
    {
      "cell_type": "code",
      "source": [
        "# We must given an index if using square brackets\n",
        "\n",
        "print(x1) # show for reference\n",
        "\n",
        "print(x1[0]) # 1st element extracted\n",
        "\n",
        "print(x1[5]) # 6th element extracted\n",
        "\n",
        "# print(x1[6]) # referes to the 7th element which doesnt exist in this array, hence error !\n",
        "\n",
        "f'Note: writing just x[] will throw an error ' # print (x1[])\n",
        "print(x1)\n",
        "print (x1[3]) # 4th element extracted\n",
        "print (x1[4]) # 5th element extracted"
      ],
      "metadata": {
        "colab": {
          "base_uri": "https://localhost:8080/",
          "height": 319
        },
        "id": "_nPdUepDgpZL",
        "outputId": "51c80645-22e8-480a-97b0-76027cc1a643"
      },
      "execution_count": null,
      "outputs": [
        {
          "output_type": "display_data",
          "data": {
            "text/plain": [
              "<IPython.core.display.Javascript object>"
            ],
            "application/javascript": [
              "\n",
              "  for (rule of document.styleSheets[0].cssRules){\n",
              "    if (rule.selectorText=='body') {\n",
              "      rule.style.fontSize = '40px'\n",
              "      rule.style.color = 'blue'\n",
              "      break\n",
              "    }\n",
              "  }\n",
              "  "
            ]
          },
          "metadata": {}
        },
        {
          "output_type": "stream",
          "name": "stdout",
          "text": [
            "[5 0 3 3 7 9]\n",
            "5\n",
            "9\n",
            "[5 0 3 3 7 9]\n",
            "3\n",
            "7\n"
          ]
        }
      ]
    },
    {
      "cell_type": "code",
      "source": [
        "print(x1)\n",
        "print(x1[0])\n",
        "print(x1[-1])\n",
        "\n",
        "f'placing minus in front of index number is like referring to the logical opposite of start ie, the end. Hence we see {x1[-1]}'"
      ],
      "metadata": {
        "colab": {
          "base_uri": "https://localhost:8080/",
          "height": 319
        },
        "id": "s2902PBuhS8D",
        "outputId": "6197b18c-314b-447d-8db8-068ec5605149"
      },
      "execution_count": null,
      "outputs": [
        {
          "output_type": "display_data",
          "data": {
            "text/plain": [
              "<IPython.core.display.Javascript object>"
            ],
            "application/javascript": [
              "\n",
              "  for (rule of document.styleSheets[0].cssRules){\n",
              "    if (rule.selectorText=='body') {\n",
              "      rule.style.fontSize = '40px'\n",
              "      rule.style.color = 'blue'\n",
              "      break\n",
              "    }\n",
              "  }\n",
              "  "
            ]
          },
          "metadata": {}
        },
        {
          "output_type": "stream",
          "name": "stdout",
          "text": [
            "[5 0 3 3 7 9]\n",
            "5\n",
            "9\n"
          ]
        },
        {
          "output_type": "execute_result",
          "data": {
            "text/plain": [
              "'placing minus in front of index number is like referring to the logical of opposite of start ie, the end. Hence we see 9'"
            ],
            "application/vnd.google.colaboratory.intrinsic+json": {
              "type": "string"
            }
          },
          "metadata": {},
          "execution_count": 29
        }
      ]
    },
    {
      "cell_type": "code",
      "source": [
        "print(x1) # printing for quick reference\n",
        "x1[-2] # print the second element from end"
      ],
      "metadata": {
        "colab": {
          "base_uri": "https://localhost:8080/",
          "height": 118
        },
        "id": "5WAz2D_xiNKJ",
        "outputId": "c897bb46-506e-4c6e-cbe6-08447c86cd17"
      },
      "execution_count": null,
      "outputs": [
        {
          "output_type": "display_data",
          "data": {
            "text/plain": [
              "<IPython.core.display.Javascript object>"
            ],
            "application/javascript": [
              "\n",
              "  for (rule of document.styleSheets[0].cssRules){\n",
              "    if (rule.selectorText=='body') {\n",
              "      rule.style.fontSize = '40px'\n",
              "      rule.style.color = 'blue'\n",
              "      break\n",
              "    }\n",
              "  }\n",
              "  "
            ]
          },
          "metadata": {}
        },
        {
          "output_type": "stream",
          "name": "stdout",
          "text": [
            "[5 0 3 3 7 9]\n"
          ]
        },
        {
          "output_type": "execute_result",
          "data": {
            "text/plain": [
              "7"
            ]
          },
          "metadata": {},
          "execution_count": 30
        }
      ]
    },
    {
      "cell_type": "markdown",
      "source": [
        "## In 2-D array here is how slicing works\n",
        "## We use commas to separate to $i^{th} $ row and $j^{th} $ column as in matrix theory\n",
        "\n",
        "\n"
      ],
      "metadata": {
        "id": "pfMvvLAEipG7"
      }
    },
    {
      "cell_type": "code",
      "source": [
        "print(x2) # printing for quick reference\n",
        "print(x2[0,0]) # element first row, first column"
      ],
      "metadata": {
        "colab": {
          "base_uri": "https://localhost:8080/",
          "height": 218
        },
        "id": "oTuGyHIZittC",
        "outputId": "97f26a26-360b-498a-9945-f61454326aa2"
      },
      "execution_count": null,
      "outputs": [
        {
          "output_type": "display_data",
          "data": {
            "text/plain": [
              "<IPython.core.display.Javascript object>"
            ],
            "application/javascript": [
              "\n",
              "  for (rule of document.styleSheets[0].cssRules){\n",
              "    if (rule.selectorText=='body') {\n",
              "      rule.style.fontSize = '40px'\n",
              "      rule.style.color = 'blue'\n",
              "      break\n",
              "    }\n",
              "  }\n",
              "  "
            ]
          },
          "metadata": {}
        },
        {
          "output_type": "stream",
          "name": "stdout",
          "text": [
            "[[3 5 2 4]\n",
            " [7 6 8 8]\n",
            " [1 6 7 7]]\n",
            "3\n"
          ]
        }
      ]
    },
    {
      "cell_type": "code",
      "source": [
        "print(x2) # printing for quick reference\n",
        "print(x2[2,0]) # third row first column"
      ],
      "metadata": {
        "colab": {
          "base_uri": "https://localhost:8080/",
          "height": 218
        },
        "outputId": "4fa0bc96-de5b-4e30-e955-e25691f204ec",
        "id": "MsQlg8bHjmY4"
      },
      "execution_count": null,
      "outputs": [
        {
          "output_type": "display_data",
          "data": {
            "text/plain": [
              "<IPython.core.display.Javascript object>"
            ],
            "application/javascript": [
              "\n",
              "  for (rule of document.styleSheets[0].cssRules){\n",
              "    if (rule.selectorText=='body') {\n",
              "      rule.style.fontSize = '40px'\n",
              "      rule.style.color = 'blue'\n",
              "      break\n",
              "    }\n",
              "  }\n",
              "  "
            ]
          },
          "metadata": {}
        },
        {
          "output_type": "stream",
          "name": "stdout",
          "text": [
            "[[3 5 2 4]\n",
            " [7 6 8 8]\n",
            " [1 6 7 7]]\n",
            "1\n"
          ]
        }
      ]
    },
    {
      "cell_type": "code",
      "source": [
        "print(x2)\n",
        "print(x2[2,-1]) # third row, and first column from end\n",
        "print(x2[2,-0]) # third row, placing -minus in front of zero doesn't work - it still means zero\n",
        "# so element reference is [3,1]"
      ],
      "metadata": {
        "id": "OYbvfIospVt9",
        "outputId": "83d46af2-0efe-4485-ab18-c0354d3db04d",
        "colab": {
          "base_uri": "https://localhost:8080/",
          "height": 269
        }
      },
      "execution_count": null,
      "outputs": [
        {
          "output_type": "display_data",
          "data": {
            "text/plain": [
              "<IPython.core.display.Javascript object>"
            ],
            "application/javascript": [
              "\n",
              "  for (rule of document.styleSheets[0].cssRules){\n",
              "    if (rule.selectorText=='body') {\n",
              "      rule.style.fontSize = '40px'\n",
              "      rule.style.color = 'blue'\n",
              "      break\n",
              "    }\n",
              "  }\n",
              "  "
            ]
          },
          "metadata": {}
        },
        {
          "output_type": "stream",
          "name": "stdout",
          "text": [
            "[[3 5 2 4]\n",
            " [7 6 8 8]\n",
            " [1 6 7 7]]\n",
            "7\n",
            "1\n"
          ]
        }
      ]
    },
    {
      "cell_type": "markdown",
      "source": [
        "# Working with parts of an array  : Sub arrays\n",
        "\n",
        "\n",
        "\n",
        "\n",
        "\n",
        "\n"
      ],
      "metadata": {
        "id": "N9rLNN3lJarz"
      }
    },
    {
      "cell_type": "code",
      "source": [
        "print(x2)"
      ],
      "metadata": {
        "colab": {
          "base_uri": "https://localhost:8080/",
          "height": 168
        },
        "id": "6unv5n48KM2r",
        "outputId": "7ce13618-6d57-4f84-d42d-fa64c45b1097"
      },
      "execution_count": null,
      "outputs": [
        {
          "output_type": "display_data",
          "data": {
            "text/plain": [
              "<IPython.core.display.Javascript object>"
            ],
            "application/javascript": [
              "\n",
              "  for (rule of document.styleSheets[0].cssRules){\n",
              "    if (rule.selectorText=='body') {\n",
              "      rule.style.fontSize = '40px'\n",
              "      rule.style.color = 'blue'\n",
              "      break\n",
              "    }\n",
              "  }\n",
              "  "
            ]
          },
          "metadata": {}
        },
        {
          "output_type": "stream",
          "name": "stdout",
          "text": [
            "[[3 5 2 4]\n",
            " [7 6 8 8]\n",
            " [1 6 7 7]]\n"
          ]
        }
      ]
    },
    {
      "cell_type": "code",
      "source": [
        "# 0:2 is a half open interval [0, 2)\n",
        "x2_sub = x2[:2 , :2]\n",
        "# This means x2_sub = x2[0:2 , 0:2]\n",
        "\n",
        "print(x2_sub)\n",
        "\n",
        "\n",
        "# temp_gt5 = temp[temp>5]"
      ],
      "metadata": {
        "colab": {
          "base_uri": "https://localhost:8080/",
          "height": 118
        },
        "id": "861BvoQlKREc",
        "outputId": "d30527ea-caa8-4ede-e01c-8616419b614d"
      },
      "execution_count": null,
      "outputs": [
        {
          "output_type": "display_data",
          "data": {
            "text/plain": [
              "<IPython.core.display.Javascript object>"
            ],
            "application/javascript": [
              "\n",
              "  for (rule of document.styleSheets[0].cssRules){\n",
              "    if (rule.selectorText=='body') {\n",
              "      rule.style.fontSize = '40px'\n",
              "      rule.style.color = 'blue'\n",
              "      break\n",
              "    }\n",
              "  }\n",
              "  "
            ]
          },
          "metadata": {}
        },
        {
          "output_type": "stream",
          "name": "stdout",
          "text": [
            "[[3 5]\n",
            " [7 6]]\n"
          ]
        }
      ]
    },
    {
      "cell_type": "markdown",
      "source": [
        "Of this sub array if we change one element then original array is also changed. Why did this get changed. x2[:2, :2] creates a only view **not a copied (new) object** of the orginal.\n"
      ],
      "metadata": {
        "id": "nqGgW9K5Kfhb"
      }
    },
    {
      "cell_type": "code",
      "source": [
        "x2_sub[1,1] = 44 # changing one element\n",
        "\n",
        "x2_sub # resulting array"
      ],
      "metadata": {
        "colab": {
          "base_uri": "https://localhost:8080/",
          "height": 118
        },
        "id": "jf_ZMbLdK6H0",
        "outputId": "5ee1e6f2-1a5b-41e7-ed48-f0c097dd736a"
      },
      "execution_count": null,
      "outputs": [
        {
          "output_type": "display_data",
          "data": {
            "text/plain": [
              "<IPython.core.display.Javascript object>"
            ],
            "application/javascript": [
              "\n",
              "  for (rule of document.styleSheets[0].cssRules){\n",
              "    if (rule.selectorText=='body') {\n",
              "      rule.style.fontSize = '40px'\n",
              "      rule.style.color = 'blue'\n",
              "      break\n",
              "    }\n",
              "  }\n",
              "  "
            ]
          },
          "metadata": {}
        },
        {
          "output_type": "execute_result",
          "data": {
            "text/plain": [
              "array([[ 3,  5],\n",
              "       [ 7, 44]])"
            ]
          },
          "metadata": {},
          "execution_count": 36
        }
      ]
    },
    {
      "cell_type": "code",
      "source": [
        "x2"
      ],
      "metadata": {
        "colab": {
          "base_uri": "https://localhost:8080/",
          "height": 168
        },
        "id": "3R6EKm0xLEtT",
        "outputId": "6757b9aa-8900-4b54-b6dc-2ee2e23ffc3d"
      },
      "execution_count": null,
      "outputs": [
        {
          "output_type": "display_data",
          "data": {
            "text/plain": [
              "<IPython.core.display.Javascript object>"
            ],
            "application/javascript": [
              "\n",
              "  for (rule of document.styleSheets[0].cssRules){\n",
              "    if (rule.selectorText=='body') {\n",
              "      rule.style.fontSize = '40px'\n",
              "      rule.style.color = 'blue'\n",
              "      break\n",
              "    }\n",
              "  }\n",
              "  "
            ]
          },
          "metadata": {}
        },
        {
          "output_type": "execute_result",
          "data": {
            "text/plain": [
              "array([[ 3,  5,  2,  4],\n",
              "       [ 7, 44,  8,  8],\n",
              "       [ 1,  6,  7,  7]])"
            ]
          },
          "metadata": {},
          "execution_count": 37
        }
      ]
    },
    {
      "cell_type": "markdown",
      "source": [
        "We see that the change is reflected in the original x2\n",
        "\n"
      ],
      "metadata": {
        "id": "-aoHH5pYLKcU"
      }
    },
    {
      "cell_type": "code",
      "source": [
        "np.random.seed(0)  # seed for reproducibility\n",
        "x4 = np.random.randint(10, size=(3, 4))  # Two-dimensional array\n",
        "print(x4)\n",
        "\n",
        "x4_sub_cc = x4[:2,:2].copy()\n",
        "print(x4_sub_cc)"
      ],
      "metadata": {
        "colab": {
          "base_uri": "https://localhost:8080/",
          "height": 269
        },
        "id": "sPfLoNROLVVT",
        "outputId": "cfcef8bc-a922-4680-9e7f-209b6a382733"
      },
      "execution_count": null,
      "outputs": [
        {
          "output_type": "display_data",
          "data": {
            "text/plain": [
              "<IPython.core.display.Javascript object>"
            ],
            "application/javascript": [
              "\n",
              "  for (rule of document.styleSheets[0].cssRules){\n",
              "    if (rule.selectorText=='body') {\n",
              "      rule.style.fontSize = '40px'\n",
              "      rule.style.color = 'blue'\n",
              "      break\n",
              "    }\n",
              "  }\n",
              "  "
            ]
          },
          "metadata": {}
        },
        {
          "output_type": "stream",
          "name": "stdout",
          "text": [
            "[[5 0 3 3]\n",
            " [7 9 3 5]\n",
            " [2 4 7 6]]\n",
            "[[5 0]\n",
            " [7 9]]\n"
          ]
        }
      ]
    },
    {
      "cell_type": "markdown",
      "source": [
        "# Making copies with copy() function preserves the orginal. Which means no changes in the original.\n",
        "\n",
        "# This becomes useful, when we want to hunt for specific pattern of values that may be mistakes or wrong entries (say, using a logical condition).\n",
        "# Then we can replace such mistakes very easily working on the sub part of the data."
      ],
      "metadata": {
        "id": "2szUdHYmMVIu"
      }
    },
    {
      "cell_type": "code",
      "source": [],
      "metadata": {
        "id": "OGl13BJWmIzz"
      },
      "execution_count": null,
      "outputs": []
    },
    {
      "cell_type": "markdown",
      "source": [
        "But using copy() creates a new object without changing the original.\n"
      ],
      "metadata": {
        "id": "qFF6gOmkmJXh"
      }
    },
    {
      "cell_type": "code",
      "source": [
        "x4_sub_cc[1,1] = 55\n",
        "print(x4_sub_cc)\n",
        "print(x4) # original x4 is preserved"
      ],
      "metadata": {
        "colab": {
          "base_uri": "https://localhost:8080/",
          "height": 269
        },
        "id": "NVnheET6MV6r",
        "outputId": "4de9c9f5-419e-4375-9383-1fc93028a18e"
      },
      "execution_count": null,
      "outputs": [
        {
          "output_type": "display_data",
          "data": {
            "text/plain": [
              "<IPython.core.display.Javascript object>"
            ],
            "application/javascript": [
              "\n",
              "  for (rule of document.styleSheets[0].cssRules){\n",
              "    if (rule.selectorText=='body') {\n",
              "      rule.style.fontSize = '40px'\n",
              "      rule.style.color = 'blue'\n",
              "      break\n",
              "    }\n",
              "  }\n",
              "  "
            ]
          },
          "metadata": {}
        },
        {
          "output_type": "stream",
          "name": "stdout",
          "text": [
            "[[ 5  0]\n",
            " [ 7 55]]\n",
            "[[5 0 3 3]\n",
            " [7 9 3 5]\n",
            " [2 4 7 6]]\n"
          ]
        }
      ]
    },
    {
      "cell_type": "markdown",
      "source": [
        "# Occassionally, we want to change the shape using reshape()\n",
        "# Condition is that the number of elements in 1D array must match the number of elements in the 2D array. And vice versa"
      ],
      "metadata": {
        "id": "CPh0YPdoNtKD"
      }
    },
    {
      "cell_type": "markdown",
      "source": [],
      "metadata": {
        "id": "Pe2YnqrGN_f6"
      }
    },
    {
      "cell_type": "code",
      "source": [
        "x5 = np.arange(1, 10)\n",
        "print(x5.size)  # 9\n",
        "print(x5)\n",
        "x5 = np.arange(1, 10).reshape(3,3) # crecreate 2 D array  3 rows 3 cols\n",
        "print(x5)\n"
      ],
      "metadata": {
        "colab": {
          "base_uri": "https://localhost:8080/",
          "height": 269
        },
        "id": "laQH5SRhOCr6",
        "outputId": "ec812466-a8a2-41a9-82f4-801183ad7420"
      },
      "execution_count": null,
      "outputs": [
        {
          "output_type": "display_data",
          "data": {
            "text/plain": [
              "<IPython.core.display.Javascript object>"
            ],
            "application/javascript": [
              "\n",
              "  for (rule of document.styleSheets[0].cssRules){\n",
              "    if (rule.selectorText=='body') {\n",
              "      rule.style.fontSize = '40px'\n",
              "      rule.style.color = 'blue'\n",
              "      break\n",
              "    }\n",
              "  }\n",
              "  "
            ]
          },
          "metadata": {}
        },
        {
          "output_type": "stream",
          "name": "stdout",
          "text": [
            "9\n",
            "[1 2 3 4 5 6 7 8 9]\n",
            "[[1 2 3]\n",
            " [4 5 6]\n",
            " [7 8 9]]\n"
          ]
        }
      ]
    },
    {
      "cell_type": "code",
      "source": [
        "\n",
        "x5_n = np.arange(1, 10).reshape(3,3)\n",
        "print(x5_n.size)\n",
        "print(x5_n)\n",
        "\n",
        "# x5_wrong = np.arange(1, 10).reshape(3,2) # throws a an error\n"
      ],
      "metadata": {
        "id": "QxRF4v6Tm6Wd",
        "colab": {
          "base_uri": "https://localhost:8080/",
          "height": 218
        },
        "outputId": "d0c0c126-2031-415b-be50-7813524184cb"
      },
      "execution_count": null,
      "outputs": [
        {
          "output_type": "display_data",
          "data": {
            "text/plain": [
              "<IPython.core.display.Javascript object>"
            ],
            "application/javascript": [
              "\n",
              "  for (rule of document.styleSheets[0].cssRules){\n",
              "    if (rule.selectorText=='body') {\n",
              "      rule.style.fontSize = '40px'\n",
              "      rule.style.color = 'blue'\n",
              "      break\n",
              "    }\n",
              "  }\n",
              "  "
            ]
          },
          "metadata": {}
        },
        {
          "output_type": "stream",
          "name": "stdout",
          "text": [
            "9\n",
            "[[1 2 3]\n",
            " [4 5 6]\n",
            " [7 8 9]]\n"
          ]
        }
      ]
    },
    {
      "cell_type": "code",
      "source": [
        "x9 = np.array([4,5,6])\n",
        "x9_n = x9.reshape(3,1) # 3 rows and 1 column; x9 remains the original shape\n",
        "print(x9_n)"
      ],
      "metadata": {
        "colab": {
          "base_uri": "https://localhost:8080/",
          "height": 168
        },
        "id": "sc5SN7eeP_U5",
        "outputId": "aecf12ec-0b0b-45a1-e4c7-1e094ea3a193"
      },
      "execution_count": null,
      "outputs": [
        {
          "output_type": "display_data",
          "data": {
            "text/plain": [
              "<IPython.core.display.Javascript object>"
            ],
            "application/javascript": [
              "\n",
              "  for (rule of document.styleSheets[0].cssRules){\n",
              "    if (rule.selectorText=='body') {\n",
              "      rule.style.fontSize = '40px'\n",
              "      rule.style.color = 'blue'\n",
              "      break\n",
              "    }\n",
              "  }\n",
              "  "
            ]
          },
          "metadata": {}
        },
        {
          "output_type": "stream",
          "name": "stdout",
          "text": [
            "[[4]\n",
            " [5]\n",
            " [6]]\n"
          ]
        }
      ]
    },
    {
      "cell_type": "markdown",
      "source": [
        "But x9 remains as such"
      ],
      "metadata": {
        "id": "mD9Rr4kGRarp"
      }
    },
    {
      "cell_type": "code",
      "source": [
        "\n",
        "print(x9) # x9 remains the original"
      ],
      "metadata": {
        "id": "-O7AXVxsRaFo",
        "colab": {
          "base_uri": "https://localhost:8080/",
          "height": 67
        },
        "outputId": "5f274db4-6f99-4d2e-d2f8-bf76fed24afd"
      },
      "execution_count": null,
      "outputs": [
        {
          "output_type": "display_data",
          "data": {
            "text/plain": [
              "<IPython.core.display.Javascript object>"
            ],
            "application/javascript": [
              "\n",
              "  for (rule of document.styleSheets[0].cssRules){\n",
              "    if (rule.selectorText=='body') {\n",
              "      rule.style.fontSize = '40px'\n",
              "      rule.style.color = 'blue'\n",
              "      break\n",
              "    }\n",
              "  }\n",
              "  "
            ]
          },
          "metadata": {}
        },
        {
          "output_type": "stream",
          "name": "stdout",
          "text": [
            "[4 5 6]\n"
          ]
        }
      ]
    },
    {
      "cell_type": "markdown",
      "source": [
        "Another alternative is to add newaxis"
      ],
      "metadata": {
        "id": "8RApCFvpQhqF"
      }
    },
    {
      "cell_type": "code",
      "source": [
        "print(x9)\n",
        "\n",
        "x9[np.newaxis , :]\n"
      ],
      "metadata": {
        "id": "jkXJ7coQQmNU",
        "colab": {
          "base_uri": "https://localhost:8080/",
          "height": 118
        },
        "outputId": "a9991b92-11ac-4dce-b1f1-89a45899117c"
      },
      "execution_count": null,
      "outputs": [
        {
          "output_type": "display_data",
          "data": {
            "text/plain": [
              "<IPython.core.display.Javascript object>"
            ],
            "application/javascript": [
              "\n",
              "  for (rule of document.styleSheets[0].cssRules){\n",
              "    if (rule.selectorText=='body') {\n",
              "      rule.style.fontSize = '40px'\n",
              "      rule.style.color = 'blue'\n",
              "      break\n",
              "    }\n",
              "  }\n",
              "  "
            ]
          },
          "metadata": {}
        },
        {
          "output_type": "stream",
          "name": "stdout",
          "text": [
            "[4 5 6]\n"
          ]
        },
        {
          "output_type": "execute_result",
          "data": {
            "text/plain": [
              "array([[4, 5, 6]])"
            ]
          },
          "metadata": {},
          "execution_count": 44
        }
      ]
    },
    {
      "cell_type": "markdown",
      "source": [
        "# Joining Arrays : Concatenating"
      ],
      "metadata": {
        "id": "Ofgy4zYLSOmp"
      }
    },
    {
      "cell_type": "code",
      "source": [
        "x = np.array([9, 8, 7])\n",
        "y = np.array([1, 2, 3])\n",
        "np.concatenate([x, y])\n",
        "np.concatenate([y, x]) # order matters\n"
      ],
      "metadata": {
        "id": "jWDsUn-CShZJ",
        "colab": {
          "base_uri": "https://localhost:8080/",
          "height": 67
        },
        "outputId": "b05bbcea-e48b-40d1-e7b8-658ffc1b6af5"
      },
      "execution_count": null,
      "outputs": [
        {
          "output_type": "display_data",
          "data": {
            "text/plain": [
              "<IPython.core.display.Javascript object>"
            ],
            "application/javascript": [
              "\n",
              "  for (rule of document.styleSheets[0].cssRules){\n",
              "    if (rule.selectorText=='body') {\n",
              "      rule.style.fontSize = '40px'\n",
              "      rule.style.color = 'blue'\n",
              "      break\n",
              "    }\n",
              "  }\n",
              "  "
            ]
          },
          "metadata": {}
        },
        {
          "output_type": "execute_result",
          "data": {
            "text/plain": [
              "array([1, 2, 3, 9, 8, 7])"
            ]
          },
          "metadata": {},
          "execution_count": 45
        }
      ]
    },
    {
      "cell_type": "code",
      "source": [
        "grid = np.array([[1, 2, 3],\n",
        "                 [4, 5, 6]])\n",
        "\n",
        "grid"
      ],
      "metadata": {
        "id": "xIdCmYxwS9aZ",
        "colab": {
          "base_uri": "https://localhost:8080/",
          "height": 118
        },
        "outputId": "543529c9-1267-42e9-f1a9-8899a7459c2d"
      },
      "execution_count": null,
      "outputs": [
        {
          "output_type": "display_data",
          "data": {
            "text/plain": [
              "<IPython.core.display.Javascript object>"
            ],
            "application/javascript": [
              "\n",
              "  for (rule of document.styleSheets[0].cssRules){\n",
              "    if (rule.selectorText=='body') {\n",
              "      rule.style.fontSize = '40px'\n",
              "      rule.style.color = 'blue'\n",
              "      break\n",
              "    }\n",
              "  }\n",
              "  "
            ]
          },
          "metadata": {}
        },
        {
          "output_type": "execute_result",
          "data": {
            "text/plain": [
              "array([[1, 2, 3],\n",
              "       [4, 5, 6]])"
            ]
          },
          "metadata": {},
          "execution_count": 46
        }
      ]
    },
    {
      "cell_type": "markdown",
      "source": [],
      "metadata": {
        "id": "HH7rPGwcoFQp"
      }
    },
    {
      "cell_type": "code",
      "source": [
        "np.concatenate([grid, grid]) # Placed after"
      ],
      "metadata": {
        "id": "jtCR_x4MTF3I",
        "colab": {
          "base_uri": "https://localhost:8080/",
          "height": 218
        },
        "outputId": "7ff95a87-f03c-41e8-9172-cb1f3cbe2cc1"
      },
      "execution_count": null,
      "outputs": [
        {
          "output_type": "display_data",
          "data": {
            "text/plain": [
              "<IPython.core.display.Javascript object>"
            ],
            "application/javascript": [
              "\n",
              "  for (rule of document.styleSheets[0].cssRules){\n",
              "    if (rule.selectorText=='body') {\n",
              "      rule.style.fontSize = '40px'\n",
              "      rule.style.color = 'blue'\n",
              "      break\n",
              "    }\n",
              "  }\n",
              "  "
            ]
          },
          "metadata": {}
        },
        {
          "output_type": "execute_result",
          "data": {
            "text/plain": [
              "array([[1, 2, 3],\n",
              "       [4, 5, 6],\n",
              "       [1, 2, 3],\n",
              "       [4, 5, 6]])"
            ]
          },
          "metadata": {},
          "execution_count": 47
        }
      ]
    },
    {
      "cell_type": "code",
      "source": [
        "np.concatenate([grid, grid], axis = 0) # Placed after axis = 0 is default\n"
      ],
      "metadata": {
        "id": "zCPtntfsTYTx",
        "colab": {
          "base_uri": "https://localhost:8080/",
          "height": 218
        },
        "outputId": "421b9979-2161-46a7-ecab-dcc4f6c6945b"
      },
      "execution_count": null,
      "outputs": [
        {
          "output_type": "display_data",
          "data": {
            "text/plain": [
              "<IPython.core.display.Javascript object>"
            ],
            "application/javascript": [
              "\n",
              "  for (rule of document.styleSheets[0].cssRules){\n",
              "    if (rule.selectorText=='body') {\n",
              "      rule.style.fontSize = '40px'\n",
              "      rule.style.color = 'blue'\n",
              "      break\n",
              "    }\n",
              "  }\n",
              "  "
            ]
          },
          "metadata": {}
        },
        {
          "output_type": "execute_result",
          "data": {
            "text/plain": [
              "array([[1, 2, 3],\n",
              "       [4, 5, 6],\n",
              "       [1, 2, 3],\n",
              "       [4, 5, 6]])"
            ]
          },
          "metadata": {},
          "execution_count": 48
        }
      ]
    },
    {
      "cell_type": "code",
      "source": [
        "\n",
        "np.concatenate([grid, grid], axis = 1) # Placed interleaved"
      ],
      "metadata": {
        "id": "vPSNnpA8oUo0",
        "colab": {
          "base_uri": "https://localhost:8080/",
          "height": 118
        },
        "outputId": "1b26d721-333b-4c0d-e52c-78c6977dc5bc"
      },
      "execution_count": null,
      "outputs": [
        {
          "output_type": "display_data",
          "data": {
            "text/plain": [
              "<IPython.core.display.Javascript object>"
            ],
            "application/javascript": [
              "\n",
              "  for (rule of document.styleSheets[0].cssRules){\n",
              "    if (rule.selectorText=='body') {\n",
              "      rule.style.fontSize = '40px'\n",
              "      rule.style.color = 'blue'\n",
              "      break\n",
              "    }\n",
              "  }\n",
              "  "
            ]
          },
          "metadata": {}
        },
        {
          "output_type": "execute_result",
          "data": {
            "text/plain": [
              "array([[1, 2, 3, 1, 2, 3],\n",
              "       [4, 5, 6, 4, 5, 6]])"
            ]
          },
          "metadata": {},
          "execution_count": 49
        }
      ]
    },
    {
      "cell_type": "markdown",
      "source": [
        "# Making a Vertical Stack of elements"
      ],
      "metadata": {
        "id": "6c5-GNHJURJI"
      }
    },
    {
      "cell_type": "code",
      "source": [
        "x = np.array([1,2,3]) # 1D array\n",
        "\n",
        "grid = np.array([[9,8,7],\n",
        "                [6,5,4]]) # 2D\n",
        "\n",
        "np.vstack([x, grid])\n"
      ],
      "metadata": {
        "id": "nxQNRa2RTt0P",
        "colab": {
          "base_uri": "https://localhost:8080/",
          "height": 168
        },
        "outputId": "b62802a5-caab-4d18-ec80-463f1a95050f"
      },
      "execution_count": null,
      "outputs": [
        {
          "output_type": "display_data",
          "data": {
            "text/plain": [
              "<IPython.core.display.Javascript object>"
            ],
            "application/javascript": [
              "\n",
              "  for (rule of document.styleSheets[0].cssRules){\n",
              "    if (rule.selectorText=='body') {\n",
              "      rule.style.fontSize = '40px'\n",
              "      rule.style.color = 'blue'\n",
              "      break\n",
              "    }\n",
              "  }\n",
              "  "
            ]
          },
          "metadata": {}
        },
        {
          "output_type": "execute_result",
          "data": {
            "text/plain": [
              "array([[1, 2, 3],\n",
              "       [9, 8, 7],\n",
              "       [6, 5, 4]])"
            ]
          },
          "metadata": {},
          "execution_count": 50
        }
      ]
    },
    {
      "cell_type": "markdown",
      "source": [
        "# Making a Horizontal Stack of elements"
      ],
      "metadata": {
        "id": "3BGLFSVXUaDw"
      }
    },
    {
      "cell_type": "code",
      "source": [
        "zz = np.array([[99],\n",
        "               [99]\n",
        "               ])\n",
        "print(zz)"
      ],
      "metadata": {
        "id": "_Xkzz6KiUe5e",
        "colab": {
          "base_uri": "https://localhost:8080/",
          "height": 118
        },
        "outputId": "45bce560-17b0-4af0-c6cb-93044d575f4d"
      },
      "execution_count": null,
      "outputs": [
        {
          "output_type": "display_data",
          "data": {
            "text/plain": [
              "<IPython.core.display.Javascript object>"
            ],
            "application/javascript": [
              "\n",
              "  for (rule of document.styleSheets[0].cssRules){\n",
              "    if (rule.selectorText=='body') {\n",
              "      rule.style.fontSize = '40px'\n",
              "      rule.style.color = 'blue'\n",
              "      break\n",
              "    }\n",
              "  }\n",
              "  "
            ]
          },
          "metadata": {}
        },
        {
          "output_type": "stream",
          "name": "stdout",
          "text": [
            "[[99]\n",
            " [99]]\n"
          ]
        }
      ]
    },
    {
      "cell_type": "code",
      "source": [
        "np.hstack([grid, zz])\n",
        "np.hstack([zz, grid])"
      ],
      "metadata": {
        "id": "QYQDf0H0UtEn",
        "colab": {
          "base_uri": "https://localhost:8080/",
          "height": 118
        },
        "outputId": "18cd988a-14c2-4a7f-b1b5-27d70256f27a"
      },
      "execution_count": null,
      "outputs": [
        {
          "output_type": "display_data",
          "data": {
            "text/plain": [
              "<IPython.core.display.Javascript object>"
            ],
            "application/javascript": [
              "\n",
              "  for (rule of document.styleSheets[0].cssRules){\n",
              "    if (rule.selectorText=='body') {\n",
              "      rule.style.fontSize = '40px'\n",
              "      rule.style.color = 'blue'\n",
              "      break\n",
              "    }\n",
              "  }\n",
              "  "
            ]
          },
          "metadata": {}
        },
        {
          "output_type": "execute_result",
          "data": {
            "text/plain": [
              "array([[99,  9,  8,  7],\n",
              "       [99,  6,  5,  4]])"
            ]
          },
          "metadata": {},
          "execution_count": 52
        }
      ]
    },
    {
      "cell_type": "markdown",
      "source": [
        "Splitting of arrays\n",
        "Just as concatenating is joining arrays with some functions, we have\n",
        "\n",
        "np.split\n",
        "np.hsplit\n",
        "np.vsplit"
      ],
      "metadata": {
        "id": "qwFfGEuWNMmE"
      }
    },
    {
      "cell_type": "markdown",
      "source": [
        "Note : We gave two split points, we got three arrays"
      ],
      "metadata": {
        "id": "7G6GUgDfNlxk"
      }
    },
    {
      "cell_type": "code",
      "source": [],
      "metadata": {
        "id": "WOSb7XWWNlUc"
      },
      "execution_count": null,
      "outputs": []
    },
    {
      "cell_type": "code",
      "source": [
        " x = [1, 2, 3, 99, 99, 3, 2, 1]\n",
        "x1, x2, x3 = np.split(x, [3, 5])\n",
        "print(x1, x2, x3)"
      ],
      "metadata": {
        "colab": {
          "base_uri": "https://localhost:8080/",
          "height": 67
        },
        "id": "LHof01CYNfan",
        "outputId": "55b00ba7-8e77-48c0-b531-9dc26930bdfd"
      },
      "execution_count": null,
      "outputs": [
        {
          "output_type": "display_data",
          "data": {
            "text/plain": [
              "<IPython.core.display.Javascript object>"
            ],
            "application/javascript": [
              "\n",
              "  for (rule of document.styleSheets[0].cssRules){\n",
              "    if (rule.selectorText=='body') {\n",
              "      rule.style.fontSize = '40px'\n",
              "      rule.style.color = 'blue'\n",
              "      break\n",
              "    }\n",
              "  }\n",
              "  "
            ]
          },
          "metadata": {}
        },
        {
          "output_type": "stream",
          "name": "stdout",
          "text": [
            "[1 2 3] [99 99] [3 2 1]\n"
          ]
        }
      ]
    },
    {
      "cell_type": "markdown",
      "source": [
        "Create a grid object for demo. Then apply hsplit and vplit to it."
      ],
      "metadata": {
        "id": "tzrRitUfN37E"
      }
    },
    {
      "cell_type": "code",
      "source": [
        "grid = np.arange(16).reshape((4, 4))\n",
        "grid"
      ],
      "metadata": {
        "colab": {
          "base_uri": "https://localhost:8080/",
          "height": 218
        },
        "id": "4mGeggdUNwgr",
        "outputId": "c3f726e1-2ffa-4419-cf56-30a9d97c2343"
      },
      "execution_count": null,
      "outputs": [
        {
          "output_type": "display_data",
          "data": {
            "text/plain": [
              "<IPython.core.display.Javascript object>"
            ],
            "application/javascript": [
              "\n",
              "  for (rule of document.styleSheets[0].cssRules){\n",
              "    if (rule.selectorText=='body') {\n",
              "      rule.style.fontSize = '40px'\n",
              "      rule.style.color = 'blue'\n",
              "      break\n",
              "    }\n",
              "  }\n",
              "  "
            ]
          },
          "metadata": {}
        },
        {
          "output_type": "execute_result",
          "data": {
            "text/plain": [
              "array([[ 0,  1,  2,  3],\n",
              "       [ 4,  5,  6,  7],\n",
              "       [ 8,  9, 10, 11],\n",
              "       [12, 13, 14, 15]])"
            ]
          },
          "metadata": {},
          "execution_count": 54
        }
      ]
    },
    {
      "cell_type": "code",
      "source": [
        "upper, lower = np.vsplit(grid, [2])\n",
        "print(upper)\n",
        "print(lower)"
      ],
      "metadata": {
        "colab": {
          "base_uri": "https://localhost:8080/",
          "height": 218
        },
        "id": "LjHiQ_MWOE4e",
        "outputId": "c8cefa55-fb7c-4048-d580-e3233503257d"
      },
      "execution_count": null,
      "outputs": [
        {
          "output_type": "display_data",
          "data": {
            "text/plain": [
              "<IPython.core.display.Javascript object>"
            ],
            "application/javascript": [
              "\n",
              "  for (rule of document.styleSheets[0].cssRules){\n",
              "    if (rule.selectorText=='body') {\n",
              "      rule.style.fontSize = '40px'\n",
              "      rule.style.color = 'blue'\n",
              "      break\n",
              "    }\n",
              "  }\n",
              "  "
            ]
          },
          "metadata": {}
        },
        {
          "output_type": "stream",
          "name": "stdout",
          "text": [
            "[[0 1 2 3]\n",
            " [4 5 6 7]]\n",
            "[[ 8  9 10 11]\n",
            " [12 13 14 15]]\n"
          ]
        }
      ]
    }
  ]
}