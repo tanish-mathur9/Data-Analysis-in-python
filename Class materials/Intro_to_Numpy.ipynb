{
 "cells": [
  {
   "cell_type": "markdown",
   "metadata": {
    "id": "0Ku5WFsFrCId"
   },
   "source": [
    "#Array Library\n",
    "<font size = 11 face = leelawadee color = blue>\n",
    "# We will first briefly examine `array`.  We can import array module\n",
    "## For more info read the docs:<br>\n",
    "https://docs.python.org/3/library/array.html\n",
    "<br>\n",
    "# We can see it supports `int, float, str`\n",
    "<br>\n",
    "# The `array` module is a recent introduction in `Py 3.3`, whereas `numpy` is dates back to the very early days (NumPy: 1995, Py : 1991). Hence Numpy has been in use much longer and we find its application very widely. We will study Numpy in greater detail. However, we touch on `array` module briefly to create awareness.\n",
    "<br>\n",
    "# Array : What & Why  \n",
    "## What : same data type object in the entire sequence of values\n",
    "## Why :  Compact representation\n",
    "<br>\n",
    "`...compactly represent an array of basic values: characters, integers, floating point numbers. Arrays are sequence types and behave very much like lists, except that the type of objects stored in them is constrained. The type is specified at object creation time by using a type code..`\n",
    "<br>\n",
    "# Array Vs List<br>\n",
    "-- Difference in Data Types allowed : Array is Homogenous ; List : Heterogenous <br>\n",
    "-- Difference in Data Types allowed : Array is Fixed ; List : Mixed\n",
    "<br>\n",
    "# Same : Sequence, Values Allowed, Method of Access `[  ]`    "
   ]
  },
  {
   "cell_type": "code",
   "execution_count": null,
   "metadata": {
    "id": "7GewhK1ZiQqB"
   },
   "outputs": [],
   "source": []
  },
  {
   "cell_type": "code",
   "execution_count": 13,
   "metadata": {
    "cellView": "form",
    "colab": {
     "base_uri": "https://localhost:8080/",
     "height": 118
    },
    "id": "u1VTt_uMBIex",
    "outputId": "57af33c4-0787-41a7-cffa-2d63adfbc76a"
   },
   "outputs": [
    {
     "name": "stdout",
     "output_type": "stream",
     "text": [
      "Error in callback <function increase_font at 0x000001F805C28400> (for pre_run_cell), with arguments args (<ExecutionInfo object at 1f805bddb70, raw_cell=\"# @title\n",
      "def increase_font():\n",
      "  from IPython.displ..\" store_history=True silent=False shell_futures=True cell_id=e3955a72-75f3-4fc4-a12b-58852c48cf80>,),kwargs {}:\n"
     ]
    },
    {
     "ename": "TypeError",
     "evalue": "increase_font() takes 0 positional arguments but 1 was given",
     "output_type": "error",
     "traceback": [
      "\u001b[1;31m---------------------------------------------------------------------------\u001b[0m",
      "\u001b[1;31mTypeError\u001b[0m                                 Traceback (most recent call last)",
      "\u001b[1;31mTypeError\u001b[0m: increase_font() takes 0 positional arguments but 1 was given"
     ]
    },
    {
     "data": {
      "application/javascript": [
       "\n",
       "  for (rule of document.styleSheets[0].cssRules){\n",
       "    if (rule.selectorText=='body') {\n",
       "      rule.style.fontSize = '40px'\n",
       "      rule.style.color = 'darkblue'\n",
       "      break\n",
       "    }\n",
       "  }\n",
       "  "
      ],
      "text/plain": [
       "<IPython.core.display.Javascript object>"
      ]
     },
     "metadata": {},
     "output_type": "display_data"
    },
    {
     "name": "stdout",
     "output_type": "stream",
     "text": [
      "Hello in \n",
      "...in larger font \n"
     ]
    }
   ],
   "source": [
    "# @title\n",
    "def increase_font():\n",
    "  from IPython.display import Javascript\n",
    "  display(Javascript('''\n",
    "  for (rule of document.styleSheets[0].cssRules){\n",
    "    if (rule.selectorText=='body') {\n",
    "      rule.style.fontSize = '40px'\n",
    "      rule.style.color = 'darkblue'\n",
    "      break\n",
    "    }\n",
    "  }\n",
    "  '''))\n",
    "increase_font()\n",
    "get_ipython().events.register('pre_run_cell', increase_font)\n",
    "print(\"Hello in \")\n",
    "print(\"...in larger font \")"
   ]
  },
  {
   "cell_type": "markdown",
   "metadata": {
    "id": "bYW-ijC90eD9"
   },
   "source": [
    "|module|method|argument|\n",
    "|--|--|--|\n",
    "|array|array|(nums)|"
   ]
  },
  {
   "cell_type": "code",
   "execution_count": 14,
   "metadata": {
    "id": "9ckGt5yN1LC-"
   },
   "outputs": [
    {
     "name": "stdout",
     "output_type": "stream",
     "text": [
      "Error in callback <function increase_font at 0x000001F805C28400> (for pre_run_cell), with arguments args (<ExecutionInfo object at 1f8061e9550, raw_cell=\"import array\" store_history=True silent=False shell_futures=True cell_id=6c23cfd4-fd55-45bf-983a-61342d2c5df3>,),kwargs {}:\n"
     ]
    },
    {
     "ename": "TypeError",
     "evalue": "increase_font() takes 0 positional arguments but 1 was given",
     "output_type": "error",
     "traceback": [
      "\u001b[1;31m---------------------------------------------------------------------------\u001b[0m",
      "\u001b[1;31mTypeError\u001b[0m                                 Traceback (most recent call last)",
      "\u001b[1;31mTypeError\u001b[0m: increase_font() takes 0 positional arguments but 1 was given"
     ]
    },
    {
     "name": "stdout",
     "output_type": "stream",
     "text": [
      "Error in callback <function increase_font at 0x000001F8061DB9C0> (for pre_run_cell), with arguments args (<ExecutionInfo object at 1f8061e9550, raw_cell=\"import array\" store_history=True silent=False shell_futures=True cell_id=6c23cfd4-fd55-45bf-983a-61342d2c5df3>,),kwargs {}:\n"
     ]
    },
    {
     "ename": "TypeError",
     "evalue": "increase_font() takes 0 positional arguments but 1 was given",
     "output_type": "error",
     "traceback": [
      "\u001b[1;31m---------------------------------------------------------------------------\u001b[0m",
      "\u001b[1;31mTypeError\u001b[0m                                 Traceback (most recent call last)",
      "\u001b[1;31mTypeError\u001b[0m: increase_font() takes 0 positional arguments but 1 was given"
     ]
    }
   ],
   "source": [
    "import array"
   ]
  },
  {
   "cell_type": "code",
   "execution_count": 15,
   "metadata": {
    "colab": {
     "base_uri": "https://localhost:8080/",
     "height": 67
    },
    "id": "3hX58Ygv1TKH",
    "outputId": "116df123-dc4d-4047-b2f0-85e81cabc546"
   },
   "outputs": [
    {
     "name": "stdout",
     "output_type": "stream",
     "text": [
      "Error in callback <function increase_font at 0x000001F805C28400> (for pre_run_cell), with arguments args (<ExecutionInfo object at 1f805ccc530, raw_cell=\"nums = list(range(0, 10))\n",
      "# nums = list(range(100,..\" store_history=True silent=False shell_futures=True cell_id=3f58dac4-e553-437d-ac27-c5f01d3eb3a8>,),kwargs {}:\n"
     ]
    },
    {
     "ename": "TypeError",
     "evalue": "increase_font() takes 0 positional arguments but 1 was given",
     "output_type": "error",
     "traceback": [
      "\u001b[1;31m---------------------------------------------------------------------------\u001b[0m",
      "\u001b[1;31mTypeError\u001b[0m                                 Traceback (most recent call last)",
      "\u001b[1;31mTypeError\u001b[0m: increase_font() takes 0 positional arguments but 1 was given"
     ]
    },
    {
     "name": "stdout",
     "output_type": "stream",
     "text": [
      "Error in callback <function increase_font at 0x000001F8061DB9C0> (for pre_run_cell), with arguments args (<ExecutionInfo object at 1f805ccc530, raw_cell=\"nums = list(range(0, 10))\n",
      "# nums = list(range(100,..\" store_history=True silent=False shell_futures=True cell_id=3f58dac4-e553-437d-ac27-c5f01d3eb3a8>,),kwargs {}:\n"
     ]
    },
    {
     "ename": "TypeError",
     "evalue": "increase_font() takes 0 positional arguments but 1 was given",
     "output_type": "error",
     "traceback": [
      "\u001b[1;31m---------------------------------------------------------------------------\u001b[0m",
      "\u001b[1;31mTypeError\u001b[0m                                 Traceback (most recent call last)",
      "\u001b[1;31mTypeError\u001b[0m: increase_font() takes 0 positional arguments but 1 was given"
     ]
    },
    {
     "data": {
      "text/plain": [
       "array('i', [0, 1, 2, 3, 4, 5, 6, 7, 8, 9])"
      ]
     },
     "execution_count": 15,
     "metadata": {},
     "output_type": "execute_result"
    }
   ],
   "source": [
    "nums = list(range(0, 10))\n",
    "# nums = list(range(100, 600, 100))\n",
    "nums # has only ints\n",
    "nums_arr_1 = array.array('i', nums) # note typecode `i` is used\n",
    "nums_arr_1"
   ]
  },
  {
   "cell_type": "markdown",
   "metadata": {
    "id": "9Pq6TWobrAbv"
   },
   "source": [
    "# When we insert a `float` into a `int` list and then passed to\n",
    "# `array.array('f', nums )` the `int`s in that list will get assigned `float`"
   ]
  },
  {
   "cell_type": "code",
   "execution_count": 16,
   "metadata": {
    "colab": {
     "base_uri": "https://localhost:8080/",
     "height": 67
    },
    "id": "BLXHgda933uV",
    "outputId": "54e68ad7-4cee-4b5a-d341-9423b05a210a"
   },
   "outputs": [
    {
     "name": "stdout",
     "output_type": "stream",
     "text": [
      "Error in callback <function increase_font at 0x000001F805C28400> (for pre_run_cell), with arguments args (<ExecutionInfo object at 1f805c913d0, raw_cell=\"# @title\n",
      "nums.insert(5, 6.7)\n",
      "nums\n",
      "nums[5]\n",
      "nums_arr..\" store_history=True silent=False shell_futures=True cell_id=52c43fb7-e3e9-4b2f-81f9-be9a0d388878>,),kwargs {}:\n"
     ]
    },
    {
     "ename": "TypeError",
     "evalue": "increase_font() takes 0 positional arguments but 1 was given",
     "output_type": "error",
     "traceback": [
      "\u001b[1;31m---------------------------------------------------------------------------\u001b[0m",
      "\u001b[1;31mTypeError\u001b[0m                                 Traceback (most recent call last)",
      "\u001b[1;31mTypeError\u001b[0m: increase_font() takes 0 positional arguments but 1 was given"
     ]
    },
    {
     "name": "stdout",
     "output_type": "stream",
     "text": [
      "Error in callback <function increase_font at 0x000001F8061DB9C0> (for pre_run_cell), with arguments args (<ExecutionInfo object at 1f805c913d0, raw_cell=\"# @title\n",
      "nums.insert(5, 6.7)\n",
      "nums\n",
      "nums[5]\n",
      "nums_arr..\" store_history=True silent=False shell_futures=True cell_id=52c43fb7-e3e9-4b2f-81f9-be9a0d388878>,),kwargs {}:\n"
     ]
    },
    {
     "ename": "TypeError",
     "evalue": "increase_font() takes 0 positional arguments but 1 was given",
     "output_type": "error",
     "traceback": [
      "\u001b[1;31m---------------------------------------------------------------------------\u001b[0m",
      "\u001b[1;31mTypeError\u001b[0m                                 Traceback (most recent call last)",
      "\u001b[1;31mTypeError\u001b[0m: increase_font() takes 0 positional arguments but 1 was given"
     ]
    },
    {
     "data": {
      "text/plain": [
       "int"
      ]
     },
     "execution_count": 16,
     "metadata": {},
     "output_type": "execute_result"
    }
   ],
   "source": [
    "# @title\n",
    "nums.insert(5, 6.7)\n",
    "nums\n",
    "nums[5]\n",
    "nums_arr = array.array('f', nums) # note typecode `f` is used\n",
    "# nums_arr = array.array('i', nums) # throws error\n",
    "nums_arr\n",
    "nums_arr[5] # note how `6.7` appears because of internal representation\n",
    "type(nums_arr[0]) # float\n",
    "type(nums[0]) # int\n",
    "# mean(nums) # int\n"
   ]
  },
  {
   "cell_type": "code",
   "execution_count": 17,
   "metadata": {
    "colab": {
     "base_uri": "https://localhost:8080/",
     "height": 17
    },
    "id": "94Md8jVeEpzq",
    "outputId": "41ce3367-1e77-4a7b-8171-9e4ce87224f9"
   },
   "outputs": [
    {
     "name": "stdout",
     "output_type": "stream",
     "text": [
      "Error in callback <function increase_font at 0x000001F805C28400> (for pre_run_cell), with arguments args (<ExecutionInfo object at 1f805c91fd0, raw_cell=\"# print(f'The array of values was \\n: {nums}\\n wit..\" store_history=True silent=False shell_futures=True cell_id=73ee0318-0e63-4d38-a022-941ade6ef16c>,),kwargs {}:\n"
     ]
    },
    {
     "ename": "TypeError",
     "evalue": "increase_font() takes 0 positional arguments but 1 was given",
     "output_type": "error",
     "traceback": [
      "\u001b[1;31m---------------------------------------------------------------------------\u001b[0m",
      "\u001b[1;31mTypeError\u001b[0m                                 Traceback (most recent call last)",
      "\u001b[1;31mTypeError\u001b[0m: increase_font() takes 0 positional arguments but 1 was given"
     ]
    },
    {
     "name": "stdout",
     "output_type": "stream",
     "text": [
      "Error in callback <function increase_font at 0x000001F8061DB9C0> (for pre_run_cell), with arguments args (<ExecutionInfo object at 1f805c91fd0, raw_cell=\"# print(f'The array of values was \\n: {nums}\\n wit..\" store_history=True silent=False shell_futures=True cell_id=73ee0318-0e63-4d38-a022-941ade6ef16c>,),kwargs {}:\n"
     ]
    },
    {
     "ename": "TypeError",
     "evalue": "increase_font() takes 0 positional arguments but 1 was given",
     "output_type": "error",
     "traceback": [
      "\u001b[1;31m---------------------------------------------------------------------------\u001b[0m",
      "\u001b[1;31mTypeError\u001b[0m                                 Traceback (most recent call last)",
      "\u001b[1;31mTypeError\u001b[0m: increase_font() takes 0 positional arguments but 1 was given"
     ]
    }
   ],
   "source": [
    "# print(f'The array of values was \\n: {nums}\\n with mean of {nums.mean}' )\n",
    "# print(f'The array of values was \\n: {nums}\\n with mean of {mean(nums)}' )"
   ]
  },
  {
   "cell_type": "markdown",
   "metadata": {
    "id": "tFwm1i7pde-Z"
   },
   "source": [
    "## Next we move to strings that are defined as `u` for `unicode`.\n",
    "## `unicode` is for Universal Character Encoding\n",
    "\n",
    "## Unicode provides a unique number for every character,\n",
    "  - no matter what the platform,\n",
    "  - no matter what the program,\n",
    "  - no matter what the language.\n",
    "\n",
    "You can read up what is unicode\n",
    "https://unicode.org/standard/WhatIsUnicode.html\n"
   ]
  },
  {
   "cell_type": "code",
   "execution_count": 18,
   "metadata": {
    "colab": {
     "base_uri": "https://localhost:8080/",
     "height": 36
    },
    "id": "_8IWM64xrmCn",
    "outputId": "a835f3ac-9f63-49df-9ac2-9467e7a43d89"
   },
   "outputs": [
    {
     "name": "stdout",
     "output_type": "stream",
     "text": [
      "Error in callback <function increase_font at 0x000001F805C28400> (for pre_run_cell), with arguments args (<ExecutionInfo object at 1f805ce7750, raw_cell=\"letters = ['e','l','e','p','h','a','n','t'] # crea..\" store_history=True silent=False shell_futures=True cell_id=c7b28dc4-9b3a-4eb2-a507-37bcae365bf1>,),kwargs {}:\n"
     ]
    },
    {
     "ename": "TypeError",
     "evalue": "increase_font() takes 0 positional arguments but 1 was given",
     "output_type": "error",
     "traceback": [
      "\u001b[1;31m---------------------------------------------------------------------------\u001b[0m",
      "\u001b[1;31mTypeError\u001b[0m                                 Traceback (most recent call last)",
      "\u001b[1;31mTypeError\u001b[0m: increase_font() takes 0 positional arguments but 1 was given"
     ]
    },
    {
     "name": "stdout",
     "output_type": "stream",
     "text": [
      "Error in callback <function increase_font at 0x000001F8061DB9C0> (for pre_run_cell), with arguments args (<ExecutionInfo object at 1f805ce7750, raw_cell=\"letters = ['e','l','e','p','h','a','n','t'] # crea..\" store_history=True silent=False shell_futures=True cell_id=c7b28dc4-9b3a-4eb2-a507-37bcae365bf1>,),kwargs {}:\n"
     ]
    },
    {
     "ename": "TypeError",
     "evalue": "increase_font() takes 0 positional arguments but 1 was given",
     "output_type": "error",
     "traceback": [
      "\u001b[1;31m---------------------------------------------------------------------------\u001b[0m",
      "\u001b[1;31mTypeError\u001b[0m                                 Traceback (most recent call last)",
      "\u001b[1;31mTypeError\u001b[0m: increase_font() takes 0 positional arguments but 1 was given"
     ]
    },
    {
     "name": "stderr",
     "output_type": "stream",
     "text": [
      "C:\\Users\\vedan\\AppData\\Local\\Temp\\ipykernel_17156\\652805315.py:4: DeprecationWarning: The 'u' type code is deprecated and will be removed in Python 3.16\n",
      "  letter_arr = array.array('u', letters) # # note typecode `u` for unicode is used;\n"
     ]
    },
    {
     "data": {
      "text/plain": [
       "'n'"
      ]
     },
     "execution_count": 18,
     "metadata": {},
     "output_type": "execute_result"
    }
   ],
   "source": [
    "letters = ['e','l','e','p','h','a','n','t'] # create a list of strings\n",
    "# letters = ['e','l','e','p','h','a','?','t'] # include symbols also\n",
    "letters\n",
    "letter_arr = array.array('u', letters) # # note typecode `u` for unicode is used;\n",
    "# on purpose added `_arr` to show obj type and remind ourselves as a beginner\n",
    "letter_arr\n",
    "letter_arr[3] # p\n",
    "letter_arr[6] #"
   ]
  },
  {
   "cell_type": "code",
   "execution_count": 19,
   "metadata": {
    "colab": {
     "base_uri": "https://localhost:8080/"
    },
    "id": "BSPxbj2pzx0D",
    "outputId": "6c02389c-bef9-42da-d5a2-b7d88f1ac544"
   },
   "outputs": [
    {
     "name": "stdout",
     "output_type": "stream",
     "text": [
      "Error in callback <function increase_font at 0x000001F805C28400> (for pre_run_cell), with arguments args (<ExecutionInfo object at 1f805ce78b0, raw_cell=\"pure_str_list = ['p', 'y' ] # str only\n",
      "str_symb_li..\" store_history=True silent=False shell_futures=True cell_id=c9be8a09-3ec9-469f-89e8-e9a3c420da2f>,),kwargs {}:\n"
     ]
    },
    {
     "ename": "TypeError",
     "evalue": "increase_font() takes 0 positional arguments but 1 was given",
     "output_type": "error",
     "traceback": [
      "\u001b[1;31m---------------------------------------------------------------------------\u001b[0m",
      "\u001b[1;31mTypeError\u001b[0m                                 Traceback (most recent call last)",
      "\u001b[1;31mTypeError\u001b[0m: increase_font() takes 0 positional arguments but 1 was given"
     ]
    },
    {
     "name": "stdout",
     "output_type": "stream",
     "text": [
      "Error in callback <function increase_font at 0x000001F8061DB9C0> (for pre_run_cell), with arguments args (<ExecutionInfo object at 1f805ce78b0, raw_cell=\"pure_str_list = ['p', 'y' ] # str only\n",
      "str_symb_li..\" store_history=True silent=False shell_futures=True cell_id=c9be8a09-3ec9-469f-89e8-e9a3c420da2f>,),kwargs {}:\n"
     ]
    },
    {
     "ename": "TypeError",
     "evalue": "increase_font() takes 0 positional arguments but 1 was given",
     "output_type": "error",
     "traceback": [
      "\u001b[1;31m---------------------------------------------------------------------------\u001b[0m",
      "\u001b[1;31mTypeError\u001b[0m                                 Traceback (most recent call last)",
      "\u001b[1;31mTypeError\u001b[0m: increase_font() takes 0 positional arguments but 1 was given"
     ]
    },
    {
     "name": "stderr",
     "output_type": "stream",
     "text": [
      "C:\\Users\\vedan\\AppData\\Local\\Temp\\ipykernel_17156\\2871322120.py:3: DeprecationWarning: The 'u' type code is deprecated and will be removed in Python 3.16\n",
      "  array.array('u', pure_str_list) # works as each char has unicode representation\n",
      "C:\\Users\\vedan\\AppData\\Local\\Temp\\ipykernel_17156\\2871322120.py:4: DeprecationWarning: The 'u' type code is deprecated and will be removed in Python 3.16\n",
      "  array.array('u', str_symb_list) # works as each char has unicode representation\n"
     ]
    },
    {
     "data": {
      "text/plain": [
       "array('u', 'py#')"
      ]
     },
     "execution_count": 19,
     "metadata": {},
     "output_type": "execute_result"
    }
   ],
   "source": [
    "pure_str_list = ['p', 'y' ] # str only\n",
    "str_symb_list = ['p', 'y', '#' ] # with symbol in quotes also works\n",
    "array.array('u', pure_str_list) # works as each char has unicode representation\n",
    "array.array('u', str_symb_list) # works as each char has unicode representation"
   ]
  },
  {
   "cell_type": "markdown",
   "metadata": {
    "id": "HPMtiddKcST2"
   },
   "source": [
    "## But some small surprises are there : if an `int` is passed as a string literal (ie, a number in quotes). Here unicodes for numbers exist from 0 to 9."
   ]
  },
  {
   "cell_type": "code",
   "execution_count": 20,
   "metadata": {
    "colab": {
     "base_uri": "https://localhost:8080/"
    },
    "id": "coWqWL93cP9G",
    "outputId": "d23ea775-81a2-47f2-ca48-b93047ca310a"
   },
   "outputs": [
    {
     "name": "stdout",
     "output_type": "stream",
     "text": [
      "Error in callback <function increase_font at 0x000001F805C28400> (for pre_run_cell), with arguments args (<ExecutionInfo object at 1f8061daf30, raw_cell=\"mixed_list_zero = ['p', '0' ] #  works as '0' has ..\" store_history=True silent=False shell_futures=True cell_id=1f68f2dd-a9fb-4c78-bde5-998987ea1392>,),kwargs {}:\n"
     ]
    },
    {
     "ename": "TypeError",
     "evalue": "increase_font() takes 0 positional arguments but 1 was given",
     "output_type": "error",
     "traceback": [
      "\u001b[1;31m---------------------------------------------------------------------------\u001b[0m",
      "\u001b[1;31mTypeError\u001b[0m                                 Traceback (most recent call last)",
      "\u001b[1;31mTypeError\u001b[0m: increase_font() takes 0 positional arguments but 1 was given"
     ]
    },
    {
     "name": "stdout",
     "output_type": "stream",
     "text": [
      "Error in callback <function increase_font at 0x000001F8061DB9C0> (for pre_run_cell), with arguments args (<ExecutionInfo object at 1f8061daf30, raw_cell=\"mixed_list_zero = ['p', '0' ] #  works as '0' has ..\" store_history=True silent=False shell_futures=True cell_id=1f68f2dd-a9fb-4c78-bde5-998987ea1392>,),kwargs {}:\n"
     ]
    },
    {
     "ename": "TypeError",
     "evalue": "increase_font() takes 0 positional arguments but 1 was given",
     "output_type": "error",
     "traceback": [
      "\u001b[1;31m---------------------------------------------------------------------------\u001b[0m",
      "\u001b[1;31mTypeError\u001b[0m                                 Traceback (most recent call last)",
      "\u001b[1;31mTypeError\u001b[0m: increase_font() takes 0 positional arguments but 1 was given"
     ]
    },
    {
     "name": "stdout",
     "output_type": "stream",
     "text": [
      "array('u', 'p0')\n",
      "array('u', 'p9')\n"
     ]
    },
    {
     "name": "stderr",
     "output_type": "stream",
     "text": [
      "C:\\Users\\vedan\\AppData\\Local\\Temp\\ipykernel_17156\\3970911606.py:3: DeprecationWarning: The 'u' type code is deprecated and will be removed in Python 3.16\n",
      "  print(array.array('u', mixed_list_zero))\n",
      "C:\\Users\\vedan\\AppData\\Local\\Temp\\ipykernel_17156\\3970911606.py:4: DeprecationWarning: The 'u' type code is deprecated and will be removed in Python 3.16\n",
      "  print(array.array('u', mixed_list_nine))\n"
     ]
    }
   ],
   "source": [
    "mixed_list_zero = ['p', '0' ] #  works as '0' has a unicode representation (rep)\n",
    "mixed_list_nine = ['p', '9' ] #  try this also : it works as '9' has a unicode rep\n",
    "print(array.array('u', mixed_list_zero))\n",
    "print(array.array('u', mixed_list_nine))"
   ]
  },
  {
   "cell_type": "code",
   "execution_count": 21,
   "metadata": {
    "id": "wrfda09bdQTw"
   },
   "outputs": [
    {
     "name": "stdout",
     "output_type": "stream",
     "text": [
      "Error in callback <function increase_font at 0x000001F805C28400> (for pre_run_cell), with arguments args (<ExecutionInfo object at 1f8061db610, raw_cell=\"# mixed_list_10 = ['p', '10' ] #  error as '10' ha..\" store_history=True silent=False shell_futures=True cell_id=ca589a1b-e303-4a3a-9f40-3d9bbdb466d1>,),kwargs {}:\n"
     ]
    },
    {
     "ename": "TypeError",
     "evalue": "increase_font() takes 0 positional arguments but 1 was given",
     "output_type": "error",
     "traceback": [
      "\u001b[1;31m---------------------------------------------------------------------------\u001b[0m",
      "\u001b[1;31mTypeError\u001b[0m                                 Traceback (most recent call last)",
      "\u001b[1;31mTypeError\u001b[0m: increase_font() takes 0 positional arguments but 1 was given"
     ]
    },
    {
     "name": "stdout",
     "output_type": "stream",
     "text": [
      "Error in callback <function increase_font at 0x000001F8061DB9C0> (for pre_run_cell), with arguments args (<ExecutionInfo object at 1f8061db610, raw_cell=\"# mixed_list_10 = ['p', '10' ] #  error as '10' ha..\" store_history=True silent=False shell_futures=True cell_id=ca589a1b-e303-4a3a-9f40-3d9bbdb466d1>,),kwargs {}:\n"
     ]
    },
    {
     "ename": "TypeError",
     "evalue": "increase_font() takes 0 positional arguments but 1 was given",
     "output_type": "error",
     "traceback": [
      "\u001b[1;31m---------------------------------------------------------------------------\u001b[0m",
      "\u001b[1;31mTypeError\u001b[0m                                 Traceback (most recent call last)",
      "\u001b[1;31mTypeError\u001b[0m: increase_font() takes 0 positional arguments but 1 was given"
     ]
    }
   ],
   "source": [
    "# mixed_list_10 = ['p', '10' ] #  error as '10' has no unicode rep\n",
    "# array.array('u', mixed_list_10)"
   ]
  },
  {
   "cell_type": "code",
   "execution_count": 22,
   "metadata": {
    "colab": {
     "base_uri": "https://localhost:8080/"
    },
    "id": "TSPCoVwzPvg8",
    "outputId": "acf08742-d675-4652-d43c-bb1cfe4ef116"
   },
   "outputs": [
    {
     "name": "stdout",
     "output_type": "stream",
     "text": [
      "Error in callback <function increase_font at 0x000001F805C28400> (for pre_run_cell), with arguments args (<ExecutionInfo object at 1f805c8a600, raw_cell=\"mixed_list = ['p', '1','0' ] #  works\n",
      "array.array(..\" store_history=True silent=False shell_futures=True cell_id=f3611217-b97a-451c-bdc7-40cf8e0be4fc>,),kwargs {}:\n"
     ]
    },
    {
     "ename": "TypeError",
     "evalue": "increase_font() takes 0 positional arguments but 1 was given",
     "output_type": "error",
     "traceback": [
      "\u001b[1;31m---------------------------------------------------------------------------\u001b[0m",
      "\u001b[1;31mTypeError\u001b[0m                                 Traceback (most recent call last)",
      "\u001b[1;31mTypeError\u001b[0m: increase_font() takes 0 positional arguments but 1 was given"
     ]
    },
    {
     "name": "stdout",
     "output_type": "stream",
     "text": [
      "Error in callback <function increase_font at 0x000001F8061DB9C0> (for pre_run_cell), with arguments args (<ExecutionInfo object at 1f805c8a600, raw_cell=\"mixed_list = ['p', '1','0' ] #  works\n",
      "array.array(..\" store_history=True silent=False shell_futures=True cell_id=f3611217-b97a-451c-bdc7-40cf8e0be4fc>,),kwargs {}:\n"
     ]
    },
    {
     "ename": "TypeError",
     "evalue": "increase_font() takes 0 positional arguments but 1 was given",
     "output_type": "error",
     "traceback": [
      "\u001b[1;31m---------------------------------------------------------------------------\u001b[0m",
      "\u001b[1;31mTypeError\u001b[0m                                 Traceback (most recent call last)",
      "\u001b[1;31mTypeError\u001b[0m: increase_font() takes 0 positional arguments but 1 was given"
     ]
    },
    {
     "name": "stderr",
     "output_type": "stream",
     "text": [
      "C:\\Users\\vedan\\AppData\\Local\\Temp\\ipykernel_17156\\3688631023.py:2: DeprecationWarning: The 'u' type code is deprecated and will be removed in Python 3.16\n",
      "  array.array('u', mixed_list)\n"
     ]
    },
    {
     "data": {
      "text/plain": [
       "array('u', 'p10')"
      ]
     },
     "execution_count": 22,
     "metadata": {},
     "output_type": "execute_result"
    }
   ],
   "source": [
    "mixed_list = ['p', '1','0' ] #  works\n",
    "array.array('u', mixed_list)"
   ]
  },
  {
   "cell_type": "markdown",
   "metadata": {
    "id": "K6egHoOO9L86"
   },
   "source": [
    "# Below we see what will not work to help you avoid errors\n",
    "## Mixed List (ie Mixed Data Types) can't be converted to arrays"
   ]
  },
  {
   "cell_type": "code",
   "execution_count": 23,
   "metadata": {
    "id": "wtQZjA-f1La7"
   },
   "outputs": [
    {
     "name": "stdout",
     "output_type": "stream",
     "text": [
      "Error in callback <function increase_font at 0x000001F805C28400> (for pre_run_cell), with arguments args (<ExecutionInfo object at 1f805f62350, raw_cell=\"# mixed_list_1 = ['p', 1991 ] # error\n",
      "# mixed_list..\" store_history=True silent=False shell_futures=True cell_id=c4551273-4947-4834-a7b3-c4caf6da0a92>,),kwargs {}:\n"
     ]
    },
    {
     "ename": "TypeError",
     "evalue": "increase_font() takes 0 positional arguments but 1 was given",
     "output_type": "error",
     "traceback": [
      "\u001b[1;31m---------------------------------------------------------------------------\u001b[0m",
      "\u001b[1;31mTypeError\u001b[0m                                 Traceback (most recent call last)",
      "\u001b[1;31mTypeError\u001b[0m: increase_font() takes 0 positional arguments but 1 was given"
     ]
    },
    {
     "name": "stdout",
     "output_type": "stream",
     "text": [
      "Error in callback <function increase_font at 0x000001F8061DB9C0> (for pre_run_cell), with arguments args (<ExecutionInfo object at 1f805f62350, raw_cell=\"# mixed_list_1 = ['p', 1991 ] # error\n",
      "# mixed_list..\" store_history=True silent=False shell_futures=True cell_id=c4551273-4947-4834-a7b3-c4caf6da0a92>,),kwargs {}:\n"
     ]
    },
    {
     "ename": "TypeError",
     "evalue": "increase_font() takes 0 positional arguments but 1 was given",
     "output_type": "error",
     "traceback": [
      "\u001b[1;31m---------------------------------------------------------------------------\u001b[0m",
      "\u001b[1;31mTypeError\u001b[0m                                 Traceback (most recent call last)",
      "\u001b[1;31mTypeError\u001b[0m: increase_font() takes 0 positional arguments but 1 was given"
     ]
    }
   ],
   "source": [
    "# mixed_list_1 = ['p', 1991 ] # error\n",
    "# mixed_list_2 = ['p', '1991'] # error\n",
    "# array.array('u', mixed_list_1)\n",
    "# array.array('u', mixed_list_2)\n"
   ]
  },
  {
   "cell_type": "code",
   "execution_count": 24,
   "metadata": {
    "colab": {
     "base_uri": "https://localhost:8080/",
     "height": 219
    },
    "id": "_tYaqII59u6N",
    "outputId": "10c555de-6dc3-47d8-ba8e-ceb2009c6ff0"
   },
   "outputs": [
    {
     "name": "stdout",
     "output_type": "stream",
     "text": [
      "Error in callback <function increase_font at 0x000001F805C28400> (for pre_run_cell), with arguments args (<ExecutionInfo object at 1f805f62ad0, raw_cell=\"mixed_list_3 = ['p', 'y', 'thon' ] # error as `tho..\" store_history=True silent=False shell_futures=True cell_id=08c8e9f5-f296-4983-a187-ef4a293a6a90>,),kwargs {}:\n"
     ]
    },
    {
     "ename": "TypeError",
     "evalue": "increase_font() takes 0 positional arguments but 1 was given",
     "output_type": "error",
     "traceback": [
      "\u001b[1;31m---------------------------------------------------------------------------\u001b[0m",
      "\u001b[1;31mTypeError\u001b[0m                                 Traceback (most recent call last)",
      "\u001b[1;31mTypeError\u001b[0m: increase_font() takes 0 positional arguments but 1 was given"
     ]
    },
    {
     "name": "stdout",
     "output_type": "stream",
     "text": [
      "Error in callback <function increase_font at 0x000001F8061DB9C0> (for pre_run_cell), with arguments args (<ExecutionInfo object at 1f805f62ad0, raw_cell=\"mixed_list_3 = ['p', 'y', 'thon' ] # error as `tho..\" store_history=True silent=False shell_futures=True cell_id=08c8e9f5-f296-4983-a187-ef4a293a6a90>,),kwargs {}:\n"
     ]
    },
    {
     "ename": "TypeError",
     "evalue": "increase_font() takes 0 positional arguments but 1 was given",
     "output_type": "error",
     "traceback": [
      "\u001b[1;31m---------------------------------------------------------------------------\u001b[0m",
      "\u001b[1;31mTypeError\u001b[0m                                 Traceback (most recent call last)",
      "\u001b[1;31mTypeError\u001b[0m: increase_font() takes 0 positional arguments but 1 was given"
     ]
    },
    {
     "name": "stderr",
     "output_type": "stream",
     "text": [
      "C:\\Users\\vedan\\AppData\\Local\\Temp\\ipykernel_17156\\3406934988.py:2: DeprecationWarning: The 'u' type code is deprecated and will be removed in Python 3.16\n",
      "  array.array('u', mixed_list_3)\n"
     ]
    },
    {
     "ename": "TypeError",
     "evalue": "array item must be unicode character",
     "output_type": "error",
     "traceback": [
      "\u001b[1;31m---------------------------------------------------------------------------\u001b[0m",
      "\u001b[1;31mTypeError\u001b[0m                                 Traceback (most recent call last)",
      "Cell \u001b[1;32mIn[24], line 2\u001b[0m\n\u001b[0;32m      1\u001b[0m mixed_list_3 \u001b[38;5;241m=\u001b[39m [\u001b[38;5;124m'\u001b[39m\u001b[38;5;124mp\u001b[39m\u001b[38;5;124m'\u001b[39m, \u001b[38;5;124m'\u001b[39m\u001b[38;5;124my\u001b[39m\u001b[38;5;124m'\u001b[39m, \u001b[38;5;124m'\u001b[39m\u001b[38;5;124mthon\u001b[39m\u001b[38;5;124m'\u001b[39m ] \u001b[38;5;66;03m# error as `thon` doesnt have unicode rep\u001b[39;00m\n\u001b[1;32m----> 2\u001b[0m \u001b[43marray\u001b[49m\u001b[38;5;241;43m.\u001b[39;49m\u001b[43marray\u001b[49m\u001b[43m(\u001b[49m\u001b[38;5;124;43m'\u001b[39;49m\u001b[38;5;124;43mu\u001b[39;49m\u001b[38;5;124;43m'\u001b[39;49m\u001b[43m,\u001b[49m\u001b[43m \u001b[49m\u001b[43mmixed_list_3\u001b[49m\u001b[43m)\u001b[49m\n\u001b[0;32m      4\u001b[0m more_mixed_list_4 \u001b[38;5;241m=\u001b[39m [\u001b[38;5;124m'\u001b[39m\u001b[38;5;124mp\u001b[39m\u001b[38;5;124m'\u001b[39m, \u001b[38;5;124m'\u001b[39m\u001b[38;5;124m91\u001b[39m\u001b[38;5;124m'\u001b[39m, \u001b[38;5;28;01mTrue\u001b[39;00m] \u001b[38;5;66;03m# error as `True` doesnt have unicode rep\u001b[39;00m\n\u001b[0;32m      5\u001b[0m array\u001b[38;5;241m.\u001b[39marray(\u001b[38;5;124m'\u001b[39m\u001b[38;5;124mu\u001b[39m\u001b[38;5;124m'\u001b[39m, more_mixed_list_4)\n",
      "\u001b[1;31mTypeError\u001b[0m: array item must be unicode character"
     ]
    }
   ],
   "source": [
    "mixed_list_3 = ['p', 'y', 'thon' ] # error as `thon` doesnt have unicode rep\n",
    "array.array('u', mixed_list_3)\n",
    "\n",
    "more_mixed_list_4 = ['p', '91', True] # error as `True` doesnt have unicode rep\n",
    "array.array('u', more_mixed_list_4)\n"
   ]
  },
  {
   "cell_type": "code",
   "execution_count": 25,
   "metadata": {
    "id": "BVHWMvflrFAB"
   },
   "outputs": [
    {
     "name": "stdout",
     "output_type": "stream",
     "text": [
      "Error in callback <function increase_font at 0x000001F805C28400> (for pre_run_cell), with arguments args (<ExecutionInfo object at 1f805daf7e0, raw_cell=\"import numpy as np # np is alias\" store_history=True silent=False shell_futures=True cell_id=443e9bfa-89be-40d7-a737-bfc82de268d3>,),kwargs {}:\n"
     ]
    },
    {
     "ename": "TypeError",
     "evalue": "increase_font() takes 0 positional arguments but 1 was given",
     "output_type": "error",
     "traceback": [
      "\u001b[1;31m---------------------------------------------------------------------------\u001b[0m",
      "\u001b[1;31mTypeError\u001b[0m                                 Traceback (most recent call last)",
      "\u001b[1;31mTypeError\u001b[0m: increase_font() takes 0 positional arguments but 1 was given"
     ]
    },
    {
     "name": "stdout",
     "output_type": "stream",
     "text": [
      "Error in callback <function increase_font at 0x000001F8061DB9C0> (for pre_run_cell), with arguments args (<ExecutionInfo object at 1f805daf7e0, raw_cell=\"import numpy as np # np is alias\" store_history=True silent=False shell_futures=True cell_id=443e9bfa-89be-40d7-a737-bfc82de268d3>,),kwargs {}:\n"
     ]
    },
    {
     "ename": "TypeError",
     "evalue": "increase_font() takes 0 positional arguments but 1 was given",
     "output_type": "error",
     "traceback": [
      "\u001b[1;31m---------------------------------------------------------------------------\u001b[0m",
      "\u001b[1;31mTypeError\u001b[0m                                 Traceback (most recent call last)",
      "\u001b[1;31mTypeError\u001b[0m: increase_font() takes 0 positional arguments but 1 was given"
     ]
    }
   ],
   "source": [
    "import numpy as np # np is alias"
   ]
  },
  {
   "cell_type": "markdown",
   "metadata": {
    "id": "uXlN1076rWxm"
   },
   "source": [
    "## NUMPY Arrays\n",
    "<font size = 18>\n",
    "np.array([5,6,7,8]) # a list is passed as an argument of np.array(  ) method <br>\n",
    "All are integers : same data type    <br>\n",
    "All can be floats also\n",
    "</font\n",
    "We can have an array of all strings"
   ]
  },
  {
   "cell_type": "code",
   "execution_count": 26,
   "metadata": {
    "colab": {
     "base_uri": "https://localhost:8080/",
     "height": 67
    },
    "id": "D4iayFg_rZjQ",
    "outputId": "0f9b68e9-ade7-4c66-b0df-5bf9436dbc0d"
   },
   "outputs": [
    {
     "name": "stdout",
     "output_type": "stream",
     "text": [
      "Error in callback <function increase_font at 0x000001F805C28400> (for pre_run_cell), with arguments args (<ExecutionInfo object at 1f81c46df60, raw_cell=\"import numpy as np\n",
      "np.array([5, 6, 7, 8]) # a list..\" store_history=True silent=False shell_futures=True cell_id=1d3a9e54-230c-47d5-96cb-303b814533f5>,),kwargs {}:\n"
     ]
    },
    {
     "ename": "TypeError",
     "evalue": "increase_font() takes 0 positional arguments but 1 was given",
     "output_type": "error",
     "traceback": [
      "\u001b[1;31m---------------------------------------------------------------------------\u001b[0m",
      "\u001b[1;31mTypeError\u001b[0m                                 Traceback (most recent call last)",
      "\u001b[1;31mTypeError\u001b[0m: increase_font() takes 0 positional arguments but 1 was given"
     ]
    },
    {
     "name": "stdout",
     "output_type": "stream",
     "text": [
      "Error in callback <function increase_font at 0x000001F8061DB9C0> (for pre_run_cell), with arguments args (<ExecutionInfo object at 1f81c46df60, raw_cell=\"import numpy as np\n",
      "np.array([5, 6, 7, 8]) # a list..\" store_history=True silent=False shell_futures=True cell_id=1d3a9e54-230c-47d5-96cb-303b814533f5>,),kwargs {}:\n"
     ]
    },
    {
     "ename": "TypeError",
     "evalue": "increase_font() takes 0 positional arguments but 1 was given",
     "output_type": "error",
     "traceback": [
      "\u001b[1;31m---------------------------------------------------------------------------\u001b[0m",
      "\u001b[1;31mTypeError\u001b[0m                                 Traceback (most recent call last)",
      "\u001b[1;31mTypeError\u001b[0m: increase_font() takes 0 positional arguments but 1 was given"
     ]
    },
    {
     "data": {
      "text/plain": [
       "array([5, 6, 7, 8])"
      ]
     },
     "execution_count": 26,
     "metadata": {},
     "output_type": "execute_result"
    }
   ],
   "source": [
    "import numpy as np\n",
    "np.array([5, 6, 7, 8]) # a list as an argument of np.array( ) method\n",
    "np.array((5, 6, 7, 8)) # a tuple as an argument of np.array( ) method\n",
    "# np.array(5, 6, 7, 8) # a tuple as an argument of np.array( ) method"
   ]
  },
  {
   "cell_type": "code",
   "execution_count": 27,
   "metadata": {
    "colab": {
     "base_uri": "https://localhost:8080/",
     "height": 67
    },
    "id": "TkvJz4q7rYQO",
    "outputId": "a40ce70c-b511-4865-bf71-0cbe5060773b"
   },
   "outputs": [
    {
     "name": "stdout",
     "output_type": "stream",
     "text": [
      "Error in callback <function increase_font at 0x000001F805C28400> (for pre_run_cell), with arguments args (<ExecutionInfo object at 1f81c46e4a0, raw_cell=\"my_lst = [9, 8, 4, 5]\n",
      "sorted(my_lst) # temp sorted..\" store_history=True silent=False shell_futures=True cell_id=bbf7a2f1-048f-49d8-918a-a19e401096f3>,),kwargs {}:\n"
     ]
    },
    {
     "ename": "TypeError",
     "evalue": "increase_font() takes 0 positional arguments but 1 was given",
     "output_type": "error",
     "traceback": [
      "\u001b[1;31m---------------------------------------------------------------------------\u001b[0m",
      "\u001b[1;31mTypeError\u001b[0m                                 Traceback (most recent call last)",
      "\u001b[1;31mTypeError\u001b[0m: increase_font() takes 0 positional arguments but 1 was given"
     ]
    },
    {
     "name": "stdout",
     "output_type": "stream",
     "text": [
      "Error in callback <function increase_font at 0x000001F8061DB9C0> (for pre_run_cell), with arguments args (<ExecutionInfo object at 1f81c46e4a0, raw_cell=\"my_lst = [9, 8, 4, 5]\n",
      "sorted(my_lst) # temp sorted..\" store_history=True silent=False shell_futures=True cell_id=bbf7a2f1-048f-49d8-918a-a19e401096f3>,),kwargs {}:\n"
     ]
    },
    {
     "ename": "TypeError",
     "evalue": "increase_font() takes 0 positional arguments but 1 was given",
     "output_type": "error",
     "traceback": [
      "\u001b[1;31m---------------------------------------------------------------------------\u001b[0m",
      "\u001b[1;31mTypeError\u001b[0m                                 Traceback (most recent call last)",
      "\u001b[1;31mTypeError\u001b[0m: increase_font() takes 0 positional arguments but 1 was given"
     ]
    },
    {
     "data": {
      "text/plain": [
       "[9, 8, 4, 5]"
      ]
     },
     "execution_count": 27,
     "metadata": {},
     "output_type": "execute_result"
    }
   ],
   "source": [
    "my_lst = [9, 8, 4, 5]\n",
    "sorted(my_lst) # temp sorted\n",
    "my_lst # no change"
   ]
  },
  {
   "cell_type": "code",
   "execution_count": 28,
   "metadata": {
    "colab": {
     "base_uri": "https://localhost:8080/",
     "height": 67
    },
    "id": "C8-uSEJCA3v2",
    "outputId": "6ee7f91f-fe17-4b1e-f807-7c5218404742"
   },
   "outputs": [
    {
     "name": "stdout",
     "output_type": "stream",
     "text": [
      "Error in callback <function increase_font at 0x000001F805C28400> (for pre_run_cell), with arguments args (<ExecutionInfo object at 1f81c46e740, raw_cell=\"my_lst.sort() # permanent sort in place\n",
      "my_lst # n..\" store_history=True silent=False shell_futures=True cell_id=e73a5f83-e809-4d7f-9e2a-891f786755b7>,),kwargs {}:\n"
     ]
    },
    {
     "ename": "TypeError",
     "evalue": "increase_font() takes 0 positional arguments but 1 was given",
     "output_type": "error",
     "traceback": [
      "\u001b[1;31m---------------------------------------------------------------------------\u001b[0m",
      "\u001b[1;31mTypeError\u001b[0m                                 Traceback (most recent call last)",
      "\u001b[1;31mTypeError\u001b[0m: increase_font() takes 0 positional arguments but 1 was given"
     ]
    },
    {
     "name": "stdout",
     "output_type": "stream",
     "text": [
      "Error in callback <function increase_font at 0x000001F8061DB9C0> (for pre_run_cell), with arguments args (<ExecutionInfo object at 1f81c46e740, raw_cell=\"my_lst.sort() # permanent sort in place\n",
      "my_lst # n..\" store_history=True silent=False shell_futures=True cell_id=e73a5f83-e809-4d7f-9e2a-891f786755b7>,),kwargs {}:\n"
     ]
    },
    {
     "ename": "TypeError",
     "evalue": "increase_font() takes 0 positional arguments but 1 was given",
     "output_type": "error",
     "traceback": [
      "\u001b[1;31m---------------------------------------------------------------------------\u001b[0m",
      "\u001b[1;31mTypeError\u001b[0m                                 Traceback (most recent call last)",
      "\u001b[1;31mTypeError\u001b[0m: increase_font() takes 0 positional arguments but 1 was given"
     ]
    },
    {
     "data": {
      "text/plain": [
       "[4, 5, 8, 9]"
      ]
     },
     "execution_count": 28,
     "metadata": {},
     "output_type": "execute_result"
    }
   ],
   "source": [
    "my_lst.sort() # permanent sort in place\n",
    "my_lst # now my_list is sorted in-place"
   ]
  },
  {
   "cell_type": "code",
   "execution_count": 29,
   "metadata": {
    "colab": {
     "base_uri": "https://localhost:8080/",
     "height": 67
    },
    "id": "SJD6f6SIKm8L",
    "outputId": "9d1c8279-3a1d-4a76-da1d-eab693d2158c"
   },
   "outputs": [
    {
     "name": "stdout",
     "output_type": "stream",
     "text": [
      "Error in callback <function increase_font at 0x000001F805C28400> (for pre_run_cell), with arguments args (<ExecutionInfo object at 1f81c46e660, raw_cell=\"my_lst.reverse()\n",
      "my_lst # reverse order in place\n",
      "\" store_history=True silent=False shell_futures=True cell_id=4c61aa62-45c1-46a1-ab59-e475c2a553c8>,),kwargs {}:\n"
     ]
    },
    {
     "ename": "TypeError",
     "evalue": "increase_font() takes 0 positional arguments but 1 was given",
     "output_type": "error",
     "traceback": [
      "\u001b[1;31m---------------------------------------------------------------------------\u001b[0m",
      "\u001b[1;31mTypeError\u001b[0m                                 Traceback (most recent call last)",
      "\u001b[1;31mTypeError\u001b[0m: increase_font() takes 0 positional arguments but 1 was given"
     ]
    },
    {
     "name": "stdout",
     "output_type": "stream",
     "text": [
      "Error in callback <function increase_font at 0x000001F8061DB9C0> (for pre_run_cell), with arguments args (<ExecutionInfo object at 1f81c46e660, raw_cell=\"my_lst.reverse()\n",
      "my_lst # reverse order in place\n",
      "\" store_history=True silent=False shell_futures=True cell_id=4c61aa62-45c1-46a1-ab59-e475c2a553c8>,),kwargs {}:\n"
     ]
    },
    {
     "ename": "TypeError",
     "evalue": "increase_font() takes 0 positional arguments but 1 was given",
     "output_type": "error",
     "traceback": [
      "\u001b[1;31m---------------------------------------------------------------------------\u001b[0m",
      "\u001b[1;31mTypeError\u001b[0m                                 Traceback (most recent call last)",
      "\u001b[1;31mTypeError\u001b[0m: increase_font() takes 0 positional arguments but 1 was given"
     ]
    },
    {
     "data": {
      "text/plain": [
       "[9, 8, 5, 4]"
      ]
     },
     "execution_count": 29,
     "metadata": {},
     "output_type": "execute_result"
    }
   ],
   "source": [
    "my_lst.reverse()\n",
    "my_lst # reverse order in place\n"
   ]
  },
  {
   "cell_type": "code",
   "execution_count": 30,
   "metadata": {
    "colab": {
     "base_uri": "https://localhost:8080/",
     "height": 67
    },
    "id": "nji_XXaVK66p",
    "outputId": "49bd834a-03f5-4a3c-8168-9dc121d0b2e9"
   },
   "outputs": [
    {
     "name": "stdout",
     "output_type": "stream",
     "text": [
      "Error in callback <function increase_font at 0x000001F805C28400> (for pre_run_cell), with arguments args (<ExecutionInfo object at 1f805daf8c0, raw_cell=\"np.array(my_lst) # a list as an argument of np.arr..\" store_history=True silent=False shell_futures=True cell_id=0d25b850-cb1a-4c67-af32-b92cb7d23dc3>,),kwargs {}:\n"
     ]
    },
    {
     "ename": "TypeError",
     "evalue": "increase_font() takes 0 positional arguments but 1 was given",
     "output_type": "error",
     "traceback": [
      "\u001b[1;31m---------------------------------------------------------------------------\u001b[0m",
      "\u001b[1;31mTypeError\u001b[0m                                 Traceback (most recent call last)",
      "\u001b[1;31mTypeError\u001b[0m: increase_font() takes 0 positional arguments but 1 was given"
     ]
    },
    {
     "name": "stdout",
     "output_type": "stream",
     "text": [
      "Error in callback <function increase_font at 0x000001F8061DB9C0> (for pre_run_cell), with arguments args (<ExecutionInfo object at 1f805daf8c0, raw_cell=\"np.array(my_lst) # a list as an argument of np.arr..\" store_history=True silent=False shell_futures=True cell_id=0d25b850-cb1a-4c67-af32-b92cb7d23dc3>,),kwargs {}:\n"
     ]
    },
    {
     "ename": "TypeError",
     "evalue": "increase_font() takes 0 positional arguments but 1 was given",
     "output_type": "error",
     "traceback": [
      "\u001b[1;31m---------------------------------------------------------------------------\u001b[0m",
      "\u001b[1;31mTypeError\u001b[0m                                 Traceback (most recent call last)",
      "\u001b[1;31mTypeError\u001b[0m: increase_font() takes 0 positional arguments but 1 was given"
     ]
    },
    {
     "data": {
      "text/plain": [
       "array([9, 8, 5, 4])"
      ]
     },
     "execution_count": 30,
     "metadata": {},
     "output_type": "execute_result"
    }
   ],
   "source": [
    "np.array(my_lst) # a list as an argument of np.array( ) method; returned / output object is an array"
   ]
  },
  {
   "cell_type": "markdown",
   "metadata": {
    "id": "BuqVEnZ22gOi"
   },
   "source": [
    "## Having just one `float` among several `int`s promotes the array to `float`."
   ]
  },
  {
   "cell_type": "code",
   "execution_count": 31,
   "metadata": {
    "colab": {
     "base_uri": "https://localhost:8080/",
     "height": 67
    },
    "id": "H_Kaop_F0NX7",
    "outputId": "9151fc9d-e2b7-4c91-8602-c8292381199f"
   },
   "outputs": [
    {
     "name": "stdout",
     "output_type": "stream",
     "text": [
      "Error in callback <function increase_font at 0x000001F805C28400> (for pre_run_cell), with arguments args (<ExecutionInfo object at 1f81c46ee40, raw_cell=\"np.array([5, 6.9, 7, 8]) # one float converts all ..\" store_history=True silent=False shell_futures=True cell_id=5852f43e-2694-4a64-b078-49388f298b23>,),kwargs {}:\n"
     ]
    },
    {
     "ename": "TypeError",
     "evalue": "increase_font() takes 0 positional arguments but 1 was given",
     "output_type": "error",
     "traceback": [
      "\u001b[1;31m---------------------------------------------------------------------------\u001b[0m",
      "\u001b[1;31mTypeError\u001b[0m                                 Traceback (most recent call last)",
      "\u001b[1;31mTypeError\u001b[0m: increase_font() takes 0 positional arguments but 1 was given"
     ]
    },
    {
     "name": "stdout",
     "output_type": "stream",
     "text": [
      "Error in callback <function increase_font at 0x000001F8061DB9C0> (for pre_run_cell), with arguments args (<ExecutionInfo object at 1f81c46ee40, raw_cell=\"np.array([5, 6.9, 7, 8]) # one float converts all ..\" store_history=True silent=False shell_futures=True cell_id=5852f43e-2694-4a64-b078-49388f298b23>,),kwargs {}:\n"
     ]
    },
    {
     "ename": "TypeError",
     "evalue": "increase_font() takes 0 positional arguments but 1 was given",
     "output_type": "error",
     "traceback": [
      "\u001b[1;31m---------------------------------------------------------------------------\u001b[0m",
      "\u001b[1;31mTypeError\u001b[0m                                 Traceback (most recent call last)",
      "\u001b[1;31mTypeError\u001b[0m: increase_font() takes 0 positional arguments but 1 was given"
     ]
    },
    {
     "data": {
      "text/plain": [
       "array([5. , 6.9, 7. , 8. ])"
      ]
     },
     "execution_count": 31,
     "metadata": {},
     "output_type": "execute_result"
    }
   ],
   "source": [
    "np.array([5, 6.9, 7, 8]) # one float converts all int as floats : type promotion"
   ]
  },
  {
   "cell_type": "code",
   "execution_count": 32,
   "metadata": {
    "colab": {
     "base_uri": "https://localhost:8080/",
     "height": 67
    },
    "id": "OgSZaIOO0OEx",
    "outputId": "854343b6-207d-4afe-a0bd-18321f4f56ae"
   },
   "outputs": [
    {
     "name": "stdout",
     "output_type": "stream",
     "text": [
      "Error in callback <function increase_font at 0x000001F805C28400> (for pre_run_cell), with arguments args (<ExecutionInfo object at 1f81c46f000, raw_cell=\"np.array([5.3, 6.6, 7.1, 8.4]) # all floats\" store_history=True silent=False shell_futures=True cell_id=d298d78a-5d0a-4fbf-b01a-27b1bd63f6d7>,),kwargs {}:\n"
     ]
    },
    {
     "ename": "TypeError",
     "evalue": "increase_font() takes 0 positional arguments but 1 was given",
     "output_type": "error",
     "traceback": [
      "\u001b[1;31m---------------------------------------------------------------------------\u001b[0m",
      "\u001b[1;31mTypeError\u001b[0m                                 Traceback (most recent call last)",
      "\u001b[1;31mTypeError\u001b[0m: increase_font() takes 0 positional arguments but 1 was given"
     ]
    },
    {
     "name": "stdout",
     "output_type": "stream",
     "text": [
      "Error in callback <function increase_font at 0x000001F8061DB9C0> (for pre_run_cell), with arguments args (<ExecutionInfo object at 1f81c46f000, raw_cell=\"np.array([5.3, 6.6, 7.1, 8.4]) # all floats\" store_history=True silent=False shell_futures=True cell_id=d298d78a-5d0a-4fbf-b01a-27b1bd63f6d7>,),kwargs {}:\n"
     ]
    },
    {
     "ename": "TypeError",
     "evalue": "increase_font() takes 0 positional arguments but 1 was given",
     "output_type": "error",
     "traceback": [
      "\u001b[1;31m---------------------------------------------------------------------------\u001b[0m",
      "\u001b[1;31mTypeError\u001b[0m                                 Traceback (most recent call last)",
      "\u001b[1;31mTypeError\u001b[0m: increase_font() takes 0 positional arguments but 1 was given"
     ]
    },
    {
     "data": {
      "text/plain": [
       "array([5.3, 6.6, 7.1, 8.4])"
      ]
     },
     "execution_count": 32,
     "metadata": {},
     "output_type": "execute_result"
    }
   ],
   "source": [
    "np.array([5.3, 6.6, 7.1, 8.4]) # all floats"
   ]
  },
  {
   "cell_type": "markdown",
   "metadata": {
    "id": "beqv6x9cuaew"
   },
   "source": [
    "<font size = 12>\n",
    "As an aside, `np.array(   )` accepts strings also though it may not have immediate use. One must be aware of this. dtype is U1 or U2."
   ]
  },
  {
   "cell_type": "code",
   "execution_count": 33,
   "metadata": {
    "colab": {
     "base_uri": "https://localhost:8080/",
     "height": 67
    },
    "id": "iJ4GeBB8sReQ",
    "outputId": "94f6ae16-12db-464f-9c0a-a80b6be57994"
   },
   "outputs": [
    {
     "name": "stdout",
     "output_type": "stream",
     "text": [
      "Error in callback <function increase_font at 0x000001F805C28400> (for pre_run_cell), with arguments args (<ExecutionInfo object at 1f81c46f2a0, raw_cell=\"np.array(['1','2', '3']) # all strings\n",
      "np.array(['..\" store_history=True silent=False shell_futures=True cell_id=bd5c4d5a-dd65-4472-87a8-13088d3a5a0d>,),kwargs {}:\n"
     ]
    },
    {
     "ename": "TypeError",
     "evalue": "increase_font() takes 0 positional arguments but 1 was given",
     "output_type": "error",
     "traceback": [
      "\u001b[1;31m---------------------------------------------------------------------------\u001b[0m",
      "\u001b[1;31mTypeError\u001b[0m                                 Traceback (most recent call last)",
      "\u001b[1;31mTypeError\u001b[0m: increase_font() takes 0 positional arguments but 1 was given"
     ]
    },
    {
     "name": "stdout",
     "output_type": "stream",
     "text": [
      "Error in callback <function increase_font at 0x000001F8061DB9C0> (for pre_run_cell), with arguments args (<ExecutionInfo object at 1f81c46f2a0, raw_cell=\"np.array(['1','2', '3']) # all strings\n",
      "np.array(['..\" store_history=True silent=False shell_futures=True cell_id=bd5c4d5a-dd65-4472-87a8-13088d3a5a0d>,),kwargs {}:\n"
     ]
    },
    {
     "ename": "TypeError",
     "evalue": "increase_font() takes 0 positional arguments but 1 was given",
     "output_type": "error",
     "traceback": [
      "\u001b[1;31m---------------------------------------------------------------------------\u001b[0m",
      "\u001b[1;31mTypeError\u001b[0m                                 Traceback (most recent call last)",
      "\u001b[1;31mTypeError\u001b[0m: increase_font() takes 0 positional arguments but 1 was given"
     ]
    },
    {
     "data": {
      "text/plain": [
       "np.str_('a1')"
      ]
     },
     "execution_count": 33,
     "metadata": {},
     "output_type": "execute_result"
    }
   ],
   "source": [
    "np.array(['1','2', '3']) # all strings\n",
    "np.array(['a','b', 'c'])\n",
    "np.array(['a1','b2', 'c3'])\n",
    "(np.array(['a1','b2', 'c3'])[0])\n",
    "# dir(np.array(['a1','b2', 'c3'])[0])\n"
   ]
  },
  {
   "cell_type": "code",
   "execution_count": 34,
   "metadata": {
    "colab": {
     "base_uri": "https://localhost:8080/",
     "height": 1000
    },
    "id": "u_s_rnOFsxpZ",
    "outputId": "c30377de-7536-47c8-a6cd-5171b9f8e5a5"
   },
   "outputs": [
    {
     "name": "stdout",
     "output_type": "stream",
     "text": [
      "Error in callback <function increase_font at 0x000001F805C28400> (for pre_run_cell), with arguments args (<ExecutionInfo object at 1f805dae5f0, raw_cell=\"np.array([5.3, 6.6, 7.1, 8.4], dtype= np.float16) ..\" store_history=True silent=False shell_futures=True cell_id=cba94e88-b3d4-49c8-92d2-479a88e4ab79>,),kwargs {}:\n"
     ]
    },
    {
     "ename": "TypeError",
     "evalue": "increase_font() takes 0 positional arguments but 1 was given",
     "output_type": "error",
     "traceback": [
      "\u001b[1;31m---------------------------------------------------------------------------\u001b[0m",
      "\u001b[1;31mTypeError\u001b[0m                                 Traceback (most recent call last)",
      "\u001b[1;31mTypeError\u001b[0m: increase_font() takes 0 positional arguments but 1 was given"
     ]
    },
    {
     "name": "stdout",
     "output_type": "stream",
     "text": [
      "Error in callback <function increase_font at 0x000001F8061DB9C0> (for pre_run_cell), with arguments args (<ExecutionInfo object at 1f805dae5f0, raw_cell=\"np.array([5.3, 6.6, 7.1, 8.4], dtype= np.float16) ..\" store_history=True silent=False shell_futures=True cell_id=cba94e88-b3d4-49c8-92d2-479a88e4ab79>,),kwargs {}:\n"
     ]
    },
    {
     "ename": "TypeError",
     "evalue": "increase_font() takes 0 positional arguments but 1 was given",
     "output_type": "error",
     "traceback": [
      "\u001b[1;31m---------------------------------------------------------------------------\u001b[0m",
      "\u001b[1;31mTypeError\u001b[0m                                 Traceback (most recent call last)",
      "\u001b[1;31mTypeError\u001b[0m: increase_font() takes 0 positional arguments but 1 was given"
     ]
    },
    {
     "ename": "AttributeError",
     "evalue": "`np.float_` was removed in the NumPy 2.0 release. Use `np.float64` instead.",
     "output_type": "error",
     "traceback": [
      "\u001b[1;31m---------------------------------------------------------------------------\u001b[0m",
      "\u001b[1;31mAttributeError\u001b[0m                            Traceback (most recent call last)",
      "Cell \u001b[1;32mIn[34], line 3\u001b[0m\n\u001b[0;32m      1\u001b[0m np\u001b[38;5;241m.\u001b[39marray([\u001b[38;5;241m5.3\u001b[39m, \u001b[38;5;241m6.6\u001b[39m, \u001b[38;5;241m7.1\u001b[39m, \u001b[38;5;241m8.4\u001b[39m], dtype\u001b[38;5;241m=\u001b[39m np\u001b[38;5;241m.\u001b[39mfloat16) \u001b[38;5;66;03m# all floats16\u001b[39;00m\n\u001b[0;32m      2\u001b[0m np\u001b[38;5;241m.\u001b[39marray([\u001b[38;5;241m5.3\u001b[39m, \u001b[38;5;241m6.6\u001b[39m, \u001b[38;5;241m7.1\u001b[39m, \u001b[38;5;241m8.4\u001b[39m], dtype\u001b[38;5;241m=\u001b[39m np\u001b[38;5;241m.\u001b[39mfloat32) \u001b[38;5;66;03m# all floats32\u001b[39;00m\n\u001b[1;32m----> 3\u001b[0m np\u001b[38;5;241m.\u001b[39marray([\u001b[38;5;241m5.3\u001b[39m, \u001b[38;5;241m6.6\u001b[39m, \u001b[38;5;241m7.1\u001b[39m, \u001b[38;5;241m8.4\u001b[39m], dtype\u001b[38;5;241m=\u001b[39m \u001b[43mnp\u001b[49m\u001b[38;5;241;43m.\u001b[39;49m\u001b[43mfloat_\u001b[49m) \u001b[38;5;66;03m# will works alias for float64 dtype\u001b[39;00m\n\u001b[0;32m      4\u001b[0m \u001b[38;5;66;03m# np.array([5.3, 6.6, 7.1, 8.4], dtype= np.float) # will warn\u001b[39;00m\n\u001b[0;32m      5\u001b[0m \u001b[38;5;66;03m# np.array([5.3, 6.6, 7.1, 8.4], dtype= np.float8) # will throw error\u001b[39;00m\n",
      "File \u001b[1;32m~\\AppData\\Local\\Programs\\Python\\Python313\\Lib\\site-packages\\numpy\\__init__.py:794\u001b[0m, in \u001b[0;36m__getattr__\u001b[1;34m(attr)\u001b[0m\n\u001b[0;32m    791\u001b[0m     \u001b[38;5;28;01mraise\u001b[39;00m \u001b[38;5;167;01mAttributeError\u001b[39;00m(__former_attrs__[attr], name\u001b[38;5;241m=\u001b[39m\u001b[38;5;28;01mNone\u001b[39;00m)\n\u001b[0;32m    793\u001b[0m \u001b[38;5;28;01mif\u001b[39;00m attr \u001b[38;5;129;01min\u001b[39;00m __expired_attributes__:\n\u001b[1;32m--> 794\u001b[0m     \u001b[38;5;28;01mraise\u001b[39;00m \u001b[38;5;167;01mAttributeError\u001b[39;00m(\n\u001b[0;32m    795\u001b[0m         \u001b[38;5;124mf\u001b[39m\u001b[38;5;124m\"\u001b[39m\u001b[38;5;124m`np.\u001b[39m\u001b[38;5;132;01m{\u001b[39;00mattr\u001b[38;5;132;01m}\u001b[39;00m\u001b[38;5;124m` was removed in the NumPy 2.0 release. \u001b[39m\u001b[38;5;124m\"\u001b[39m\n\u001b[0;32m    796\u001b[0m         \u001b[38;5;124mf\u001b[39m\u001b[38;5;124m\"\u001b[39m\u001b[38;5;132;01m{\u001b[39;00m__expired_attributes__[attr]\u001b[38;5;132;01m}\u001b[39;00m\u001b[38;5;124m\"\u001b[39m,\n\u001b[0;32m    797\u001b[0m         name\u001b[38;5;241m=\u001b[39m\u001b[38;5;28;01mNone\u001b[39;00m\n\u001b[0;32m    798\u001b[0m     )\n\u001b[0;32m    800\u001b[0m \u001b[38;5;28;01mif\u001b[39;00m attr \u001b[38;5;241m==\u001b[39m \u001b[38;5;124m\"\u001b[39m\u001b[38;5;124mchararray\u001b[39m\u001b[38;5;124m\"\u001b[39m:\n\u001b[0;32m    801\u001b[0m     warnings\u001b[38;5;241m.\u001b[39mwarn(\n\u001b[0;32m    802\u001b[0m         \u001b[38;5;124m\"\u001b[39m\u001b[38;5;124m`np.chararray` is deprecated and will be removed from \u001b[39m\u001b[38;5;124m\"\u001b[39m\n\u001b[0;32m    803\u001b[0m         \u001b[38;5;124m\"\u001b[39m\u001b[38;5;124mthe main namespace in the future. Use an array with a string \u001b[39m\u001b[38;5;124m\"\u001b[39m\n\u001b[0;32m    804\u001b[0m         \u001b[38;5;124m\"\u001b[39m\u001b[38;5;124mor bytes dtype instead.\u001b[39m\u001b[38;5;124m\"\u001b[39m, \u001b[38;5;167;01mDeprecationWarning\u001b[39;00m, stacklevel\u001b[38;5;241m=\u001b[39m\u001b[38;5;241m2\u001b[39m)\n",
      "\u001b[1;31mAttributeError\u001b[0m: `np.float_` was removed in the NumPy 2.0 release. Use `np.float64` instead."
     ]
    }
   ],
   "source": [
    "np.array([5.3, 6.6, 7.1, 8.4], dtype= np.float16) # all floats16\n",
    "np.array([5.3, 6.6, 7.1, 8.4], dtype= np.float32) # all floats32\n",
    "np.array([5.3, 6.6, 7.1, 8.4], dtype= np.float_) # will works alias for float64 dtype\n",
    "# np.array([5.3, 6.6, 7.1, 8.4], dtype= np.float) # will warn\n",
    "# np.array([5.3, 6.6, 7.1, 8.4], dtype= np.float8) # will throw error"
   ]
  },
  {
   "cell_type": "markdown",
   "metadata": {
    "id": "d06qI_1uvBbZ"
   },
   "source": [
    "\n",
    "# Thus far we created 1 -D arrays\n",
    "# We can also create multidimensional arrays, that we will do later."
   ]
  },
  {
   "cell_type": "markdown",
   "metadata": {
    "id": "XhcULYaRvZae"
   },
   "source": [
    "<font size = 10>\n",
    "# Next we use some \"routines\" of numpy to create arrays\n",
    "# the names of routines defines what the elemnts will be filled in the array <br>\n",
    "  - zeros  <br>\n",
    "  - ones   <br>\n",
    "  - full   <br>\n"
   ]
  },
  {
   "cell_type": "code",
   "execution_count": 36,
   "metadata": {
    "colab": {
     "base_uri": "https://localhost:8080/",
     "height": 67
    },
    "id": "GfE0q8S9vPbH",
    "outputId": "4b4e573c-3eea-42fa-d6a5-22090a3a0179"
   },
   "outputs": [
    {
     "name": "stdout",
     "output_type": "stream",
     "text": [
      "Error in callback <function increase_font at 0x000001F805C28400> (for pre_run_cell), with arguments args (<ExecutionInfo object at 1f81c46e190, raw_cell=\"np.zeros(6, dtype = int)\" store_history=True silent=False shell_futures=True cell_id=2055c7ec-9ccf-4a9d-8b9d-86dff174de16>,),kwargs {}:\n"
     ]
    },
    {
     "ename": "TypeError",
     "evalue": "increase_font() takes 0 positional arguments but 1 was given",
     "output_type": "error",
     "traceback": [
      "\u001b[1;31m---------------------------------------------------------------------------\u001b[0m",
      "\u001b[1;31mTypeError\u001b[0m                                 Traceback (most recent call last)",
      "\u001b[1;31mTypeError\u001b[0m: increase_font() takes 0 positional arguments but 1 was given"
     ]
    },
    {
     "name": "stdout",
     "output_type": "stream",
     "text": [
      "Error in callback <function increase_font at 0x000001F8061DB9C0> (for pre_run_cell), with arguments args (<ExecutionInfo object at 1f81c46e190, raw_cell=\"np.zeros(6, dtype = int)\" store_history=True silent=False shell_futures=True cell_id=2055c7ec-9ccf-4a9d-8b9d-86dff174de16>,),kwargs {}:\n"
     ]
    },
    {
     "ename": "TypeError",
     "evalue": "increase_font() takes 0 positional arguments but 1 was given",
     "output_type": "error",
     "traceback": [
      "\u001b[1;31m---------------------------------------------------------------------------\u001b[0m",
      "\u001b[1;31mTypeError\u001b[0m                                 Traceback (most recent call last)",
      "\u001b[1;31mTypeError\u001b[0m: increase_font() takes 0 positional arguments but 1 was given"
     ]
    },
    {
     "data": {
      "text/plain": [
       "array([0, 0, 0, 0, 0, 0])"
      ]
     },
     "execution_count": 36,
     "metadata": {},
     "output_type": "execute_result"
    }
   ],
   "source": [
    "np.zeros(6, dtype = int)"
   ]
  },
  {
   "cell_type": "code",
   "execution_count": 35,
   "metadata": {
    "colab": {
     "base_uri": "https://localhost:8080/",
     "height": 168
    },
    "id": "hbZ9RcpC8HZc",
    "outputId": "cb81d9a9-53bd-4395-b2d6-0eef659ae8c3"
   },
   "outputs": [
    {
     "name": "stdout",
     "output_type": "stream",
     "text": [
      "Error in callback <function increase_font at 0x000001F805C28400> (for pre_run_cell), with arguments args (<ExecutionInfo object at 1f81c46ef90, raw_cell=\"np.ones( (3,2), dtype = int)\" store_history=True silent=False shell_futures=True cell_id=f2a22db2-cd1a-4938-8508-bc32eadb43bd>,),kwargs {}:\n"
     ]
    },
    {
     "ename": "TypeError",
     "evalue": "increase_font() takes 0 positional arguments but 1 was given",
     "output_type": "error",
     "traceback": [
      "\u001b[1;31m---------------------------------------------------------------------------\u001b[0m",
      "\u001b[1;31mTypeError\u001b[0m                                 Traceback (most recent call last)",
      "\u001b[1;31mTypeError\u001b[0m: increase_font() takes 0 positional arguments but 1 was given"
     ]
    },
    {
     "name": "stdout",
     "output_type": "stream",
     "text": [
      "Error in callback <function increase_font at 0x000001F8061DB9C0> (for pre_run_cell), with arguments args (<ExecutionInfo object at 1f81c46ef90, raw_cell=\"np.ones( (3,2), dtype = int)\" store_history=True silent=False shell_futures=True cell_id=f2a22db2-cd1a-4938-8508-bc32eadb43bd>,),kwargs {}:\n"
     ]
    },
    {
     "ename": "TypeError",
     "evalue": "increase_font() takes 0 positional arguments but 1 was given",
     "output_type": "error",
     "traceback": [
      "\u001b[1;31m---------------------------------------------------------------------------\u001b[0m",
      "\u001b[1;31mTypeError\u001b[0m                                 Traceback (most recent call last)",
      "\u001b[1;31mTypeError\u001b[0m: increase_font() takes 0 positional arguments but 1 was given"
     ]
    },
    {
     "data": {
      "text/plain": [
       "array([[1, 1],\n",
       "       [1, 1],\n",
       "       [1, 1]])"
      ]
     },
     "execution_count": 35,
     "metadata": {},
     "output_type": "execute_result"
    }
   ],
   "source": [
    "np.ones( (3,2), dtype = int)"
   ]
  },
  {
   "cell_type": "markdown",
   "metadata": {
    "id": "7X2pYCO17z08"
   },
   "source": [
    "<font size = 18  color = blue style = Arial>\n",
    "np.ones( (3,2), dtype = int) <br>\n",
    "(3,2) is the first argument, it defines the dimension of matrix or array\n",
    "</font>"
   ]
  },
  {
   "cell_type": "code",
   "execution_count": null,
   "metadata": {
    "id": "DKNg2TWw8Lkc"
   },
   "outputs": [],
   "source": [
    "np.ones((3,2), dtype = float)  # (3,2) is a tuple\n",
    "my_ones_arr = np.ones([3,2], dtype = float)  # [3,2] is a list\n",
    "type(my_ones_arr)"
   ]
  },
  {
   "cell_type": "markdown",
   "metadata": {
    "id": "SZtLphDDxyov"
   },
   "source": [
    "\n",
    "# How to check the attributes"
   ]
  },
  {
   "cell_type": "markdown",
   "metadata": {
    "id": "lxU6zQpgxm5Y"
   },
   "source": [
    "# What are the attributes of an object like `array` : a brief detour using `dir ( )`"
   ]
  },
  {
   "cell_type": "code",
   "execution_count": null,
   "metadata": {
    "id": "yfszbBIdxiF5"
   },
   "outputs": [],
   "source": [
    "dir(my_ones_arr)"
   ]
  },
  {
   "cell_type": "markdown",
   "metadata": {
    "id": "vdwdU3ww4oL0"
   },
   "source": [
    "# The above output is very long (ie, verbose). We can use the width of screen to make output more readable for ourselves and others. How can we do that."
   ]
  },
  {
   "cell_type": "code",
   "execution_count": null,
   "metadata": {
    "id": "I4ykTXIW1tPM"
   },
   "outputs": [],
   "source": [
    "type(dir(my_ones_arr))\n",
    "len(dir(my_ones_arr))"
   ]
  },
  {
   "cell_type": "markdown",
   "metadata": {
    "id": "WlEL25BN5DH6"
   },
   "source": [
    "# We can use the white space to show output in 3 or 5 or 7 columns as it fits and reads better. Maybe a hit and trial method ? But let's be systematic. Compute Factors of 165.\n",
    "# What are the factors of 165 to decide in how many columns to show this set of attributes. Let's write a small function because we will need it again.\n",
    "\n",
    "# Note how we create a help section in matching triple quotes `\"\"\"` called _Docstring_. Why ? It's a text _string_ that _documents_ how to use the function.\n",
    "<font size = 6 color = darkgreen face = Monospace>\n",
    "  \"\"\"Compute the factors of input number `num`\"\"\"\n",
    "</font>"
   ]
  },
  {
   "cell_type": "code",
   "execution_count": null,
   "metadata": {
    "id": "gk58ErrryaFs"
   },
   "outputs": [],
   "source": [
    "def get_factors(num):\n",
    "  \"\"\"Compute the factors of input number `num`\"\"\"\n",
    "  print(f'Factors of {num} :')\n",
    "  for k in range(1, num + 1):\n",
    "      if num % k == 0:\n",
    "          print(k)\n",
    "\n",
    "# Find out how to use a function using .__doc__ attribute\n",
    "get_factors.__doc__\n",
    "\n",
    "get_factors(165)\n",
    "# type(get_factors(165))"
   ]
  },
  {
   "cell_type": "code",
   "execution_count": null,
   "metadata": {
    "id": "oHYUw1L1x1Ku"
   },
   "outputs": [],
   "source": [
    "165/5 # no of columns can be shown is 5; so 33 rows\n",
    "165/3 # no of columns can be shown is 3; so 55 rows\n",
    "\n",
    "(np.array(dir(my_ones_arr))).reshape(33,5) # Use 5 cols to use space; its better but can be improved\n",
    "(np.array(dir(my_ones_arr))).reshape(55,3) # 3 cols appears best\n",
    "# row major ordering of elements by default\n"
   ]
  },
  {
   "cell_type": "markdown",
   "metadata": {
    "id": "Gg6oUJhwnG5E"
   },
   "source": [
    "## The general recommendation would be to show a an array of hunderds of strings as a reshaped array with 3 columns. Pad the end of the array with 1 or 2 strings like 'blank' 'blank'  "
   ]
  },
  {
   "cell_type": "markdown",
   "metadata": {
    "id": "p_rRFOCEA8Og"
   },
   "source": [
    "\n",
    "# What to do if there are 149 attributes ? How to print these in reshaped format. Pad it with one 'blank' string. Length is now 150,  divisible by 3.\n"
   ]
  },
  {
   "cell_type": "code",
   "execution_count": null,
   "metadata": {
    "id": "aa6K5f7lA-kw"
   },
   "outputs": [],
   "source": [
    "\n",
    "get_factors(149) # What do if there are 149 attributes ? How to print these in reshaped format\n"
   ]
  },
  {
   "cell_type": "code",
   "execution_count": null,
   "metadata": {
    "id": "dxA4n79EPyJw"
   },
   "outputs": [],
   "source": [
    "np.ones((3,2), dtype = int)"
   ]
  },
  {
   "cell_type": "code",
   "execution_count": null,
   "metadata": {
    "id": "NtHYlAXFu8TK"
   },
   "outputs": [],
   "source": [
    "# Thesecond argument 9.8 is a float (or we can supply an int also ) of our choice\n",
    "np.full((3,2) , 9.8, dtype = float) # a custom way of filling the array\n",
    "# np.full((3,2) , 100, dtype = int) # a custom way of filling the array"
   ]
  },
  {
   "cell_type": "markdown",
   "metadata": {
    "id": "g85rbVlkwPq3"
   },
   "source": [
    "## Next we have `arange(  )` much like `range(  )` used with `list( )`"
   ]
  },
  {
   "cell_type": "code",
   "execution_count": null,
   "metadata": {
    "colab": {
     "base_uri": "https://localhost:8080/"
    },
    "id": "KEnPPOwmwYGY",
    "outputId": "c4adbfce-f8c0-4b63-eb55-bcbef39c3067"
   },
   "outputs": [],
   "source": [
    "list(range(0, 9))"
   ]
  },
  {
   "cell_type": "code",
   "execution_count": null,
   "metadata": {
    "colab": {
     "base_uri": "https://localhost:8080/"
    },
    "id": "gm2midM2wfCI",
    "outputId": "55a9e3b4-a67d-417e-ddbc-8058e091d7cc"
   },
   "outputs": [],
   "source": [
    "np.arange(0, 9, dtype = int) # arange is fo arithmetic range"
   ]
  },
  {
   "cell_type": "markdown",
   "metadata": {
    "id": "34jkvgyPH2DJ"
   },
   "source": [
    "# arange(   ) from `0` to `1001`\n",
    "# again note the use of 1e3 + 1 for 1001."
   ]
  },
  {
   "cell_type": "code",
   "execution_count": null,
   "metadata": {
    "colab": {
     "base_uri": "https://localhost:8080/"
    },
    "id": "-bYIlxLOHzlz",
    "outputId": "3e4e6cfb-61f3-462b-a251-3ae09ad4139f"
   },
   "outputs": [],
   "source": [
    "np.arange(0, 1e3+1, dtype = int) # `0` to `1001` # compact\n",
    "# np.arange(0, 999, dtype = int) # `0` to `999` # verbose"
   ]
  },
  {
   "cell_type": "markdown",
   "metadata": {
    "id": "ZO0zSY3Dwn4t"
   },
   "source": [
    "## When we want to evenly place `float`s or `int`s  \n",
    "## we use np.linspace( ) # linearly spaced nums or floats\n",
    "\n",
    "## we use np.linspace(0,1,5 ) #\n",
    "## 5 evenly or uniformly or linearly spaced numbers between 0 & 1 but end points included\n",
    "\n",
    "# https://numpy.org/doc/stable/reference/generated/numpy.logspace.html\n",
    "\n",
    "In the arguments to this method you will note that endpoint = True is the default.\n",
    "\n"
   ]
  },
  {
   "cell_type": "code",
   "execution_count": null,
   "metadata": {
    "colab": {
     "base_uri": "https://localhost:8080/"
    },
    "id": "m9ohMfVswxFx",
    "outputId": "02da429b-2222-47c5-ba1b-138e43bd75e0"
   },
   "outputs": [],
   "source": [
    "np.linspace(0, 1, 5) # 5 Evenly uniformly spaced numbers between 0 & 1 but end points included closed interval applies here\n",
    "lin_space_nos = np.linspace(0, 1, 5)\n",
    "lin_space_nos"
   ]
  },
  {
   "cell_type": "code",
   "execution_count": null,
   "metadata": {
    "cellView": "form",
    "colab": {
     "base_uri": "https://localhost:8080/"
    },
    "id": "l8a9-IhbSqFt",
    "outputId": "5144fbd3-ca33-4e26-8591-ea735827dc32"
   },
   "outputs": [],
   "source": [
    "# @title\n",
    "# logarithmically spaced numbers between 0 & 1 but end points included closed interval applies here\n",
    "np.logspace(0, 1, 5, dtype = float) #\n",
    "\n",
    "log_space_nos = np.logspace(0, 1, 5, dtype = float) #\n",
    "\n",
    "print(log_space_nos)\n",
    "\n"
   ]
  },
  {
   "cell_type": "code",
   "execution_count": null,
   "metadata": {
    "id": "ilcZyax9W347"
   },
   "outputs": [],
   "source": []
  },
  {
   "cell_type": "code",
   "execution_count": null,
   "metadata": {
    "cellView": "form",
    "colab": {
     "base_uri": "https://localhost:8080/"
    },
    "id": "7YrgLcU_XlI6",
    "outputId": "5de53432-37c1-4119-d484-c795d8fb4acd"
   },
   "outputs": [],
   "source": [
    "# @title\n",
    "print ([(k+1)/k  for k in log_space_nos])"
   ]
  },
  {
   "cell_type": "code",
   "execution_count": null,
   "metadata": {
    "cellView": "form",
    "colab": {
     "base_uri": "https://localhost:8080/"
    },
    "id": "b0w-hMOQTt3c",
    "outputId": "8905eeb5-75ef-4cac-843a-58c11142fde8"
   },
   "outputs": [],
   "source": [
    "# @title\n",
    "log_space_nos[1] / log_space_nos[0]\n",
    "\n",
    "log_space_nos[2]/log_space_nos[1]\n",
    "\n",
    "log_space_nos[3]/log_space_nos[2]\n",
    "\n",
    "log_space_nos[4]/log_space_nos[3]\n",
    "\n"
   ]
  },
  {
   "cell_type": "code",
   "execution_count": null,
   "metadata": {
    "colab": {
     "base_uri": "https://localhost:8080/"
    },
    "id": "urR5hLYUGuu8",
    "outputId": "c6879741-c394-4091-a73d-b0fdf1528188"
   },
   "outputs": [],
   "source": [
    "# @title\n",
    "np.linspace(0, 10, 5) # 5 Evenly spaced numbers between 0 & 10 but end points included closed interval applies here"
   ]
  },
  {
   "cell_type": "markdown",
   "metadata": {
    "id": "W34MeoJKQSeA"
   },
   "source": [
    "# After creating arrays from the ground up, we can now look at how we can fill an array with numbers at random.\n",
    "\n",
    "# These are in fact <b>P</b>seudo Random Numbers as they are generated using an algorithm on our computers.  So in that sense they are predictable. Practically, using the same seed you can generate the same random number.\n",
    "See more at https://www.random.org/\n",
    "\n",
    "# np.random.random( (3,3) ) # note that dimensions (rows, cols) are passed as a tuple or a list.\n",
    "\n",
    "# np.random.random( 2 ) # a single number yields two random numbers\n",
    "\n",
    "\n"
   ]
  },
  {
   "cell_type": "markdown",
   "metadata": {
    "id": "nl17klJYUWqu"
   },
   "source": [
    "# From the the docs : https://numpy.org/doc/stable/reference/random/generated/numpy.random.random.html\n",
    "\n",
    "# numpy.random.random\n",
    "  -  random.random(size=None)   MEANS One argument, `size` size of array of random numbers, default None    \n",
    "  -  Return random floats in the half-open interval [0.0, 1.0). MEANS you will never find 1.0 generated.\n",
    "  -  Alias for random_sample to ease forward-porting to the new random API. MEANS that `.random_sample` was used earlier but new one is `.random`. Both continue for now."
   ]
  },
  {
   "cell_type": "code",
   "execution_count": null,
   "metadata": {
    "colab": {
     "base_uri": "https://localhost:8080/"
    },
    "id": "LEUVw790SixW",
    "outputId": "e1556f09-ba55-4571-e8c9-7b71d40903ba"
   },
   "outputs": [],
   "source": [
    "np.random.random((3,3))\n",
    "# np.random.random(3,3) # throws an error"
   ]
  },
  {
   "cell_type": "code",
   "execution_count": null,
   "metadata": {
    "colab": {
     "base_uri": "https://localhost:8080/"
    },
    "id": "0nJpUr4zSJsP",
    "outputId": "64d6c4c7-6e69-4af3-9e12-524e66aa0ef5"
   },
   "outputs": [],
   "source": [
    "np.random.random([3,3])\n",
    "# np.random.random_sample([3,3]) # is an alias"
   ]
  },
  {
   "cell_type": "markdown",
   "metadata": {
    "id": "zmbRR3rkSP32"
   },
   "source": [
    "# Single argument with parnetheses or without, both work\n",
    "# Without any argument one random number between (0, 1) is generated"
   ]
  },
  {
   "cell_type": "code",
   "execution_count": null,
   "metadata": {
    "colab": {
     "base_uri": "https://localhost:8080/"
    },
    "id": "vpE8lY5-QnLA",
    "outputId": "4a266cfe-62d0-466c-e282-e6f9237c5fe0"
   },
   "outputs": [],
   "source": [
    "np.random.random(2) # Single argument without or with parnetheses : Both work\n",
    "np.random.random((2)) # Both work\n",
    "np.random.random(()) # Without any argument one random number between (0, 1) is generated"
   ]
  },
  {
   "cell_type": "markdown",
   "metadata": {
    "id": "3fv5TiYOI1fA"
   },
   "source": [
    "# We can create a normally distributed random numbers and place them in an array.\n",
    "<font size = 6 color = green face = Monospace>\n",
    "np.random.normal(0, 1, (2,2))  <br>\n",
    "Note the order of arguments above <br>\n",
    "First - Mean is zero, <br>\n",
    "Second - Standard deviation is 1<br>\n",
    "Third - size of array where Rows x Cols = No of Elements\n",
    "</font>\n"
   ]
  },
  {
   "cell_type": "code",
   "execution_count": null,
   "metadata": {
    "colab": {
     "base_uri": "https://localhost:8080/"
    },
    "id": "otskUcUmJAOQ",
    "outputId": "7f9c07ea-6418-4f4a-f3db-15c51874f4ff"
   },
   "outputs": [],
   "source": [
    "np.random.normal(0, 1, (6,6)) # unreadable\n",
    "np.random.normal(0, 1, (6,6)).round(3) # readable"
   ]
  },
  {
   "cell_type": "markdown",
   "metadata": {
    "id": "y3xuuz7HP082"
   },
   "source": [
    "# Next we can generate a list of random numbers between a start and end and then specify array size\n"
   ]
  },
  {
   "cell_type": "markdown",
   "metadata": {
    "id": "oH-6F96UQEL5"
   },
   "source": [
    "<font size = 6 color = green face = Monospace>\n",
    "np.random.randint(10, 17, (2,3))  <br>\n",
    "Note the order of arguments above <br>\n",
    "First - start is 10, <br>\n",
    "Second - end is 17, <br>\n",
    "Third - size of array where Rows x Cols = No of Elements\n",
    "</font>\n"
   ]
  },
  {
   "cell_type": "code",
   "execution_count": null,
   "metadata": {
    "colab": {
     "base_uri": "https://localhost:8080/"
    },
    "id": "HE_98kD8PZ12",
    "outputId": "f51eaef4-50f8-43f7-807b-95611e2218bc"
   },
   "outputs": [],
   "source": [
    "np.random.randint(10, 17, (2,3))\n",
    "np.random.randint(100, 201, (2,3))"
   ]
  },
  {
   "cell_type": "markdown",
   "metadata": {
    "id": "hK3-GhMfQvom"
   },
   "source": [
    "# Lastly an Identity matrix\n",
    "# It is usually written as $I$ in Math. np.eye sounds like that."
   ]
  },
  {
   "cell_type": "code",
   "execution_count": null,
   "metadata": {
    "colab": {
     "base_uri": "https://localhost:8080/"
    },
    "id": "LOdUynOOQqPN",
    "outputId": "7c7fed02-d27a-40e2-f480-bcd6a73cea46"
   },
   "outputs": [],
   "source": [
    "np.eye(4, dtype = float) # float is default\n",
    "np.eye(4, dtype = int)"
   ]
  },
  {
   "cell_type": "code",
   "execution_count": null,
   "metadata": {
    "colab": {
     "base_uri": "https://localhost:8080/",
     "height": 79
    },
    "id": "VmJpk3jGjy7k",
    "outputId": "11b36731-8ee9-4999-9608-127cf13bdf4d"
   },
   "outputs": [],
   "source": [
    "def increase_font():\n",
    "  from IPython.display import Javascript\n",
    "  display(Javascript('''\n",
    "  for (rule of document.styleSheets[0].cssRules){\n",
    "    if (rule.selectorText=='body') {\n",
    "      rule.style.fontSize = '25px'\n",
    "      rule.style.color = 'darkblue'\n",
    "      break\n",
    "    }\n",
    "  }\n",
    "  '''))\n",
    "increase_font()\n",
    "get_ipython().events.register('pre_run_cell', increase_font)\n",
    "print(\"Hello in \")\n",
    "print(\"...in larger font \")"
   ]
  }
 ],
 "metadata": {
  "colab": {
   "provenance": []
  },
  "kernelspec": {
   "display_name": "Python 3 (ipykernel)",
   "language": "python",
   "name": "python3"
  },
  "language_info": {
   "codemirror_mode": {
    "name": "ipython",
    "version": 3
   },
   "file_extension": ".py",
   "mimetype": "text/x-python",
   "name": "python",
   "nbconvert_exporter": "python",
   "pygments_lexer": "ipython3",
   "version": "3.13.5"
  }
 },
 "nbformat": 4,
 "nbformat_minor": 4
}
