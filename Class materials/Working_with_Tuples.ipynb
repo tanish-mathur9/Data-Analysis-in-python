{
  "nbformat": 4,
  "nbformat_minor": 0,
  "metadata": {
    "colab": {
      "provenance": []
    },
    "kernelspec": {
      "name": "python3",
      "display_name": "Python 3"
    },
    "language_info": {
      "name": "python"
    }
  },
  "cells": [
    {
      "cell_type": "code",
      "source": [
        "# @title\n",
        "def increase_font():\n",
        "  from IPython.display import Javascript\n",
        "  display(Javascript('''\n",
        "  for (rule of document.styleSheets[0].cssRules){\n",
        "    if (rule.selectorText=='body') {\n",
        "      rule.style.fontSize = '30px'\n",
        "      rule.style.color = 'darkblue'\n",
        "      break\n",
        "    }\n",
        "  }\n",
        "  '''))\n",
        "increase_font()\n",
        "get_ipython().events.register('pre_run_cell', increase_font)\n",
        "print(\"Hello in \")\n",
        "print(\"...in larger font \")"
      ],
      "metadata": {
        "outputId": "449e25c6-e532-43e5-fcfb-828392d8f900",
        "colab": {
          "base_uri": "https://localhost:8080/",
          "height": 91
        },
        "id": "u1VTt_uMBIex",
        "cellView": "form"
      },
      "execution_count": null,
      "outputs": [
        {
          "output_type": "display_data",
          "data": {
            "text/plain": [
              "<IPython.core.display.Javascript object>"
            ],
            "application/javascript": [
              "\n",
              "  for (rule of document.styleSheets[0].cssRules){\n",
              "    if (rule.selectorText=='body') {\n",
              "      rule.style.fontSize = '30px'\n",
              "      rule.style.color = 'darkblue'\n",
              "      break\n",
              "    }\n",
              "  }\n",
              "  "
            ]
          },
          "metadata": {}
        },
        {
          "output_type": "stream",
          "name": "stdout",
          "text": [
            "Hello in \n",
            "...in larger font \n"
          ]
        }
      ]
    },
    {
      "cell_type": "markdown",
      "source": [
        "# Working with Tuples\n",
        "\n",
        "# Tuples can not be changed unlike lists"
      ],
      "metadata": {
        "id": "IHS22zigYyUX"
      }
    },
    {
      "cell_type": "code",
      "source": [],
      "metadata": {
        "id": "Nyyy-8CvXwIY"
      },
      "execution_count": null,
      "outputs": []
    },
    {
      "cell_type": "markdown",
      "source": [
        "<font size = 40 color = blue>\n",
        "my_tuple = (  ,   ,   )    # use parentheses\n",
        "</font>\n",
        "\n",
        "<br>\n",
        "\n",
        "<font size = 40 color = blue>\n",
        "my_list = [  ,   ,   ]    # use squre brackets\n",
        "</font>"
      ],
      "metadata": {
        "id": "W_ehaAJaY_Xh"
      }
    },
    {
      "cell_type": "code",
      "execution_count": null,
      "metadata": {
        "colab": {
          "base_uri": "https://localhost:8080/",
          "height": 54
        },
        "id": "EtxO8Hk1YfrW",
        "outputId": "6fbb9d49-cc55-421e-9444-408dfdca3d0c"
      },
      "outputs": [
        {
          "output_type": "display_data",
          "data": {
            "text/plain": [
              "<IPython.core.display.Javascript object>"
            ],
            "application/javascript": [
              "\n",
              "  for (rule of document.styleSheets[0].cssRules){\n",
              "    if (rule.selectorText=='body') {\n",
              "      rule.style.fontSize = '30px'\n",
              "      rule.style.color = 'darkblue'\n",
              "      break\n",
              "    }\n",
              "  }\n",
              "  "
            ]
          },
          "metadata": {}
        },
        {
          "output_type": "execute_result",
          "data": {
            "text/plain": [
              "tuple"
            ]
          },
          "metadata": {},
          "execution_count": 4
        }
      ],
      "source": [
        "my_tuple = (5,6,7,8)\n",
        "\n",
        "type(my_tuple )"
      ]
    },
    {
      "cell_type": "code",
      "source": [
        "akshay_tuple = ('chinagate','OMG','rowdy rathod','chandni chowk','entertainment')\n",
        "type(akshay_tuple )\n",
        "len(akshay_tuple )\n",
        "\n"
      ],
      "metadata": {
        "colab": {
          "base_uri": "https://localhost:8080/",
          "height": 54
        },
        "id": "PvQPD8M5HHt9",
        "outputId": "1b196df0-603e-4f5b-cf32-d2f24ee0ac09"
      },
      "execution_count": null,
      "outputs": [
        {
          "output_type": "display_data",
          "data": {
            "text/plain": [
              "<IPython.core.display.Javascript object>"
            ],
            "application/javascript": [
              "\n",
              "  for (rule of document.styleSheets[0].cssRules){\n",
              "    if (rule.selectorText=='body') {\n",
              "      rule.style.fontSize = '30px'\n",
              "      rule.style.color = 'darkblue'\n",
              "      break\n",
              "    }\n",
              "  }\n",
              "  "
            ]
          },
          "metadata": {}
        },
        {
          "output_type": "execute_result",
          "data": {
            "text/plain": [
              "5"
            ]
          },
          "metadata": {},
          "execution_count": 5
        }
      ]
    },
    {
      "cell_type": "markdown",
      "source": [
        "<font size = 12>\n",
        "Though we can exclude the parentheses, it is common practice to use the parenthese. So stick with that practice."
      ],
      "metadata": {
        "id": "MoMAjwpzZksB"
      }
    },
    {
      "cell_type": "code",
      "source": [
        "my_rare_tuple = 1,3,5\n",
        "\n",
        "type(my_rare_tuple)"
      ],
      "metadata": {
        "colab": {
          "base_uri": "https://localhost:8080/",
          "height": 54
        },
        "id": "xJ_5zdGMZwTS",
        "outputId": "ffb42c50-d36b-45ed-cf50-1f9709d5a006"
      },
      "execution_count": null,
      "outputs": [
        {
          "output_type": "display_data",
          "data": {
            "text/plain": [
              "<IPython.core.display.Javascript object>"
            ],
            "application/javascript": [
              "\n",
              "  for (rule of document.styleSheets[0].cssRules){\n",
              "    if (rule.selectorText=='body') {\n",
              "      rule.style.fontSize = '30px'\n",
              "      rule.style.color = 'darkblue'\n",
              "      break\n",
              "    }\n",
              "  }\n",
              "  "
            ]
          },
          "metadata": {}
        },
        {
          "output_type": "execute_result",
          "data": {
            "text/plain": [
              "tuple"
            ]
          },
          "metadata": {},
          "execution_count": 6
        }
      ]
    },
    {
      "cell_type": "markdown",
      "source": [
        "# We can use square brackets `[  ]`to extract elements. Same as in lists.\n",
        "\n",
        "# Again the same rules of half-open intervals (on RHS) apply here.\n",
        "# `[    )`"
      ],
      "metadata": {
        "id": "1TAu2cnKaTdJ"
      }
    },
    {
      "cell_type": "code",
      "source": [
        "\n",
        "my_tuple # recall my_tuple\n",
        "my_tuple[0:2] # (5,6)\n",
        "my_list = list(my_tuple)\n",
        "type(my_list )\n",
        "print(f'my_tuple is {my_tuple} and my_list is {my_list}')"
      ],
      "metadata": {
        "colab": {
          "base_uri": "https://localhost:8080/",
          "height": 54
        },
        "id": "wp6yW3D1aIfB",
        "outputId": "1c3bc458-f714-43bb-e5d3-85a8f0611b33"
      },
      "execution_count": null,
      "outputs": [
        {
          "output_type": "display_data",
          "data": {
            "text/plain": [
              "<IPython.core.display.Javascript object>"
            ],
            "application/javascript": [
              "\n",
              "  for (rule of document.styleSheets[0].cssRules){\n",
              "    if (rule.selectorText=='body') {\n",
              "      rule.style.fontSize = '30px'\n",
              "      rule.style.color = 'darkblue'\n",
              "      break\n",
              "    }\n",
              "  }\n",
              "  "
            ]
          },
          "metadata": {}
        },
        {
          "output_type": "stream",
          "name": "stdout",
          "text": [
            "my_tuple is (5, 6, 7, 8) and my_list is [5, 6, 7, 8]\n"
          ]
        }
      ]
    },
    {
      "cell_type": "markdown",
      "source": [
        "# Tuples can contain other tuples within"
      ],
      "metadata": {
        "id": "UEP0b-01a2Ji"
      }
    },
    {
      "cell_type": "code",
      "source": [
        "my_nested_tuple = ((1,2,3), (4,5,6))\n",
        "type(my_nested_tuple )\n"
      ],
      "metadata": {
        "colab": {
          "base_uri": "https://localhost:8080/",
          "height": 54
        },
        "id": "mUIlJO6nawcK",
        "outputId": "d906ddfa-f3a4-4230-ca41-27db6675f845"
      },
      "execution_count": null,
      "outputs": [
        {
          "output_type": "display_data",
          "data": {
            "text/plain": [
              "<IPython.core.display.Javascript object>"
            ],
            "application/javascript": [
              "\n",
              "  for (rule of document.styleSheets[0].cssRules){\n",
              "    if (rule.selectorText=='body') {\n",
              "      rule.style.fontSize = '30px'\n",
              "      rule.style.color = 'darkblue'\n",
              "      break\n",
              "    }\n",
              "  }\n",
              "  "
            ]
          },
          "metadata": {}
        },
        {
          "output_type": "execute_result",
          "data": {
            "text/plain": [
              "tuple"
            ]
          },
          "metadata": {},
          "execution_count": 12
        }
      ]
    },
    {
      "cell_type": "markdown",
      "source": [
        "# We access elements again in same way as tuples using square brackets."
      ],
      "metadata": {
        "id": "EtXgfldebpb6"
      }
    },
    {
      "cell_type": "code",
      "source": [
        "\n",
        "my_nested_tuple[0][2]\n",
        "\n",
        "my_nested_tuple[1]\n"
      ],
      "metadata": {
        "id": "wiSAzoHQbflg",
        "colab": {
          "base_uri": "https://localhost:8080/",
          "height": 54
        },
        "outputId": "debc31e2-a6fe-4e09-df8c-8610a6418ccc"
      },
      "execution_count": null,
      "outputs": [
        {
          "output_type": "display_data",
          "data": {
            "text/plain": [
              "<IPython.core.display.Javascript object>"
            ],
            "application/javascript": [
              "\n",
              "  for (rule of document.styleSheets[0].cssRules){\n",
              "    if (rule.selectorText=='body') {\n",
              "      rule.style.fontSize = '30px'\n",
              "      rule.style.color = 'darkblue'\n",
              "      break\n",
              "    }\n",
              "  }\n",
              "  "
            ]
          },
          "metadata": {}
        },
        {
          "output_type": "execute_result",
          "data": {
            "text/plain": [
              "3"
            ]
          },
          "metadata": {},
          "execution_count": 15
        }
      ]
    },
    {
      "cell_type": "markdown",
      "source": [
        "# And acess inner tuples along the same lines"
      ],
      "metadata": {
        "id": "LrwOiUNUbyvC"
      }
    },
    {
      "cell_type": "code",
      "source": [
        "my_nested_tuple\n",
        "my_nested_tuple[0][0]\n",
        "\n",
        "my_nested_tuple[1][1]"
      ],
      "metadata": {
        "colab": {
          "base_uri": "https://localhost:8080/",
          "height": 48
        },
        "id": "MNG2kFJdbgHR",
        "outputId": "a0362ac7-8979-482a-817c-2d2b6b0dad3a"
      },
      "execution_count": null,
      "outputs": [
        {
          "output_type": "display_data",
          "data": {
            "text/plain": [
              "<IPython.core.display.Javascript object>"
            ],
            "application/javascript": [
              "\n",
              "  for (rule of document.styleSheets[0].cssRules){\n",
              "    if (rule.selectorText=='body') {\n",
              "      rule.style.fontSize = '25px'\n",
              "      rule.style.color = 'darkblue'\n",
              "      break\n",
              "    }\n",
              "  }\n",
              "  "
            ]
          },
          "metadata": {}
        },
        {
          "output_type": "execute_result",
          "data": {
            "text/plain": [
              "5"
            ]
          },
          "metadata": {},
          "execution_count": 38
        }
      ]
    },
    {
      "cell_type": "markdown",
      "source": [
        "# Not allowed to change any element of a tuple : Immutable"
      ],
      "metadata": {
        "id": "g7dgSivMcN5B"
      }
    },
    {
      "cell_type": "code",
      "source": [
        "# my_tuple[1]\n",
        "my_tuple[1] = 9 # try to change the element for index 1 to  9"
      ],
      "metadata": {
        "colab": {
          "base_uri": "https://localhost:8080/",
          "height": 260
        },
        "id": "O-NKKPJRb9rh",
        "outputId": "05cefd83-7942-4dcf-d893-98a4110159ec"
      },
      "execution_count": null,
      "outputs": [
        {
          "output_type": "display_data",
          "data": {
            "text/plain": [
              "<IPython.core.display.Javascript object>"
            ],
            "application/javascript": [
              "\n",
              "  for (rule of document.styleSheets[0].cssRules){\n",
              "    if (rule.selectorText=='body') {\n",
              "      rule.style.fontSize = '30px'\n",
              "      rule.style.color = 'darkblue'\n",
              "      break\n",
              "    }\n",
              "  }\n",
              "  "
            ]
          },
          "metadata": {}
        },
        {
          "output_type": "error",
          "ename": "TypeError",
          "evalue": "'tuple' object does not support item assignment",
          "traceback": [
            "\u001b[0;31m---------------------------------------------------------------------------\u001b[0m",
            "\u001b[0;31mTypeError\u001b[0m                                 Traceback (most recent call last)",
            "\u001b[0;32m/tmp/ipython-input-1737699671.py\u001b[0m in \u001b[0;36m<cell line: 0>\u001b[0;34m()\u001b[0m\n\u001b[0;32m----> 1\u001b[0;31m \u001b[0mmy_tuple\u001b[0m\u001b[0;34m[\u001b[0m\u001b[0;36m1\u001b[0m\u001b[0;34m]\u001b[0m \u001b[0;34m=\u001b[0m \u001b[0;36m9\u001b[0m \u001b[0;31m# try to change the element for index 1 to  9\u001b[0m\u001b[0;34m\u001b[0m\u001b[0;34m\u001b[0m\u001b[0m\n\u001b[0m",
            "\u001b[0;31mTypeError\u001b[0m: 'tuple' object does not support item assignment"
          ]
        }
      ]
    },
    {
      "cell_type": "markdown",
      "source": [
        "# Mixed tuples are allowed"
      ],
      "metadata": {
        "id": "5TC69bZ2cTxw"
      }
    },
    {
      "cell_type": "code",
      "source": [
        "prithvi_shaw_selection = (14, 32, False, '1 not out')\n",
        "prithvi_shaw_selection # False means not selected"
      ],
      "metadata": {
        "colab": {
          "base_uri": "https://localhost:8080/",
          "height": 48
        },
        "id": "NHiUk2lOcXS4",
        "outputId": "544500bc-f141-49b3-abad-727cb76566ea"
      },
      "execution_count": null,
      "outputs": [
        {
          "output_type": "display_data",
          "data": {
            "text/plain": [
              "<IPython.core.display.Javascript object>"
            ],
            "application/javascript": [
              "\n",
              "  for (rule of document.styleSheets[0].cssRules){\n",
              "    if (rule.selectorText=='body') {\n",
              "      rule.style.fontSize = '25px'\n",
              "      rule.style.color = 'darkblue'\n",
              "      break\n",
              "    }\n",
              "  }\n",
              "  "
            ]
          },
          "metadata": {}
        },
        {
          "output_type": "execute_result",
          "data": {
            "text/plain": [
              "(14, 32, False, '1 not out')"
            ]
          },
          "metadata": {},
          "execution_count": 42
        }
      ]
    },
    {
      "cell_type": "markdown",
      "source": [
        "# Two tuples can be concatenated using `+` sign"
      ],
      "metadata": {
        "id": "C9NzFQKHdlfZ"
      }
    },
    {
      "cell_type": "code",
      "source": [
        "prithvi_scores = (12, 22, 29) + (False, 23, 31, 'retired hurt 0')\n",
        "prithvi_scores"
      ],
      "metadata": {
        "colab": {
          "base_uri": "https://localhost:8080/",
          "height": 54
        },
        "id": "PP4SWezKdS0n",
        "outputId": "da403f42-13af-4c14-ae93-5a25680ea2be"
      },
      "execution_count": null,
      "outputs": [
        {
          "output_type": "display_data",
          "data": {
            "text/plain": [
              "<IPython.core.display.Javascript object>"
            ],
            "application/javascript": [
              "\n",
              "  for (rule of document.styleSheets[0].cssRules){\n",
              "    if (rule.selectorText=='body') {\n",
              "      rule.style.fontSize = '30px'\n",
              "      rule.style.color = 'darkblue'\n",
              "      break\n",
              "    }\n",
              "  }\n",
              "  "
            ]
          },
          "metadata": {}
        },
        {
          "output_type": "execute_result",
          "data": {
            "text/plain": [
              "(12, 22, 29, False, 23, 31, 'retired hurt 0')"
            ]
          },
          "metadata": {},
          "execution_count": 19
        }
      ]
    },
    {
      "cell_type": "markdown",
      "source": [
        "# colors = ('#00005','#000025','#00015')    \n",
        "# colors*3 : repeats the tuple three times  "
      ],
      "metadata": {
        "id": "b9nuxIh1dvy_"
      }
    },
    {
      "cell_type": "markdown",
      "source": [
        "# We can store scientific constants, machine part numbers, set of basic medicines for a heart patient, components of a laptop make &model."
      ],
      "metadata": {
        "id": "EfTwx2nefQdo"
      }
    },
    {
      "cell_type": "code",
      "source": [
        "laptop_parts = ('cpu', 'ram','ssd', 'fan', 'sink', 'powersupply','gpu', 'keyboard', 'display' )\n",
        "print(laptop_parts)\n",
        "print(len(laptop_parts))"
      ],
      "metadata": {
        "colab": {
          "base_uri": "https://localhost:8080/",
          "height": 91
        },
        "id": "moobm7lqfoEY",
        "outputId": "a6502c9e-2542-4152-de4d-22b7a416d6c0"
      },
      "execution_count": null,
      "outputs": [
        {
          "output_type": "display_data",
          "data": {
            "text/plain": [
              "<IPython.core.display.Javascript object>"
            ],
            "application/javascript": [
              "\n",
              "  for (rule of document.styleSheets[0].cssRules){\n",
              "    if (rule.selectorText=='body') {\n",
              "      rule.style.fontSize = '30px'\n",
              "      rule.style.color = 'darkblue'\n",
              "      break\n",
              "    }\n",
              "  }\n",
              "  "
            ]
          },
          "metadata": {}
        },
        {
          "output_type": "stream",
          "name": "stdout",
          "text": [
            "('cpu', 'ram', 'ssd', 'fan', 'sink', 'powersupply', 'gpu', 'keyboard', 'display')\n",
            "9\n"
          ]
        }
      ]
    },
    {
      "cell_type": "markdown",
      "source": [
        "# Unlike Math, we can have multiple assignments on the LHS\n",
        "<font size = 12>\n",
        "Unlike Math, we can have multiple assignments on the LHS\n",
        "<br>\n",
        "$r_1, r_2 = 2*x + 3*x^{2} \\text {BIG NO}$"
      ],
      "metadata": {
        "id": "NdC0N6cege3U"
      }
    },
    {
      "cell_type": "code",
      "source": [
        "pt1, pt2, pt3, pt4 = laptop_parts[0:4]"
      ],
      "metadata": {
        "colab": {
          "base_uri": "https://localhost:8080/",
          "height": 54
        },
        "id": "UJmuUekTgn-0",
        "outputId": "4f21b3eb-7d7f-4a6b-97d0-8672c2e1d426"
      },
      "execution_count": null,
      "outputs": [
        {
          "output_type": "display_data",
          "data": {
            "text/plain": [
              "<IPython.core.display.Javascript object>"
            ],
            "application/javascript": [
              "\n",
              "  for (rule of document.styleSheets[0].cssRules){\n",
              "    if (rule.selectorText=='body') {\n",
              "      rule.style.fontSize = '30px'\n",
              "      rule.style.color = 'darkblue'\n",
              "      break\n",
              "    }\n",
              "  }\n",
              "  "
            ]
          },
          "metadata": {}
        },
        {
          "output_type": "execute_result",
          "data": {
            "text/plain": [
              "('cpu', 'ram', 'ssd', 'fan')"
            ]
          },
          "metadata": {},
          "execution_count": 25
        }
      ]
    },
    {
      "cell_type": "code",
      "source": [
        "## longer way of assignment while extracting:\n",
        "\n",
        "pt1 = laptop_parts[0]\n",
        "pt2 = laptop_parts[1]\n",
        "pt3 = laptop_parts[2]\n",
        "pt4 = laptop_parts[3]\n"
      ],
      "metadata": {
        "id": "IYGoegNLxQR2"
      },
      "execution_count": null,
      "outputs": []
    },
    {
      "cell_type": "code",
      "source": [
        "# shorter way of multiple assignment\n",
        "\n",
        "pt1, pt2, pt3, pt4 = laptop_parts[0:4]\n",
        "\n",
        "print(pt1)\n",
        "print(pt2)\n",
        "print(pt3)\n",
        "print(pt4)\n"
      ],
      "metadata": {
        "colab": {
          "base_uri": "https://localhost:8080/",
          "height": 166
        },
        "id": "rHrz7pLexSMV",
        "outputId": "86eacacd-7ffb-4a39-ab72-978ec8feb3dc"
      },
      "execution_count": null,
      "outputs": [
        {
          "output_type": "display_data",
          "data": {
            "text/plain": [
              "<IPython.core.display.Javascript object>"
            ],
            "application/javascript": [
              "\n",
              "  for (rule of document.styleSheets[0].cssRules){\n",
              "    if (rule.selectorText=='body') {\n",
              "      rule.style.fontSize = '30px'\n",
              "      rule.style.color = 'darkblue'\n",
              "      break\n",
              "    }\n",
              "  }\n",
              "  "
            ]
          },
          "metadata": {}
        },
        {
          "output_type": "stream",
          "name": "stdout",
          "text": [
            "cpu\n",
            "ram\n",
            "ssd\n",
            "fan\n"
          ]
        }
      ]
    },
    {
      "cell_type": "code",
      "source": [
        "laptop_parts[7:len(laptop_parts)]\n",
        "pt8, pt9 = laptop_parts[7:len(laptop_parts)] # len(laptop_parts) is 9\n",
        "pt8, pt9"
      ],
      "metadata": {
        "colab": {
          "base_uri": "https://localhost:8080/",
          "height": 54
        },
        "id": "iafYBkvChUPI",
        "outputId": "b63a5007-fcf2-45d0-fcb5-ba8731809c66"
      },
      "execution_count": null,
      "outputs": [
        {
          "output_type": "display_data",
          "data": {
            "text/plain": [
              "<IPython.core.display.Javascript object>"
            ],
            "application/javascript": [
              "\n",
              "  for (rule of document.styleSheets[0].cssRules){\n",
              "    if (rule.selectorText=='body') {\n",
              "      rule.style.fontSize = '30px'\n",
              "      rule.style.color = 'darkblue'\n",
              "      break\n",
              "    }\n",
              "  }\n",
              "  "
            ]
          },
          "metadata": {}
        },
        {
          "output_type": "execute_result",
          "data": {
            "text/plain": [
              "('keyboard', 'display')"
            ]
          },
          "metadata": {},
          "execution_count": 27
        }
      ]
    },
    {
      "cell_type": "markdown",
      "source": [
        "# We can exchange values thus:  "
      ],
      "metadata": {
        "id": "O0rlstAkjWYY"
      }
    },
    {
      "cell_type": "code",
      "source": [
        "pt8, pt9 = pt9, pt8\n",
        "pt8, pt9"
      ],
      "metadata": {
        "colab": {
          "base_uri": "https://localhost:8080/",
          "height": 54
        },
        "id": "JBIEfQfDi5jp",
        "outputId": "e3331bfb-7dc8-40e7-b883-a4506dd8d42f"
      },
      "execution_count": null,
      "outputs": [
        {
          "output_type": "display_data",
          "data": {
            "text/plain": [
              "<IPython.core.display.Javascript object>"
            ],
            "application/javascript": [
              "\n",
              "  for (rule of document.styleSheets[0].cssRules){\n",
              "    if (rule.selectorText=='body') {\n",
              "      rule.style.fontSize = '30px'\n",
              "      rule.style.color = 'darkblue'\n",
              "      break\n",
              "    }\n",
              "  }\n",
              "  "
            ]
          },
          "metadata": {}
        },
        {
          "output_type": "execute_result",
          "data": {
            "text/plain": [
              "('display', 'keyboard')"
            ]
          },
          "metadata": {},
          "execution_count": 29
        }
      ]
    },
    {
      "cell_type": "code",
      "source": [
        "lenovo_parts = ('AMD 78x90', 'crucial 3290z','WM 2Tws', 'Berg 900', 'AL 40s', 'Brita 30crpm','NVD GR90', 'Graze 019d', 'LE 17xLK' )"
      ],
      "metadata": {
        "id": "u0N7TB7ZjviP",
        "colab": {
          "base_uri": "https://localhost:8080/",
          "height": 352
        },
        "outputId": "07107a4e-f55a-45c1-e8d8-f0463723848f"
      },
      "execution_count": null,
      "outputs": [
        {
          "output_type": "display_data",
          "data": {
            "text/plain": [
              "<IPython.core.display.Javascript object>"
            ],
            "application/javascript": [
              "\n",
              "  for (rule of document.styleSheets[0].cssRules){\n",
              "    if (rule.selectorText=='body') {\n",
              "      rule.style.fontSize = '30px'\n",
              "      rule.style.color = 'darkblue'\n",
              "      break\n",
              "    }\n",
              "  }\n",
              "  "
            ]
          },
          "metadata": {}
        },
        {
          "output_type": "execute_result",
          "data": {
            "text/plain": [
              "('AMD 78x90',\n",
              " 'crucial 3290z',\n",
              " 'WM 2Tws',\n",
              " 'Berg 900',\n",
              " 'AL 40s',\n",
              " 'Brita 30crpm',\n",
              " 'NVD GR90',\n",
              " 'Graze 019d',\n",
              " 'LE 17xLK')"
            ]
          },
          "metadata": {},
          "execution_count": 31
        }
      ]
    },
    {
      "cell_type": "markdown",
      "source": [
        "# We can assign a few key values to specific vars and the remaining values can be assigned one var"
      ],
      "metadata": {
        "id": "7AI0Ap7EkovI"
      }
    },
    {
      "cell_type": "code",
      "source": [
        "cpu, ssd, *etc = lenovo_parts\n",
        "\n",
        "print(cpu)\n",
        "print(ssd )\n",
        "print(etc)\n",
        "type(cpu) # str\n",
        "type(ssd ) # str\n",
        "type(etc) # list"
      ],
      "metadata": {
        "colab": {
          "base_uri": "https://localhost:8080/",
          "height": 54
        },
        "id": "vogYAF5AlSYI",
        "outputId": "358c19d5-c1d0-435e-9a16-ff653faeae2e"
      },
      "execution_count": null,
      "outputs": [
        {
          "output_type": "display_data",
          "data": {
            "text/plain": [
              "<IPython.core.display.Javascript object>"
            ],
            "application/javascript": [
              "\n",
              "  for (rule of document.styleSheets[0].cssRules){\n",
              "    if (rule.selectorText=='body') {\n",
              "      rule.style.fontSize = '30px'\n",
              "      rule.style.color = 'darkblue'\n",
              "      break\n",
              "    }\n",
              "  }\n",
              "  "
            ]
          },
          "metadata": {}
        },
        {
          "output_type": "execute_result",
          "data": {
            "text/plain": [
              "list"
            ]
          },
          "metadata": {},
          "execution_count": 38
        }
      ]
    },
    {
      "cell_type": "markdown",
      "source": [
        "# Many pythonistas drop the remaining elements using an underscore"
      ],
      "metadata": {
        "id": "OYlPxlF0mKuu"
      }
    },
    {
      "cell_type": "code",
      "source": [
        "cpu_only, ssd_only, *_ = lenovo_parts # extract first two, dump the rest in a list `_` the underscore\n",
        "_ # a plain underscore retains the most recent value"
      ],
      "metadata": {
        "colab": {
          "base_uri": "https://localhost:8080/",
          "height": 237
        },
        "id": "MwNaoxTumHp2",
        "outputId": "48fac4b5-1bb9-4a12-d84c-71eee692c1e9"
      },
      "execution_count": null,
      "outputs": [
        {
          "output_type": "display_data",
          "data": {
            "text/plain": [
              "<IPython.core.display.Javascript object>"
            ],
            "application/javascript": [
              "\n",
              "  for (rule of document.styleSheets[0].cssRules){\n",
              "    if (rule.selectorText=='body') {\n",
              "      rule.style.fontSize = '25px'\n",
              "      rule.style.color = 'darkblue'\n",
              "      break\n",
              "    }\n",
              "  }\n",
              "  "
            ]
          },
          "metadata": {}
        },
        {
          "output_type": "execute_result",
          "data": {
            "text/plain": [
              "['WM 2Tws',\n",
              " 'Berg 900',\n",
              " 'AL 40s',\n",
              " 'Brita 30crpm',\n",
              " 'NVD GR90',\n",
              " 'Graze 019d',\n",
              " 'LE 17xLK']"
            ]
          },
          "metadata": {},
          "execution_count": 34
        }
      ]
    },
    {
      "cell_type": "markdown",
      "source": [
        "# Only a few methods are avaible for tuples as they are immutable. Of these `count()` helps us count number of times a string occurs in the tuple."
      ],
      "metadata": {
        "id": "ep7DqllHm0Ou"
      }
    },
    {
      "cell_type": "code",
      "source": [
        "laptop_parts.count('cpu')\n",
        "lenovo_parts.count('AL 40s')"
      ],
      "metadata": {
        "colab": {
          "base_uri": "https://localhost:8080/",
          "height": 54
        },
        "id": "VpuW5VAXm6Sn",
        "outputId": "7178da2e-ec03-4b0d-b5c3-0d13fd103221"
      },
      "execution_count": null,
      "outputs": [
        {
          "output_type": "display_data",
          "data": {
            "text/plain": [
              "<IPython.core.display.Javascript object>"
            ],
            "application/javascript": [
              "\n",
              "  for (rule of document.styleSheets[0].cssRules){\n",
              "    if (rule.selectorText=='body') {\n",
              "      rule.style.fontSize = '30px'\n",
              "      rule.style.color = 'darkblue'\n",
              "      break\n",
              "    }\n",
              "  }\n",
              "  "
            ]
          },
          "metadata": {}
        },
        {
          "output_type": "execute_result",
          "data": {
            "text/plain": [
              "1"
            ]
          },
          "metadata": {},
          "execution_count": 40
        }
      ]
    },
    {
      "cell_type": "markdown",
      "source": [
        "# `index()` helps locate a specific value"
      ],
      "metadata": {
        "id": "HhHPgs8UopOR"
      }
    },
    {
      "cell_type": "code",
      "source": [
        "laptop_parts.index('fan') # where does fan occur : index is 3, 4th position in the sequence"
      ],
      "metadata": {
        "colab": {
          "base_uri": "https://localhost:8080/",
          "height": 48
        },
        "id": "PNKweDooohXa",
        "outputId": "c8c3b24b-62d5-44ad-b15d-2cfb1b863115"
      },
      "execution_count": null,
      "outputs": [
        {
          "output_type": "display_data",
          "data": {
            "text/plain": [
              "<IPython.core.display.Javascript object>"
            ],
            "application/javascript": [
              "\n",
              "  for (rule of document.styleSheets[0].cssRules){\n",
              "    if (rule.selectorText=='body') {\n",
              "      rule.style.fontSize = '25px'\n",
              "      rule.style.color = 'darkblue'\n",
              "      break\n",
              "    }\n",
              "  }\n",
              "  "
            ]
          },
          "metadata": {}
        },
        {
          "output_type": "execute_result",
          "data": {
            "text/plain": [
              "3"
            ]
          },
          "metadata": {},
          "execution_count": 56
        }
      ]
    },
    {
      "cell_type": "code",
      "source": [
        "def increase_font():\n",
        "  from IPython.display import Javascript\n",
        "  display(Javascript('''\n",
        "  for (rule of document.styleSheets[0].cssRules){\n",
        "    if (rule.selectorText=='body') {\n",
        "      rule.style.fontSize = '25px'\n",
        "      rule.style.color = 'darkblue'\n",
        "      break\n",
        "    }\n",
        "  }\n",
        "  '''))\n",
        "increase_font()\n",
        "get_ipython().events.register('pre_run_cell', increase_font)\n",
        "print(\"Hello in \")\n",
        "print(\"...in larger font \")"
      ],
      "metadata": {
        "outputId": "57bedd41-8594-4d76-a56b-a99addd8682c",
        "colab": {
          "base_uri": "https://localhost:8080/",
          "height": 79
        },
        "id": "jRcL1i_xbpKQ"
      },
      "execution_count": null,
      "outputs": [
        {
          "output_type": "display_data",
          "data": {
            "text/plain": [
              "<IPython.core.display.Javascript object>"
            ],
            "application/javascript": [
              "\n",
              "  for (rule of document.styleSheets[0].cssRules){\n",
              "    if (rule.selectorText=='body') {\n",
              "      rule.style.fontSize = '25px'\n",
              "      rule.style.color = 'darkblue'\n",
              "      break\n",
              "    }\n",
              "  }\n",
              "  "
            ]
          },
          "metadata": {}
        },
        {
          "output_type": "display_data",
          "data": {
            "text/plain": [
              "<IPython.core.display.Javascript object>"
            ],
            "application/javascript": [
              "\n",
              "  for (rule of document.styleSheets[0].cssRules){\n",
              "    if (rule.selectorText=='body') {\n",
              "      rule.style.fontSize = '25px'\n",
              "      rule.style.color = 'darkblue'\n",
              "      break\n",
              "    }\n",
              "  }\n",
              "  "
            ]
          },
          "metadata": {}
        },
        {
          "output_type": "display_data",
          "data": {
            "text/plain": [
              "<IPython.core.display.Javascript object>"
            ],
            "application/javascript": [
              "\n",
              "  for (rule of document.styleSheets[0].cssRules){\n",
              "    if (rule.selectorText=='body') {\n",
              "      rule.style.fontSize = '25px'\n",
              "      rule.style.color = 'darkblue'\n",
              "      break\n",
              "    }\n",
              "  }\n",
              "  "
            ]
          },
          "metadata": {}
        },
        {
          "output_type": "stream",
          "name": "stdout",
          "text": [
            "Hello in \n",
            "...in larger font \n"
          ]
        }
      ]
    }
  ]
}