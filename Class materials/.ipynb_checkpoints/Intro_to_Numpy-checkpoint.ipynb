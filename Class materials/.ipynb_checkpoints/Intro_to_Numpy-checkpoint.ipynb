{
  "cells": [
    {
      "cell_type": "markdown",
      "metadata": {
        "id": "0Ku5WFsFrCId"
      },
      "source": [
        "#Array Library\n",
        "<font size = 11 face = leelawadee color = blue>\n",
        "# We will first briefly examine `array`.  We can import array module\n",
        "## For more info read the docs:<br>\n",
        "https://docs.python.org/3/library/array.html\n",
        "<br>\n",
        "# We can see it supports `int, float, str`\n",
        "<br>\n",
        "# The `array` module is a recent introduction in `Py 3.3`, whereas `numpy` is dates back to the very early days (NumPy: 1995, Py : 1991). Hence Numpy has been in use much longer and we find its application very widely. We will study Numpy in greater detail. However, we touch on `array` module briefly to create awareness.\n",
        "<br>\n",
        "# Array : What & Why  \n",
        "## What : same data type object in the entire sequence of values\n",
        "## Why :  Compact representation\n",
        "<br>\n",
        "`...compactly represent an array of basic values: characters, integers, floating point numbers. Arrays are sequence types and behave very much like lists, except that the type of objects stored in them is constrained. The type is specified at object creation time by using a type code..`\n",
        "<br>\n",
        "# Array Vs List<br>\n",
        "-- Difference in Data Types allowed : Array is Homogenous ; List : Heterogenous <br>\n",
        "-- Difference in Data Types allowed : Array is Fixed ; List : Mixed\n",
        "<br>\n",
        "# Same : Sequence, Values Allowed, Method of Access `[  ]`    "
      ]
    },
    {
      "cell_type": "code",
      "source": [],
      "metadata": {
        "id": "7GewhK1ZiQqB"
      },
      "execution_count": null,
      "outputs": []
    },
    {
      "cell_type": "code",
      "source": [
        "# @title\n",
        "def increase_font():\n",
        "  from IPython.display import Javascript\n",
        "  display(Javascript('''\n",
        "  for (rule of document.styleSheets[0].cssRules){\n",
        "    if (rule.selectorText=='body') {\n",
        "      rule.style.fontSize = '40px'\n",
        "      rule.style.color = 'darkblue'\n",
        "      break\n",
        "    }\n",
        "  }\n",
        "  '''))\n",
        "increase_font()\n",
        "get_ipython().events.register('pre_run_cell', increase_font)\n",
        "print(\"Hello in \")\n",
        "print(\"...in larger font \")"
      ],
      "metadata": {
        "outputId": "57af33c4-0787-41a7-cffa-2d63adfbc76a",
        "colab": {
          "base_uri": "https://localhost:8080/",
          "height": 118
        },
        "id": "u1VTt_uMBIex",
        "cellView": "form"
      },
      "execution_count": 50,
      "outputs": [
        {
          "output_type": "display_data",
          "data": {
            "text/plain": [
              "<IPython.core.display.Javascript object>"
            ],
            "application/javascript": [
              "\n",
              "  for (rule of document.styleSheets[0].cssRules){\n",
              "    if (rule.selectorText=='body') {\n",
              "      rule.style.fontSize = '25px'\n",
              "      rule.style.color = 'darkblue'\n",
              "      break\n",
              "    }\n",
              "  }\n",
              "  "
            ]
          },
          "metadata": {}
        },
        {
          "output_type": "display_data",
          "data": {
            "text/plain": [
              "<IPython.core.display.Javascript object>"
            ],
            "application/javascript": [
              "\n",
              "  for (rule of document.styleSheets[0].cssRules){\n",
              "    if (rule.selectorText=='body') {\n",
              "      rule.style.fontSize = '30px'\n",
              "      rule.style.color = 'darkblue'\n",
              "      break\n",
              "    }\n",
              "  }\n",
              "  "
            ]
          },
          "metadata": {}
        },
        {
          "output_type": "display_data",
          "data": {
            "text/plain": [
              "<IPython.core.display.Javascript object>"
            ],
            "application/javascript": [
              "\n",
              "  for (rule of document.styleSheets[0].cssRules){\n",
              "    if (rule.selectorText=='body') {\n",
              "      rule.style.fontSize = '40px'\n",
              "      rule.style.color = 'darkblue'\n",
              "      break\n",
              "    }\n",
              "  }\n",
              "  "
            ]
          },
          "metadata": {}
        },
        {
          "output_type": "stream",
          "name": "stdout",
          "text": [
            "Hello in \n",
            "...in larger font \n"
          ]
        }
      ]
    },
    {
      "cell_type": "markdown",
      "metadata": {
        "id": "bYW-ijC90eD9"
      },
      "source": [
        "|module|method|argument|\n",
        "|--|--|--|\n",
        "|array|array|(nums)|"
      ]
    },
    {
      "cell_type": "code",
      "execution_count": 13,
      "metadata": {
        "id": "9ckGt5yN1LC-"
      },
      "outputs": [],
      "source": [
        "import array"
      ]
    },
    {
      "cell_type": "code",
      "execution_count": 63,
      "metadata": {
        "colab": {
          "base_uri": "https://localhost:8080/",
          "height": 67
        },
        "id": "3hX58Ygv1TKH",
        "outputId": "116df123-dc4d-4047-b2f0-85e81cabc546"
      },
      "outputs": [
        {
          "output_type": "display_data",
          "data": {
            "text/plain": [
              "<IPython.core.display.Javascript object>"
            ],
            "application/javascript": [
              "\n",
              "  for (rule of document.styleSheets[0].cssRules){\n",
              "    if (rule.selectorText=='body') {\n",
              "      rule.style.fontSize = '25px'\n",
              "      rule.style.color = 'darkblue'\n",
              "      break\n",
              "    }\n",
              "  }\n",
              "  "
            ]
          },
          "metadata": {}
        },
        {
          "output_type": "display_data",
          "data": {
            "text/plain": [
              "<IPython.core.display.Javascript object>"
            ],
            "application/javascript": [
              "\n",
              "  for (rule of document.styleSheets[0].cssRules){\n",
              "    if (rule.selectorText=='body') {\n",
              "      rule.style.fontSize = '30px'\n",
              "      rule.style.color = 'darkblue'\n",
              "      break\n",
              "    }\n",
              "  }\n",
              "  "
            ]
          },
          "metadata": {}
        },
        {
          "output_type": "display_data",
          "data": {
            "text/plain": [
              "<IPython.core.display.Javascript object>"
            ],
            "application/javascript": [
              "\n",
              "  for (rule of document.styleSheets[0].cssRules){\n",
              "    if (rule.selectorText=='body') {\n",
              "      rule.style.fontSize = '40px'\n",
              "      rule.style.color = 'darkblue'\n",
              "      break\n",
              "    }\n",
              "  }\n",
              "  "
            ]
          },
          "metadata": {}
        },
        {
          "output_type": "execute_result",
          "data": {
            "text/plain": [
              "array('i', [0, 1, 2, 3, 4, 5, 6, 7, 8, 9])"
            ]
          },
          "metadata": {},
          "execution_count": 63
        }
      ],
      "source": [
        "nums = list(range(0, 10))\n",
        "# nums = list(range(100, 600, 100))\n",
        "nums # has only ints\n",
        "nums_arr_1 = array.array('i', nums) # note typecode `i` is used\n",
        "nums_arr_1"
      ]
    },
    {
      "cell_type": "markdown",
      "metadata": {
        "id": "9Pq6TWobrAbv"
      },
      "source": [
        "# When we insert a `float` into a `int` list and then passed to\n",
        "# `array.array('f', nums )` the `int`s in that list will get assigned `float`"
      ]
    },
    {
      "cell_type": "code",
      "execution_count": 75,
      "metadata": {
        "colab": {
          "base_uri": "https://localhost:8080/",
          "height": 67
        },
        "id": "BLXHgda933uV",
        "outputId": "54e68ad7-4cee-4b5a-d341-9423b05a210a"
      },
      "outputs": [
        {
          "output_type": "display_data",
          "data": {
            "text/plain": [
              "<IPython.core.display.Javascript object>"
            ],
            "application/javascript": [
              "\n",
              "  for (rule of document.styleSheets[0].cssRules){\n",
              "    if (rule.selectorText=='body') {\n",
              "      rule.style.fontSize = '25px'\n",
              "      rule.style.color = 'darkblue'\n",
              "      break\n",
              "    }\n",
              "  }\n",
              "  "
            ]
          },
          "metadata": {}
        },
        {
          "output_type": "display_data",
          "data": {
            "text/plain": [
              "<IPython.core.display.Javascript object>"
            ],
            "application/javascript": [
              "\n",
              "  for (rule of document.styleSheets[0].cssRules){\n",
              "    if (rule.selectorText=='body') {\n",
              "      rule.style.fontSize = '30px'\n",
              "      rule.style.color = 'darkblue'\n",
              "      break\n",
              "    }\n",
              "  }\n",
              "  "
            ]
          },
          "metadata": {}
        },
        {
          "output_type": "display_data",
          "data": {
            "text/plain": [
              "<IPython.core.display.Javascript object>"
            ],
            "application/javascript": [
              "\n",
              "  for (rule of document.styleSheets[0].cssRules){\n",
              "    if (rule.selectorText=='body') {\n",
              "      rule.style.fontSize = '40px'\n",
              "      rule.style.color = 'darkblue'\n",
              "      break\n",
              "    }\n",
              "  }\n",
              "  "
            ]
          },
          "metadata": {}
        },
        {
          "output_type": "execute_result",
          "data": {
            "text/plain": [
              "float"
            ]
          },
          "metadata": {},
          "execution_count": 75
        }
      ],
      "source": [
        "# @title\n",
        "nums.insert(5, 6.7)\n",
        "nums\n",
        "nums[5]\n",
        "nums_arr = array.array('f', nums) # note typecode `f` is used\n",
        "# nums_arr = array.array('i', nums) # throws error\n",
        "nums_arr\n",
        "nums_arr[5] # note how `6.7` appears because of internal representation\n",
        "type(nums_arr[0]) # float\n",
        "type(nums[0]) # int\n",
        "# mean(nums) # int\n"
      ]
    },
    {
      "cell_type": "code",
      "execution_count": 80,
      "metadata": {
        "id": "94Md8jVeEpzq",
        "colab": {
          "base_uri": "https://localhost:8080/",
          "height": 17
        },
        "outputId": "41ce3367-1e77-4a7b-8171-9e4ce87224f9"
      },
      "outputs": [
        {
          "output_type": "display_data",
          "data": {
            "text/plain": [
              "<IPython.core.display.Javascript object>"
            ],
            "application/javascript": [
              "\n",
              "  for (rule of document.styleSheets[0].cssRules){\n",
              "    if (rule.selectorText=='body') {\n",
              "      rule.style.fontSize = '25px'\n",
              "      rule.style.color = 'darkblue'\n",
              "      break\n",
              "    }\n",
              "  }\n",
              "  "
            ]
          },
          "metadata": {}
        },
        {
          "output_type": "display_data",
          "data": {
            "text/plain": [
              "<IPython.core.display.Javascript object>"
            ],
            "application/javascript": [
              "\n",
              "  for (rule of document.styleSheets[0].cssRules){\n",
              "    if (rule.selectorText=='body') {\n",
              "      rule.style.fontSize = '30px'\n",
              "      rule.style.color = 'darkblue'\n",
              "      break\n",
              "    }\n",
              "  }\n",
              "  "
            ]
          },
          "metadata": {}
        },
        {
          "output_type": "display_data",
          "data": {
            "text/plain": [
              "<IPython.core.display.Javascript object>"
            ],
            "application/javascript": [
              "\n",
              "  for (rule of document.styleSheets[0].cssRules){\n",
              "    if (rule.selectorText=='body') {\n",
              "      rule.style.fontSize = '40px'\n",
              "      rule.style.color = 'darkblue'\n",
              "      break\n",
              "    }\n",
              "  }\n",
              "  "
            ]
          },
          "metadata": {}
        }
      ],
      "source": [
        "# print(f'The array of values was \\n: {nums}\\n with mean of {nums.mean}' )\n",
        "# print(f'The array of values was \\n: {nums}\\n with mean of {mean(nums)}' )"
      ]
    },
    {
      "cell_type": "markdown",
      "metadata": {
        "id": "tFwm1i7pde-Z"
      },
      "source": [
        "## Next we move to strings that are defined as `u` for `unicode`.\n",
        "## `unicode` is for Universal Character Encoding\n",
        "\n",
        "## Unicode provides a unique number for every character,\n",
        "  - no matter what the platform,\n",
        "  - no matter what the program,\n",
        "  - no matter what the language.\n",
        "\n",
        "You can read up what is unicode\n",
        "https://unicode.org/standard/WhatIsUnicode.html\n"
      ]
    },
    {
      "cell_type": "code",
      "execution_count": 17,
      "metadata": {
        "colab": {
          "base_uri": "https://localhost:8080/",
          "height": 36
        },
        "id": "_8IWM64xrmCn",
        "outputId": "a835f3ac-9f63-49df-9ac2-9467e7a43d89"
      },
      "outputs": [
        {
          "output_type": "execute_result",
          "data": {
            "text/plain": [
              "'n'"
            ],
            "application/vnd.google.colaboratory.intrinsic+json": {
              "type": "string"
            }
          },
          "metadata": {},
          "execution_count": 17
        }
      ],
      "source": [
        "letters = ['e','l','e','p','h','a','n','t'] # create a list of strings\n",
        "# letters = ['e','l','e','p','h','a','?','t'] # include symbols also\n",
        "letters\n",
        "letter_arr = array.array('u', letters) # # note typecode `u` for unicode is used;\n",
        "# on purpose added `_arr` to show obj type and remind ourselves as a beginner\n",
        "letter_arr\n",
        "letter_arr[3] # p\n",
        "letter_arr[6] #"
      ]
    },
    {
      "cell_type": "code",
      "execution_count": 18,
      "metadata": {
        "colab": {
          "base_uri": "https://localhost:8080/"
        },
        "id": "BSPxbj2pzx0D",
        "outputId": "6c02389c-bef9-42da-d5a2-b7d88f1ac544"
      },
      "outputs": [
        {
          "output_type": "execute_result",
          "data": {
            "text/plain": [
              "array('u', 'py#')"
            ]
          },
          "metadata": {},
          "execution_count": 18
        }
      ],
      "source": [
        "pure_str_list = ['p', 'y' ] # str only\n",
        "str_symb_list = ['p', 'y', '#' ] # with symbol in quotes also works\n",
        "array.array('u', pure_str_list) # works as each char has unicode representation\n",
        "array.array('u', str_symb_list) # works as each char has unicode representation"
      ]
    },
    {
      "cell_type": "markdown",
      "metadata": {
        "id": "HPMtiddKcST2"
      },
      "source": [
        "## But some small surprises are there : if an `int` is passed as a string literal (ie, a number in quotes). Here unicodes for numbers exist from 0 to 9."
      ]
    },
    {
      "cell_type": "code",
      "execution_count": 19,
      "metadata": {
        "colab": {
          "base_uri": "https://localhost:8080/"
        },
        "id": "coWqWL93cP9G",
        "outputId": "d23ea775-81a2-47f2-ca48-b93047ca310a"
      },
      "outputs": [
        {
          "output_type": "stream",
          "name": "stdout",
          "text": [
            "array('u', 'p0')\n",
            "array('u', 'p9')\n"
          ]
        }
      ],
      "source": [
        "mixed_list_zero = ['p', '0' ] #  works as '0' has a unicode representation (rep)\n",
        "mixed_list_nine = ['p', '9' ] #  try this also : it works as '9' has a unicode rep\n",
        "print(array.array('u', mixed_list_zero))\n",
        "print(array.array('u', mixed_list_nine))"
      ]
    },
    {
      "cell_type": "code",
      "execution_count": 20,
      "metadata": {
        "id": "wrfda09bdQTw"
      },
      "outputs": [],
      "source": [
        "# mixed_list_10 = ['p', '10' ] #  error as '10' has no unicode rep\n",
        "# array.array('u', mixed_list_10)"
      ]
    },
    {
      "cell_type": "code",
      "source": [
        "mixed_list = ['p', '1','0' ] #  works\n",
        "array.array('u', mixed_list)"
      ],
      "metadata": {
        "colab": {
          "base_uri": "https://localhost:8080/"
        },
        "id": "TSPCoVwzPvg8",
        "outputId": "acf08742-d675-4652-d43c-bb1cfe4ef116"
      },
      "execution_count": 21,
      "outputs": [
        {
          "output_type": "execute_result",
          "data": {
            "text/plain": [
              "array('u', 'p10')"
            ]
          },
          "metadata": {},
          "execution_count": 21
        }
      ]
    },
    {
      "cell_type": "markdown",
      "metadata": {
        "id": "K6egHoOO9L86"
      },
      "source": [
        "# Below we see what will not work to help you avoid errors\n",
        "## Mixed List (ie Mixed Data Types) can't be converted to arrays"
      ]
    },
    {
      "cell_type": "code",
      "execution_count": 22,
      "metadata": {
        "id": "wtQZjA-f1La7"
      },
      "outputs": [],
      "source": [
        "# mixed_list_1 = ['p', 1991 ] # error\n",
        "# mixed_list_2 = ['p', '1991'] # error\n",
        "# array.array('u', mixed_list_1)\n",
        "# array.array('u', mixed_list_2)\n"
      ]
    },
    {
      "cell_type": "code",
      "execution_count": 23,
      "metadata": {
        "id": "_tYaqII59u6N",
        "colab": {
          "base_uri": "https://localhost:8080/",
          "height": 219
        },
        "outputId": "10c555de-6dc3-47d8-ba8e-ceb2009c6ff0"
      },
      "outputs": [
        {
          "output_type": "error",
          "ename": "TypeError",
          "evalue": "array item must be unicode character",
          "traceback": [
            "\u001b[0;31m---------------------------------------------------------------------------\u001b[0m",
            "\u001b[0;31mTypeError\u001b[0m                                 Traceback (most recent call last)",
            "\u001b[0;32m/tmp/ipython-input-3406934988.py\u001b[0m in \u001b[0;36m<cell line: 0>\u001b[0;34m()\u001b[0m\n\u001b[1;32m      1\u001b[0m \u001b[0mmixed_list_3\u001b[0m \u001b[0;34m=\u001b[0m \u001b[0;34m[\u001b[0m\u001b[0;34m'p'\u001b[0m\u001b[0;34m,\u001b[0m \u001b[0;34m'y'\u001b[0m\u001b[0;34m,\u001b[0m \u001b[0;34m'thon'\u001b[0m \u001b[0;34m]\u001b[0m \u001b[0;31m# error as `thon` doesnt have unicode rep\u001b[0m\u001b[0;34m\u001b[0m\u001b[0;34m\u001b[0m\u001b[0m\n\u001b[0;32m----> 2\u001b[0;31m \u001b[0marray\u001b[0m\u001b[0;34m.\u001b[0m\u001b[0marray\u001b[0m\u001b[0;34m(\u001b[0m\u001b[0;34m'u'\u001b[0m\u001b[0;34m,\u001b[0m \u001b[0mmixed_list_3\u001b[0m\u001b[0;34m)\u001b[0m\u001b[0;34m\u001b[0m\u001b[0;34m\u001b[0m\u001b[0m\n\u001b[0m\u001b[1;32m      3\u001b[0m \u001b[0;34m\u001b[0m\u001b[0m\n\u001b[1;32m      4\u001b[0m \u001b[0mmore_mixed_list_4\u001b[0m \u001b[0;34m=\u001b[0m \u001b[0;34m[\u001b[0m\u001b[0;34m'p'\u001b[0m\u001b[0;34m,\u001b[0m \u001b[0;34m'91'\u001b[0m\u001b[0;34m,\u001b[0m \u001b[0;32mTrue\u001b[0m\u001b[0;34m]\u001b[0m \u001b[0;31m# error as `True` doesnt have unicode rep\u001b[0m\u001b[0;34m\u001b[0m\u001b[0;34m\u001b[0m\u001b[0m\n\u001b[1;32m      5\u001b[0m \u001b[0marray\u001b[0m\u001b[0;34m.\u001b[0m\u001b[0marray\u001b[0m\u001b[0;34m(\u001b[0m\u001b[0;34m'u'\u001b[0m\u001b[0;34m,\u001b[0m \u001b[0mmore_mixed_list_4\u001b[0m\u001b[0;34m)\u001b[0m\u001b[0;34m\u001b[0m\u001b[0;34m\u001b[0m\u001b[0m\n",
            "\u001b[0;31mTypeError\u001b[0m: array item must be unicode character"
          ]
        }
      ],
      "source": [
        "mixed_list_3 = ['p', 'y', 'thon' ] # error as `thon` doesnt have unicode rep\n",
        "array.array('u', mixed_list_3)\n",
        "\n",
        "more_mixed_list_4 = ['p', '91', True] # error as `True` doesnt have unicode rep\n",
        "array.array('u', more_mixed_list_4)\n"
      ]
    },
    {
      "cell_type": "code",
      "execution_count": null,
      "metadata": {
        "id": "BVHWMvflrFAB"
      },
      "outputs": [],
      "source": [
        "import numpy as np # np is alias"
      ]
    },
    {
      "cell_type": "markdown",
      "metadata": {
        "id": "uXlN1076rWxm"
      },
      "source": [
        "## NUMPY Arrays\n",
        "<font size = 18>\n",
        "np.array([5,6,7,8]) # a list is passed as an argument of np.array(  ) method <br>\n",
        "All are integers : same data type    <br>\n",
        "All can be floats also\n",
        "</font\n",
        "We can have an array of all strings"
      ]
    },
    {
      "cell_type": "code",
      "execution_count": 82,
      "metadata": {
        "id": "D4iayFg_rZjQ",
        "colab": {
          "base_uri": "https://localhost:8080/",
          "height": 67
        },
        "outputId": "0f9b68e9-ade7-4c66-b0df-5bf9436dbc0d"
      },
      "outputs": [
        {
          "output_type": "display_data",
          "data": {
            "text/plain": [
              "<IPython.core.display.Javascript object>"
            ],
            "application/javascript": [
              "\n",
              "  for (rule of document.styleSheets[0].cssRules){\n",
              "    if (rule.selectorText=='body') {\n",
              "      rule.style.fontSize = '25px'\n",
              "      rule.style.color = 'darkblue'\n",
              "      break\n",
              "    }\n",
              "  }\n",
              "  "
            ]
          },
          "metadata": {}
        },
        {
          "output_type": "display_data",
          "data": {
            "text/plain": [
              "<IPython.core.display.Javascript object>"
            ],
            "application/javascript": [
              "\n",
              "  for (rule of document.styleSheets[0].cssRules){\n",
              "    if (rule.selectorText=='body') {\n",
              "      rule.style.fontSize = '30px'\n",
              "      rule.style.color = 'darkblue'\n",
              "      break\n",
              "    }\n",
              "  }\n",
              "  "
            ]
          },
          "metadata": {}
        },
        {
          "output_type": "display_data",
          "data": {
            "text/plain": [
              "<IPython.core.display.Javascript object>"
            ],
            "application/javascript": [
              "\n",
              "  for (rule of document.styleSheets[0].cssRules){\n",
              "    if (rule.selectorText=='body') {\n",
              "      rule.style.fontSize = '40px'\n",
              "      rule.style.color = 'darkblue'\n",
              "      break\n",
              "    }\n",
              "  }\n",
              "  "
            ]
          },
          "metadata": {}
        },
        {
          "output_type": "execute_result",
          "data": {
            "text/plain": [
              "array([5, 6, 7, 8])"
            ]
          },
          "metadata": {},
          "execution_count": 82
        }
      ],
      "source": [
        "import numpy as np\n",
        "np.array([5, 6, 7, 8]) # a list as an argument of np.array( ) method\n",
        "np.array((5, 6, 7, 8)) # a tuple as an argument of np.array( ) method\n",
        "# np.array(5, 6, 7, 8) # a tuple as an argument of np.array( ) method"
      ]
    },
    {
      "cell_type": "code",
      "execution_count": 86,
      "metadata": {
        "id": "TkvJz4q7rYQO",
        "colab": {
          "base_uri": "https://localhost:8080/",
          "height": 67
        },
        "outputId": "a40ce70c-b511-4865-bf71-0cbe5060773b"
      },
      "outputs": [
        {
          "output_type": "display_data",
          "data": {
            "text/plain": [
              "<IPython.core.display.Javascript object>"
            ],
            "application/javascript": [
              "\n",
              "  for (rule of document.styleSheets[0].cssRules){\n",
              "    if (rule.selectorText=='body') {\n",
              "      rule.style.fontSize = '25px'\n",
              "      rule.style.color = 'darkblue'\n",
              "      break\n",
              "    }\n",
              "  }\n",
              "  "
            ]
          },
          "metadata": {}
        },
        {
          "output_type": "display_data",
          "data": {
            "text/plain": [
              "<IPython.core.display.Javascript object>"
            ],
            "application/javascript": [
              "\n",
              "  for (rule of document.styleSheets[0].cssRules){\n",
              "    if (rule.selectorText=='body') {\n",
              "      rule.style.fontSize = '30px'\n",
              "      rule.style.color = 'darkblue'\n",
              "      break\n",
              "    }\n",
              "  }\n",
              "  "
            ]
          },
          "metadata": {}
        },
        {
          "output_type": "display_data",
          "data": {
            "text/plain": [
              "<IPython.core.display.Javascript object>"
            ],
            "application/javascript": [
              "\n",
              "  for (rule of document.styleSheets[0].cssRules){\n",
              "    if (rule.selectorText=='body') {\n",
              "      rule.style.fontSize = '40px'\n",
              "      rule.style.color = 'darkblue'\n",
              "      break\n",
              "    }\n",
              "  }\n",
              "  "
            ]
          },
          "metadata": {}
        },
        {
          "output_type": "execute_result",
          "data": {
            "text/plain": [
              "[9, 8, 4, 5]"
            ]
          },
          "metadata": {},
          "execution_count": 86
        }
      ],
      "source": [
        "my_lst = [9, 8, 4, 5]\n",
        "sorted(my_lst) # temp sorted\n",
        "my_lst # no change"
      ]
    },
    {
      "cell_type": "code",
      "execution_count": 87,
      "metadata": {
        "id": "C8-uSEJCA3v2",
        "colab": {
          "base_uri": "https://localhost:8080/",
          "height": 67
        },
        "outputId": "6ee7f91f-fe17-4b1e-f807-7c5218404742"
      },
      "outputs": [
        {
          "output_type": "display_data",
          "data": {
            "text/plain": [
              "<IPython.core.display.Javascript object>"
            ],
            "application/javascript": [
              "\n",
              "  for (rule of document.styleSheets[0].cssRules){\n",
              "    if (rule.selectorText=='body') {\n",
              "      rule.style.fontSize = '25px'\n",
              "      rule.style.color = 'darkblue'\n",
              "      break\n",
              "    }\n",
              "  }\n",
              "  "
            ]
          },
          "metadata": {}
        },
        {
          "output_type": "display_data",
          "data": {
            "text/plain": [
              "<IPython.core.display.Javascript object>"
            ],
            "application/javascript": [
              "\n",
              "  for (rule of document.styleSheets[0].cssRules){\n",
              "    if (rule.selectorText=='body') {\n",
              "      rule.style.fontSize = '30px'\n",
              "      rule.style.color = 'darkblue'\n",
              "      break\n",
              "    }\n",
              "  }\n",
              "  "
            ]
          },
          "metadata": {}
        },
        {
          "output_type": "display_data",
          "data": {
            "text/plain": [
              "<IPython.core.display.Javascript object>"
            ],
            "application/javascript": [
              "\n",
              "  for (rule of document.styleSheets[0].cssRules){\n",
              "    if (rule.selectorText=='body') {\n",
              "      rule.style.fontSize = '40px'\n",
              "      rule.style.color = 'darkblue'\n",
              "      break\n",
              "    }\n",
              "  }\n",
              "  "
            ]
          },
          "metadata": {}
        },
        {
          "output_type": "execute_result",
          "data": {
            "text/plain": [
              "[4, 5, 8, 9]"
            ]
          },
          "metadata": {},
          "execution_count": 87
        }
      ],
      "source": [
        "my_lst.sort() # permanent sort in place\n",
        "my_lst # now my_list is sorted in-place"
      ]
    },
    {
      "cell_type": "code",
      "source": [
        "my_lst.reverse()\n",
        "my_lst # reverse order in place\n"
      ],
      "metadata": {
        "id": "SJD6f6SIKm8L",
        "colab": {
          "base_uri": "https://localhost:8080/",
          "height": 67
        },
        "outputId": "9d1c8279-3a1d-4a76-da1d-eab693d2158c"
      },
      "execution_count": 88,
      "outputs": [
        {
          "output_type": "display_data",
          "data": {
            "text/plain": [
              "<IPython.core.display.Javascript object>"
            ],
            "application/javascript": [
              "\n",
              "  for (rule of document.styleSheets[0].cssRules){\n",
              "    if (rule.selectorText=='body') {\n",
              "      rule.style.fontSize = '25px'\n",
              "      rule.style.color = 'darkblue'\n",
              "      break\n",
              "    }\n",
              "  }\n",
              "  "
            ]
          },
          "metadata": {}
        },
        {
          "output_type": "display_data",
          "data": {
            "text/plain": [
              "<IPython.core.display.Javascript object>"
            ],
            "application/javascript": [
              "\n",
              "  for (rule of document.styleSheets[0].cssRules){\n",
              "    if (rule.selectorText=='body') {\n",
              "      rule.style.fontSize = '30px'\n",
              "      rule.style.color = 'darkblue'\n",
              "      break\n",
              "    }\n",
              "  }\n",
              "  "
            ]
          },
          "metadata": {}
        },
        {
          "output_type": "display_data",
          "data": {
            "text/plain": [
              "<IPython.core.display.Javascript object>"
            ],
            "application/javascript": [
              "\n",
              "  for (rule of document.styleSheets[0].cssRules){\n",
              "    if (rule.selectorText=='body') {\n",
              "      rule.style.fontSize = '40px'\n",
              "      rule.style.color = 'darkblue'\n",
              "      break\n",
              "    }\n",
              "  }\n",
              "  "
            ]
          },
          "metadata": {}
        },
        {
          "output_type": "execute_result",
          "data": {
            "text/plain": [
              "[9, 8, 5, 4]"
            ]
          },
          "metadata": {},
          "execution_count": 88
        }
      ]
    },
    {
      "cell_type": "code",
      "source": [
        "np.array(my_lst) # a list as an argument of np.array( ) method; returned / output object is an array"
      ],
      "metadata": {
        "id": "nji_XXaVK66p",
        "colab": {
          "base_uri": "https://localhost:8080/",
          "height": 67
        },
        "outputId": "49bd834a-03f5-4a3c-8168-9dc121d0b2e9"
      },
      "execution_count": 89,
      "outputs": [
        {
          "output_type": "display_data",
          "data": {
            "text/plain": [
              "<IPython.core.display.Javascript object>"
            ],
            "application/javascript": [
              "\n",
              "  for (rule of document.styleSheets[0].cssRules){\n",
              "    if (rule.selectorText=='body') {\n",
              "      rule.style.fontSize = '25px'\n",
              "      rule.style.color = 'darkblue'\n",
              "      break\n",
              "    }\n",
              "  }\n",
              "  "
            ]
          },
          "metadata": {}
        },
        {
          "output_type": "display_data",
          "data": {
            "text/plain": [
              "<IPython.core.display.Javascript object>"
            ],
            "application/javascript": [
              "\n",
              "  for (rule of document.styleSheets[0].cssRules){\n",
              "    if (rule.selectorText=='body') {\n",
              "      rule.style.fontSize = '30px'\n",
              "      rule.style.color = 'darkblue'\n",
              "      break\n",
              "    }\n",
              "  }\n",
              "  "
            ]
          },
          "metadata": {}
        },
        {
          "output_type": "display_data",
          "data": {
            "text/plain": [
              "<IPython.core.display.Javascript object>"
            ],
            "application/javascript": [
              "\n",
              "  for (rule of document.styleSheets[0].cssRules){\n",
              "    if (rule.selectorText=='body') {\n",
              "      rule.style.fontSize = '40px'\n",
              "      rule.style.color = 'darkblue'\n",
              "      break\n",
              "    }\n",
              "  }\n",
              "  "
            ]
          },
          "metadata": {}
        },
        {
          "output_type": "execute_result",
          "data": {
            "text/plain": [
              "array([9, 8, 5, 4])"
            ]
          },
          "metadata": {},
          "execution_count": 89
        }
      ]
    },
    {
      "cell_type": "markdown",
      "metadata": {
        "id": "BuqVEnZ22gOi"
      },
      "source": [
        "## Having just one `float` among several `int`s promotes the array to `float`."
      ]
    },
    {
      "cell_type": "code",
      "execution_count": 90,
      "metadata": {
        "id": "H_Kaop_F0NX7",
        "colab": {
          "base_uri": "https://localhost:8080/",
          "height": 67
        },
        "outputId": "9151fc9d-e2b7-4c91-8602-c8292381199f"
      },
      "outputs": [
        {
          "output_type": "display_data",
          "data": {
            "text/plain": [
              "<IPython.core.display.Javascript object>"
            ],
            "application/javascript": [
              "\n",
              "  for (rule of document.styleSheets[0].cssRules){\n",
              "    if (rule.selectorText=='body') {\n",
              "      rule.style.fontSize = '25px'\n",
              "      rule.style.color = 'darkblue'\n",
              "      break\n",
              "    }\n",
              "  }\n",
              "  "
            ]
          },
          "metadata": {}
        },
        {
          "output_type": "display_data",
          "data": {
            "text/plain": [
              "<IPython.core.display.Javascript object>"
            ],
            "application/javascript": [
              "\n",
              "  for (rule of document.styleSheets[0].cssRules){\n",
              "    if (rule.selectorText=='body') {\n",
              "      rule.style.fontSize = '30px'\n",
              "      rule.style.color = 'darkblue'\n",
              "      break\n",
              "    }\n",
              "  }\n",
              "  "
            ]
          },
          "metadata": {}
        },
        {
          "output_type": "display_data",
          "data": {
            "text/plain": [
              "<IPython.core.display.Javascript object>"
            ],
            "application/javascript": [
              "\n",
              "  for (rule of document.styleSheets[0].cssRules){\n",
              "    if (rule.selectorText=='body') {\n",
              "      rule.style.fontSize = '40px'\n",
              "      rule.style.color = 'darkblue'\n",
              "      break\n",
              "    }\n",
              "  }\n",
              "  "
            ]
          },
          "metadata": {}
        },
        {
          "output_type": "execute_result",
          "data": {
            "text/plain": [
              "array([5. , 6.9, 7. , 8. ])"
            ]
          },
          "metadata": {},
          "execution_count": 90
        }
      ],
      "source": [
        "np.array([5, 6.9, 7, 8]) # one float converts all int as floats : type promotion"
      ]
    },
    {
      "cell_type": "code",
      "execution_count": 91,
      "metadata": {
        "id": "OgSZaIOO0OEx",
        "colab": {
          "base_uri": "https://localhost:8080/",
          "height": 67
        },
        "outputId": "854343b6-207d-4afe-a0bd-18321f4f56ae"
      },
      "outputs": [
        {
          "output_type": "display_data",
          "data": {
            "text/plain": [
              "<IPython.core.display.Javascript object>"
            ],
            "application/javascript": [
              "\n",
              "  for (rule of document.styleSheets[0].cssRules){\n",
              "    if (rule.selectorText=='body') {\n",
              "      rule.style.fontSize = '25px'\n",
              "      rule.style.color = 'darkblue'\n",
              "      break\n",
              "    }\n",
              "  }\n",
              "  "
            ]
          },
          "metadata": {}
        },
        {
          "output_type": "display_data",
          "data": {
            "text/plain": [
              "<IPython.core.display.Javascript object>"
            ],
            "application/javascript": [
              "\n",
              "  for (rule of document.styleSheets[0].cssRules){\n",
              "    if (rule.selectorText=='body') {\n",
              "      rule.style.fontSize = '30px'\n",
              "      rule.style.color = 'darkblue'\n",
              "      break\n",
              "    }\n",
              "  }\n",
              "  "
            ]
          },
          "metadata": {}
        },
        {
          "output_type": "display_data",
          "data": {
            "text/plain": [
              "<IPython.core.display.Javascript object>"
            ],
            "application/javascript": [
              "\n",
              "  for (rule of document.styleSheets[0].cssRules){\n",
              "    if (rule.selectorText=='body') {\n",
              "      rule.style.fontSize = '40px'\n",
              "      rule.style.color = 'darkblue'\n",
              "      break\n",
              "    }\n",
              "  }\n",
              "  "
            ]
          },
          "metadata": {}
        },
        {
          "output_type": "execute_result",
          "data": {
            "text/plain": [
              "array([5.3, 6.6, 7.1, 8.4])"
            ]
          },
          "metadata": {},
          "execution_count": 91
        }
      ],
      "source": [
        "np.array([5.3, 6.6, 7.1, 8.4]) # all floats"
      ]
    },
    {
      "cell_type": "markdown",
      "metadata": {
        "id": "beqv6x9cuaew"
      },
      "source": [
        "<font size = 12>\n",
        "As an aside, `np.array(   )` accepts strings also though it may not have immediate use. One must be aware of this. dtype is U1 or U2."
      ]
    },
    {
      "cell_type": "code",
      "execution_count": 95,
      "metadata": {
        "id": "iJ4GeBB8sReQ",
        "colab": {
          "base_uri": "https://localhost:8080/",
          "height": 67
        },
        "outputId": "94f6ae16-12db-464f-9c0a-a80b6be57994"
      },
      "outputs": [
        {
          "output_type": "display_data",
          "data": {
            "text/plain": [
              "<IPython.core.display.Javascript object>"
            ],
            "application/javascript": [
              "\n",
              "  for (rule of document.styleSheets[0].cssRules){\n",
              "    if (rule.selectorText=='body') {\n",
              "      rule.style.fontSize = '25px'\n",
              "      rule.style.color = 'darkblue'\n",
              "      break\n",
              "    }\n",
              "  }\n",
              "  "
            ]
          },
          "metadata": {}
        },
        {
          "output_type": "display_data",
          "data": {
            "text/plain": [
              "<IPython.core.display.Javascript object>"
            ],
            "application/javascript": [
              "\n",
              "  for (rule of document.styleSheets[0].cssRules){\n",
              "    if (rule.selectorText=='body') {\n",
              "      rule.style.fontSize = '30px'\n",
              "      rule.style.color = 'darkblue'\n",
              "      break\n",
              "    }\n",
              "  }\n",
              "  "
            ]
          },
          "metadata": {}
        },
        {
          "output_type": "display_data",
          "data": {
            "text/plain": [
              "<IPython.core.display.Javascript object>"
            ],
            "application/javascript": [
              "\n",
              "  for (rule of document.styleSheets[0].cssRules){\n",
              "    if (rule.selectorText=='body') {\n",
              "      rule.style.fontSize = '40px'\n",
              "      rule.style.color = 'darkblue'\n",
              "      break\n",
              "    }\n",
              "  }\n",
              "  "
            ]
          },
          "metadata": {}
        },
        {
          "output_type": "execute_result",
          "data": {
            "text/plain": [
              "np.str_('a1')"
            ],
            "application/vnd.google.colaboratory.intrinsic+json": {
              "type": "string"
            }
          },
          "metadata": {},
          "execution_count": 95
        }
      ],
      "source": [
        "np.array(['1','2', '3']) # all strings\n",
        "np.array(['a','b', 'c'])\n",
        "np.array(['a1','b2', 'c3'])\n",
        "(np.array(['a1','b2', 'c3'])[0])\n",
        "# dir(np.array(['a1','b2', 'c3'])[0])\n"
      ]
    },
    {
      "cell_type": "code",
      "execution_count": 96,
      "metadata": {
        "id": "u_s_rnOFsxpZ",
        "colab": {
          "base_uri": "https://localhost:8080/",
          "height": 1000
        },
        "collapsed": true,
        "outputId": "c30377de-7536-47c8-a6cd-5171b9f8e5a5"
      },
      "outputs": [
        {
          "output_type": "display_data",
          "data": {
            "text/plain": [
              "<IPython.core.display.Javascript object>"
            ],
            "application/javascript": [
              "\n",
              "  for (rule of document.styleSheets[0].cssRules){\n",
              "    if (rule.selectorText=='body') {\n",
              "      rule.style.fontSize = '25px'\n",
              "      rule.style.color = 'darkblue'\n",
              "      break\n",
              "    }\n",
              "  }\n",
              "  "
            ]
          },
          "metadata": {}
        },
        {
          "output_type": "display_data",
          "data": {
            "text/plain": [
              "<IPython.core.display.Javascript object>"
            ],
            "application/javascript": [
              "\n",
              "  for (rule of document.styleSheets[0].cssRules){\n",
              "    if (rule.selectorText=='body') {\n",
              "      rule.style.fontSize = '30px'\n",
              "      rule.style.color = 'darkblue'\n",
              "      break\n",
              "    }\n",
              "  }\n",
              "  "
            ]
          },
          "metadata": {}
        },
        {
          "output_type": "display_data",
          "data": {
            "text/plain": [
              "<IPython.core.display.Javascript object>"
            ],
            "application/javascript": [
              "\n",
              "  for (rule of document.styleSheets[0].cssRules){\n",
              "    if (rule.selectorText=='body') {\n",
              "      rule.style.fontSize = '40px'\n",
              "      rule.style.color = 'darkblue'\n",
              "      break\n",
              "    }\n",
              "  }\n",
              "  "
            ]
          },
          "metadata": {}
        },
        {
          "output_type": "error",
          "ename": "AttributeError",
          "evalue": "`np.float_` was removed in the NumPy 2.0 release. Use `np.float64` instead.",
          "traceback": [
            "\u001b[0;31m---------------------------------------------------------------------------\u001b[0m",
            "\u001b[0;31mAttributeError\u001b[0m                            Traceback (most recent call last)",
            "\u001b[0;32m/tmp/ipython-input-1286806753.py\u001b[0m in \u001b[0;36m<cell line: 0>\u001b[0;34m()\u001b[0m\n\u001b[1;32m      1\u001b[0m \u001b[0mnp\u001b[0m\u001b[0;34m.\u001b[0m\u001b[0marray\u001b[0m\u001b[0;34m(\u001b[0m\u001b[0;34m[\u001b[0m\u001b[0;36m5.3\u001b[0m\u001b[0;34m,\u001b[0m \u001b[0;36m6.6\u001b[0m\u001b[0;34m,\u001b[0m \u001b[0;36m7.1\u001b[0m\u001b[0;34m,\u001b[0m \u001b[0;36m8.4\u001b[0m\u001b[0;34m]\u001b[0m\u001b[0;34m,\u001b[0m \u001b[0mdtype\u001b[0m\u001b[0;34m=\u001b[0m \u001b[0mnp\u001b[0m\u001b[0;34m.\u001b[0m\u001b[0mfloat16\u001b[0m\u001b[0;34m)\u001b[0m \u001b[0;31m# all floats16\u001b[0m\u001b[0;34m\u001b[0m\u001b[0;34m\u001b[0m\u001b[0m\n\u001b[1;32m      2\u001b[0m \u001b[0mnp\u001b[0m\u001b[0;34m.\u001b[0m\u001b[0marray\u001b[0m\u001b[0;34m(\u001b[0m\u001b[0;34m[\u001b[0m\u001b[0;36m5.3\u001b[0m\u001b[0;34m,\u001b[0m \u001b[0;36m6.6\u001b[0m\u001b[0;34m,\u001b[0m \u001b[0;36m7.1\u001b[0m\u001b[0;34m,\u001b[0m \u001b[0;36m8.4\u001b[0m\u001b[0;34m]\u001b[0m\u001b[0;34m,\u001b[0m \u001b[0mdtype\u001b[0m\u001b[0;34m=\u001b[0m \u001b[0mnp\u001b[0m\u001b[0;34m.\u001b[0m\u001b[0mfloat32\u001b[0m\u001b[0;34m)\u001b[0m \u001b[0;31m# all floats32\u001b[0m\u001b[0;34m\u001b[0m\u001b[0;34m\u001b[0m\u001b[0m\n\u001b[0;32m----> 3\u001b[0;31m \u001b[0mnp\u001b[0m\u001b[0;34m.\u001b[0m\u001b[0marray\u001b[0m\u001b[0;34m(\u001b[0m\u001b[0;34m[\u001b[0m\u001b[0;36m5.3\u001b[0m\u001b[0;34m,\u001b[0m \u001b[0;36m6.6\u001b[0m\u001b[0;34m,\u001b[0m \u001b[0;36m7.1\u001b[0m\u001b[0;34m,\u001b[0m \u001b[0;36m8.4\u001b[0m\u001b[0;34m]\u001b[0m\u001b[0;34m,\u001b[0m \u001b[0mdtype\u001b[0m\u001b[0;34m=\u001b[0m \u001b[0mnp\u001b[0m\u001b[0;34m.\u001b[0m\u001b[0mfloat_\u001b[0m\u001b[0;34m)\u001b[0m \u001b[0;31m# will works alias for float64 dtype\u001b[0m\u001b[0;34m\u001b[0m\u001b[0;34m\u001b[0m\u001b[0m\n\u001b[0m\u001b[1;32m      4\u001b[0m \u001b[0;31m# np.array([5.3, 6.6, 7.1, 8.4], dtype= np.float) # will warn\u001b[0m\u001b[0;34m\u001b[0m\u001b[0;34m\u001b[0m\u001b[0m\n\u001b[1;32m      5\u001b[0m \u001b[0;31m# np.array([5.3, 6.6, 7.1, 8.4], dtype= np.float8) # will throw error\u001b[0m\u001b[0;34m\u001b[0m\u001b[0;34m\u001b[0m\u001b[0m\n",
            "\u001b[0;32m/usr/local/lib/python3.11/dist-packages/numpy/__init__.py\u001b[0m in \u001b[0;36m__getattr__\u001b[0;34m(attr)\u001b[0m\n\u001b[1;32m    395\u001b[0m \u001b[0;34m\u001b[0m\u001b[0m\n\u001b[1;32m    396\u001b[0m         \u001b[0;32mif\u001b[0m \u001b[0mattr\u001b[0m \u001b[0;32min\u001b[0m \u001b[0m__expired_attributes__\u001b[0m\u001b[0;34m:\u001b[0m\u001b[0;34m\u001b[0m\u001b[0;34m\u001b[0m\u001b[0m\n\u001b[0;32m--> 397\u001b[0;31m             raise AttributeError(\n\u001b[0m\u001b[1;32m    398\u001b[0m                 \u001b[0;34mf\"`np.{attr}` was removed in the NumPy 2.0 release. \"\u001b[0m\u001b[0;34m\u001b[0m\u001b[0;34m\u001b[0m\u001b[0m\n\u001b[1;32m    399\u001b[0m                 \u001b[0;34mf\"{__expired_attributes__[attr]}\"\u001b[0m\u001b[0;34m\u001b[0m\u001b[0;34m\u001b[0m\u001b[0m\n",
            "\u001b[0;31mAttributeError\u001b[0m: `np.float_` was removed in the NumPy 2.0 release. Use `np.float64` instead."
          ]
        }
      ],
      "source": [
        "np.array([5.3, 6.6, 7.1, 8.4], dtype= np.float16) # all floats16\n",
        "np.array([5.3, 6.6, 7.1, 8.4], dtype= np.float32) # all floats32\n",
        "np.array([5.3, 6.6, 7.1, 8.4], dtype= np.float_) # will works alias for float64 dtype\n",
        "# np.array([5.3, 6.6, 7.1, 8.4], dtype= np.float) # will warn\n",
        "# np.array([5.3, 6.6, 7.1, 8.4], dtype= np.float8) # will throw error"
      ]
    },
    {
      "cell_type": "markdown",
      "metadata": {
        "id": "d06qI_1uvBbZ"
      },
      "source": [
        "\n",
        "# Thus far we created 1 -D arrays\n",
        "# We can also create multidimensional arrays, that we will do later."
      ]
    },
    {
      "cell_type": "markdown",
      "metadata": {
        "id": "XhcULYaRvZae"
      },
      "source": [
        "<font size = 10>\n",
        "# Next we use some \"routines\" of numpy to create arrays\n",
        "# the names of routines defines what the elemnts will be filled in the array <br>\n",
        "  - zeros  <br>\n",
        "  - ones   <br>\n",
        "  - full   <br>\n"
      ]
    },
    {
      "cell_type": "code",
      "execution_count": 97,
      "metadata": {
        "id": "GfE0q8S9vPbH",
        "colab": {
          "base_uri": "https://localhost:8080/",
          "height": 67
        },
        "outputId": "4b4e573c-3eea-42fa-d6a5-22090a3a0179"
      },
      "outputs": [
        {
          "output_type": "display_data",
          "data": {
            "text/plain": [
              "<IPython.core.display.Javascript object>"
            ],
            "application/javascript": [
              "\n",
              "  for (rule of document.styleSheets[0].cssRules){\n",
              "    if (rule.selectorText=='body') {\n",
              "      rule.style.fontSize = '25px'\n",
              "      rule.style.color = 'darkblue'\n",
              "      break\n",
              "    }\n",
              "  }\n",
              "  "
            ]
          },
          "metadata": {}
        },
        {
          "output_type": "display_data",
          "data": {
            "text/plain": [
              "<IPython.core.display.Javascript object>"
            ],
            "application/javascript": [
              "\n",
              "  for (rule of document.styleSheets[0].cssRules){\n",
              "    if (rule.selectorText=='body') {\n",
              "      rule.style.fontSize = '30px'\n",
              "      rule.style.color = 'darkblue'\n",
              "      break\n",
              "    }\n",
              "  }\n",
              "  "
            ]
          },
          "metadata": {}
        },
        {
          "output_type": "display_data",
          "data": {
            "text/plain": [
              "<IPython.core.display.Javascript object>"
            ],
            "application/javascript": [
              "\n",
              "  for (rule of document.styleSheets[0].cssRules){\n",
              "    if (rule.selectorText=='body') {\n",
              "      rule.style.fontSize = '40px'\n",
              "      rule.style.color = 'darkblue'\n",
              "      break\n",
              "    }\n",
              "  }\n",
              "  "
            ]
          },
          "metadata": {}
        },
        {
          "output_type": "execute_result",
          "data": {
            "text/plain": [
              "array([0, 0, 0, 0, 0, 0])"
            ]
          },
          "metadata": {},
          "execution_count": 97
        }
      ],
      "source": [
        "np.zeros(6, dtype = int)"
      ]
    },
    {
      "cell_type": "code",
      "execution_count": 98,
      "metadata": {
        "id": "hbZ9RcpC8HZc",
        "colab": {
          "base_uri": "https://localhost:8080/",
          "height": 168
        },
        "outputId": "cb81d9a9-53bd-4395-b2d6-0eef659ae8c3"
      },
      "outputs": [
        {
          "output_type": "display_data",
          "data": {
            "text/plain": [
              "<IPython.core.display.Javascript object>"
            ],
            "application/javascript": [
              "\n",
              "  for (rule of document.styleSheets[0].cssRules){\n",
              "    if (rule.selectorText=='body') {\n",
              "      rule.style.fontSize = '25px'\n",
              "      rule.style.color = 'darkblue'\n",
              "      break\n",
              "    }\n",
              "  }\n",
              "  "
            ]
          },
          "metadata": {}
        },
        {
          "output_type": "display_data",
          "data": {
            "text/plain": [
              "<IPython.core.display.Javascript object>"
            ],
            "application/javascript": [
              "\n",
              "  for (rule of document.styleSheets[0].cssRules){\n",
              "    if (rule.selectorText=='body') {\n",
              "      rule.style.fontSize = '30px'\n",
              "      rule.style.color = 'darkblue'\n",
              "      break\n",
              "    }\n",
              "  }\n",
              "  "
            ]
          },
          "metadata": {}
        },
        {
          "output_type": "display_data",
          "data": {
            "text/plain": [
              "<IPython.core.display.Javascript object>"
            ],
            "application/javascript": [
              "\n",
              "  for (rule of document.styleSheets[0].cssRules){\n",
              "    if (rule.selectorText=='body') {\n",
              "      rule.style.fontSize = '40px'\n",
              "      rule.style.color = 'darkblue'\n",
              "      break\n",
              "    }\n",
              "  }\n",
              "  "
            ]
          },
          "metadata": {}
        },
        {
          "output_type": "execute_result",
          "data": {
            "text/plain": [
              "array([[1, 1],\n",
              "       [1, 1],\n",
              "       [1, 1]])"
            ]
          },
          "metadata": {},
          "execution_count": 98
        }
      ],
      "source": [
        "np.ones( (3,2), dtype = int)"
      ]
    },
    {
      "cell_type": "markdown",
      "metadata": {
        "id": "7X2pYCO17z08"
      },
      "source": [
        "<font size = 18  color = blue style = Arial>\n",
        "np.ones( (3,2), dtype = int) <br>\n",
        "(3,2) is the first argument, it defines the dimension of matrix or array\n",
        "</font>"
      ]
    },
    {
      "cell_type": "code",
      "execution_count": null,
      "metadata": {
        "id": "DKNg2TWw8Lkc"
      },
      "outputs": [],
      "source": [
        "np.ones((3,2), dtype = float)  # (3,2) is a tuple\n",
        "my_ones_arr = np.ones([3,2], dtype = float)  # [3,2] is a list\n",
        "type(my_ones_arr)"
      ]
    },
    {
      "cell_type": "markdown",
      "metadata": {
        "id": "SZtLphDDxyov"
      },
      "source": [
        "\n",
        "# How to check the attributes"
      ]
    },
    {
      "cell_type": "markdown",
      "metadata": {
        "id": "lxU6zQpgxm5Y"
      },
      "source": [
        "# What are the attributes of an object like `array` : a brief detour using `dir ( )`"
      ]
    },
    {
      "cell_type": "code",
      "execution_count": null,
      "metadata": {
        "id": "yfszbBIdxiF5"
      },
      "outputs": [],
      "source": [
        "dir(my_ones_arr)"
      ]
    },
    {
      "cell_type": "markdown",
      "metadata": {
        "id": "vdwdU3ww4oL0"
      },
      "source": [
        "# The above output is very long (ie, verbose). We can use the width of screen to make output more readable for ourselves and others. How can we do that."
      ]
    },
    {
      "cell_type": "code",
      "execution_count": null,
      "metadata": {
        "id": "I4ykTXIW1tPM"
      },
      "outputs": [],
      "source": [
        "type(dir(my_ones_arr))\n",
        "len(dir(my_ones_arr))"
      ]
    },
    {
      "cell_type": "markdown",
      "metadata": {
        "id": "WlEL25BN5DH6"
      },
      "source": [
        "# We can use the white space to show output in 3 or 5 or 7 columns as it fits and reads better. Maybe a hit and trial method ? But let's be systematic. Compute Factors of 165.\n",
        "# What are the factors of 165 to decide in how many columns to show this set of attributes. Let's write a small function because we will need it again.\n",
        "\n",
        "# Note how we create a help section in matching triple quotes `\"\"\"` called _Docstring_. Why ? It's a text _string_ that _documents_ how to use the function.\n",
        "<font size = 6 color = darkgreen face = Monospace>\n",
        "  \"\"\"Compute the factors of input number `num`\"\"\"\n",
        "</font>"
      ]
    },
    {
      "cell_type": "code",
      "execution_count": null,
      "metadata": {
        "id": "gk58ErrryaFs"
      },
      "outputs": [],
      "source": [
        "def get_factors(num):\n",
        "  \"\"\"Compute the factors of input number `num`\"\"\"\n",
        "  print(f'Factors of {num} :')\n",
        "  for k in range(1, num + 1):\n",
        "      if num % k == 0:\n",
        "          print(k)\n",
        "\n",
        "# Find out how to use a function using .__doc__ attribute\n",
        "get_factors.__doc__\n",
        "\n",
        "get_factors(165)\n",
        "# type(get_factors(165))"
      ]
    },
    {
      "cell_type": "code",
      "execution_count": null,
      "metadata": {
        "id": "oHYUw1L1x1Ku"
      },
      "outputs": [],
      "source": [
        "165/5 # no of columns can be shown is 5; so 33 rows\n",
        "165/3 # no of columns can be shown is 3; so 55 rows\n",
        "\n",
        "(np.array(dir(my_ones_arr))).reshape(33,5) # Use 5 cols to use space; its better but can be improved\n",
        "(np.array(dir(my_ones_arr))).reshape(55,3) # 3 cols appears best\n",
        "# row major ordering of elements by default\n"
      ]
    },
    {
      "cell_type": "markdown",
      "source": [
        "## The general recommendation would be to show a an array of hunderds of strings as a reshaped array with 3 columns. Pad the end of the array with 1 or 2 strings like 'blank' 'blank'  "
      ],
      "metadata": {
        "id": "Gg6oUJhwnG5E"
      }
    },
    {
      "cell_type": "markdown",
      "metadata": {
        "id": "p_rRFOCEA8Og"
      },
      "source": [
        "\n",
        "# What to do if there are 149 attributes ? How to print these in reshaped format. Pad it with one 'blank' string. Length is now 150,  divisible by 3.\n"
      ]
    },
    {
      "cell_type": "code",
      "execution_count": null,
      "metadata": {
        "id": "aa6K5f7lA-kw"
      },
      "outputs": [],
      "source": [
        "\n",
        "get_factors(149) # What do if there are 149 attributes ? How to print these in reshaped format\n"
      ]
    },
    {
      "cell_type": "code",
      "execution_count": null,
      "metadata": {
        "id": "dxA4n79EPyJw"
      },
      "outputs": [],
      "source": [
        "np.ones((3,2), dtype = int)"
      ]
    },
    {
      "cell_type": "code",
      "execution_count": null,
      "metadata": {
        "id": "NtHYlAXFu8TK"
      },
      "outputs": [],
      "source": [
        "# Thesecond argument 9.8 is a float (or we can supply an int also ) of our choice\n",
        "np.full((3,2) , 9.8, dtype = float) # a custom way of filling the array\n",
        "# np.full((3,2) , 100, dtype = int) # a custom way of filling the array"
      ]
    },
    {
      "cell_type": "markdown",
      "metadata": {
        "id": "g85rbVlkwPq3"
      },
      "source": [
        "## Next we have `arange(  )` much like `range(  )` used with `list( )`"
      ]
    },
    {
      "cell_type": "code",
      "execution_count": 33,
      "metadata": {
        "id": "KEnPPOwmwYGY",
        "colab": {
          "base_uri": "https://localhost:8080/"
        },
        "outputId": "c4adbfce-f8c0-4b63-eb55-bcbef39c3067"
      },
      "outputs": [
        {
          "output_type": "execute_result",
          "data": {
            "text/plain": [
              "[0, 1, 2, 3, 4, 5, 6, 7, 8]"
            ]
          },
          "metadata": {},
          "execution_count": 33
        }
      ],
      "source": [
        "list(range(0, 9))"
      ]
    },
    {
      "cell_type": "code",
      "execution_count": 34,
      "metadata": {
        "id": "gm2midM2wfCI",
        "colab": {
          "base_uri": "https://localhost:8080/"
        },
        "outputId": "55a9e3b4-a67d-417e-ddbc-8058e091d7cc"
      },
      "outputs": [
        {
          "output_type": "execute_result",
          "data": {
            "text/plain": [
              "array([0, 1, 2, 3, 4, 5, 6, 7, 8])"
            ]
          },
          "metadata": {},
          "execution_count": 34
        }
      ],
      "source": [
        "np.arange(0, 9, dtype = int) # arange is fo arithmetic range"
      ]
    },
    {
      "cell_type": "markdown",
      "metadata": {
        "id": "34jkvgyPH2DJ"
      },
      "source": [
        "# arange(   ) from `0` to `1001`\n",
        "# again note the use of 1e3 + 1 for 1001."
      ]
    },
    {
      "cell_type": "code",
      "execution_count": 35,
      "metadata": {
        "id": "-bYIlxLOHzlz",
        "colab": {
          "base_uri": "https://localhost:8080/"
        },
        "outputId": "3e4e6cfb-61f3-462b-a251-3ae09ad4139f"
      },
      "outputs": [
        {
          "output_type": "execute_result",
          "data": {
            "text/plain": [
              "array([   0,    1,    2, ...,  998,  999, 1000])"
            ]
          },
          "metadata": {},
          "execution_count": 35
        }
      ],
      "source": [
        "np.arange(0, 1e3+1, dtype = int) # `0` to `1001` # compact\n",
        "# np.arange(0, 999, dtype = int) # `0` to `999` # verbose"
      ]
    },
    {
      "cell_type": "markdown",
      "metadata": {
        "id": "ZO0zSY3Dwn4t"
      },
      "source": [
        "## When we want to evenly place `float`s or `int`s  \n",
        "## we use np.linspace( ) # linearly spaced nums or floats\n",
        "\n",
        "## we use np.linspace(0,1,5 ) #\n",
        "## 5 evenly or uniformly or linearly spaced numbers between 0 & 1 but end points included\n",
        "\n",
        "# https://numpy.org/doc/stable/reference/generated/numpy.logspace.html\n",
        "\n",
        "In the arguments to this method you will note that endpoint = True is the default.\n",
        "\n"
      ]
    },
    {
      "cell_type": "code",
      "execution_count": 36,
      "metadata": {
        "id": "m9ohMfVswxFx",
        "colab": {
          "base_uri": "https://localhost:8080/"
        },
        "outputId": "02da429b-2222-47c5-ba1b-138e43bd75e0"
      },
      "outputs": [
        {
          "output_type": "execute_result",
          "data": {
            "text/plain": [
              "array([0.  , 0.25, 0.5 , 0.75, 1.  ])"
            ]
          },
          "metadata": {},
          "execution_count": 36
        }
      ],
      "source": [
        "np.linspace(0, 1, 5) # 5 Evenly uniformly spaced numbers between 0 & 1 but end points included closed interval applies here\n",
        "lin_space_nos = np.linspace(0, 1, 5)\n",
        "lin_space_nos"
      ]
    },
    {
      "cell_type": "code",
      "execution_count": 37,
      "metadata": {
        "id": "l8a9-IhbSqFt",
        "cellView": "form",
        "colab": {
          "base_uri": "https://localhost:8080/"
        },
        "outputId": "5144fbd3-ca33-4e26-8591-ea735827dc32"
      },
      "outputs": [
        {
          "output_type": "stream",
          "name": "stdout",
          "text": [
            "[ 1.          1.77827941  3.16227766  5.62341325 10.        ]\n"
          ]
        }
      ],
      "source": [
        "# @title\n",
        "# logarithmically spaced numbers between 0 & 1 but end points included closed interval applies here\n",
        "np.logspace(0, 1, 5, dtype = float) #\n",
        "\n",
        "log_space_nos = np.logspace(0, 1, 5, dtype = float) #\n",
        "\n",
        "print(log_space_nos)\n",
        "\n"
      ]
    },
    {
      "cell_type": "code",
      "execution_count": 37,
      "metadata": {
        "id": "ilcZyax9W347"
      },
      "outputs": [],
      "source": []
    },
    {
      "cell_type": "code",
      "execution_count": 38,
      "metadata": {
        "cellView": "form",
        "id": "7YrgLcU_XlI6",
        "colab": {
          "base_uri": "https://localhost:8080/"
        },
        "outputId": "5de53432-37c1-4119-d484-c795d8fb4acd"
      },
      "outputs": [
        {
          "output_type": "stream",
          "name": "stdout",
          "text": [
            "[np.float64(2.0), np.float64(1.562341325190349), np.float64(1.316227766016838), np.float64(1.1778279410038923), np.float64(1.1)]\n"
          ]
        }
      ],
      "source": [
        "# @title\n",
        "print ([(k+1)/k  for k in log_space_nos])"
      ]
    },
    {
      "cell_type": "code",
      "execution_count": 39,
      "metadata": {
        "cellView": "form",
        "id": "b0w-hMOQTt3c",
        "colab": {
          "base_uri": "https://localhost:8080/"
        },
        "outputId": "8905eeb5-75ef-4cac-843a-58c11142fde8"
      },
      "outputs": [
        {
          "output_type": "execute_result",
          "data": {
            "text/plain": [
              "np.float64(1.7782794100389228)"
            ]
          },
          "metadata": {},
          "execution_count": 39
        }
      ],
      "source": [
        "# @title\n",
        "log_space_nos[1] / log_space_nos[0]\n",
        "\n",
        "log_space_nos[2]/log_space_nos[1]\n",
        "\n",
        "log_space_nos[3]/log_space_nos[2]\n",
        "\n",
        "log_space_nos[4]/log_space_nos[3]\n",
        "\n"
      ]
    },
    {
      "cell_type": "code",
      "execution_count": 40,
      "metadata": {
        "id": "urR5hLYUGuu8",
        "colab": {
          "base_uri": "https://localhost:8080/"
        },
        "outputId": "c6879741-c394-4091-a73d-b0fdf1528188"
      },
      "outputs": [
        {
          "output_type": "execute_result",
          "data": {
            "text/plain": [
              "array([ 0. ,  2.5,  5. ,  7.5, 10. ])"
            ]
          },
          "metadata": {},
          "execution_count": 40
        }
      ],
      "source": [
        "# @title\n",
        "np.linspace(0, 10, 5) # 5 Evenly spaced numbers between 0 & 10 but end points included closed interval applies here"
      ]
    },
    {
      "cell_type": "markdown",
      "metadata": {
        "id": "W34MeoJKQSeA"
      },
      "source": [
        "# After creating arrays from the ground up, we can now look at how we can fill an array with numbers at random.\n",
        "\n",
        "# These are in fact <b>P</b>seudo Random Numbers as they are generated using an algorithm on our computers.  So in that sense they are predictable. Practically, using the same seed you can generate the same random number.\n",
        "See more at https://www.random.org/\n",
        "\n",
        "# np.random.random( (3,3) ) # note that dimensions (rows, cols) are passed as a tuple or a list.\n",
        "\n",
        "# np.random.random( 2 ) # a single number yields two random numbers\n",
        "\n",
        "\n"
      ]
    },
    {
      "cell_type": "markdown",
      "metadata": {
        "id": "nl17klJYUWqu"
      },
      "source": [
        "# From the the docs : https://numpy.org/doc/stable/reference/random/generated/numpy.random.random.html\n",
        "\n",
        "# numpy.random.random\n",
        "  -  random.random(size=None)   MEANS One argument, `size` size of array of random numbers, default None    \n",
        "  -  Return random floats in the half-open interval [0.0, 1.0). MEANS you will never find 1.0 generated.\n",
        "  -  Alias for random_sample to ease forward-porting to the new random API. MEANS that `.random_sample` was used earlier but new one is `.random`. Both continue for now."
      ]
    },
    {
      "cell_type": "code",
      "execution_count": 41,
      "metadata": {
        "id": "LEUVw790SixW",
        "colab": {
          "base_uri": "https://localhost:8080/"
        },
        "outputId": "e1556f09-ba55-4571-e8c9-7b71d40903ba"
      },
      "outputs": [
        {
          "output_type": "execute_result",
          "data": {
            "text/plain": [
              "array([[0.55471017, 0.72866562, 0.71037633],\n",
              "       [0.44906017, 0.11556176, 0.49536517],\n",
              "       [0.37136955, 0.12996819, 0.40783397]])"
            ]
          },
          "metadata": {},
          "execution_count": 41
        }
      ],
      "source": [
        "np.random.random((3,3))\n",
        "# np.random.random(3,3) # throws an error"
      ]
    },
    {
      "cell_type": "code",
      "execution_count": 42,
      "metadata": {
        "id": "0nJpUr4zSJsP",
        "colab": {
          "base_uri": "https://localhost:8080/"
        },
        "outputId": "64d6c4c7-6e69-4af3-9e12-524e66aa0ef5"
      },
      "outputs": [
        {
          "output_type": "execute_result",
          "data": {
            "text/plain": [
              "array([[0.66099936, 0.5345948 , 0.75465156],\n",
              "       [0.2037724 , 0.39757104, 0.61383365],\n",
              "       [0.67059985, 0.29945131, 0.97759158]])"
            ]
          },
          "metadata": {},
          "execution_count": 42
        }
      ],
      "source": [
        "np.random.random([3,3])\n",
        "# np.random.random_sample([3,3]) # is an alias"
      ]
    },
    {
      "cell_type": "markdown",
      "metadata": {
        "id": "zmbRR3rkSP32"
      },
      "source": [
        "# Single argument with parnetheses or without, both work\n",
        "# Without any argument one random number between (0, 1) is generated"
      ]
    },
    {
      "cell_type": "code",
      "execution_count": 43,
      "metadata": {
        "id": "vpE8lY5-QnLA",
        "colab": {
          "base_uri": "https://localhost:8080/"
        },
        "outputId": "4a266cfe-62d0-466c-e282-e6f9237c5fe0"
      },
      "outputs": [
        {
          "output_type": "execute_result",
          "data": {
            "text/plain": [
              "array(0.77526895)"
            ]
          },
          "metadata": {},
          "execution_count": 43
        }
      ],
      "source": [
        "np.random.random(2) # Single argument without or with parnetheses : Both work\n",
        "np.random.random((2)) # Both work\n",
        "np.random.random(()) # Without any argument one random number between (0, 1) is generated"
      ]
    },
    {
      "cell_type": "markdown",
      "metadata": {
        "id": "3fv5TiYOI1fA"
      },
      "source": [
        "# We can create a normally distributed random numbers and place them in an array.\n",
        "<font size = 6 color = green face = Monospace>\n",
        "np.random.normal(0, 1, (2,2))  <br>\n",
        "Note the order of arguments above <br>\n",
        "First - Mean is zero, <br>\n",
        "Second - Standard deviation is 1<br>\n",
        "Third - size of array where Rows x Cols = No of Elements\n",
        "</font>\n"
      ]
    },
    {
      "cell_type": "code",
      "execution_count": 44,
      "metadata": {
        "id": "otskUcUmJAOQ",
        "colab": {
          "base_uri": "https://localhost:8080/"
        },
        "outputId": "7f9c07ea-6418-4f4a-f3db-15c51874f4ff"
      },
      "outputs": [
        {
          "output_type": "execute_result",
          "data": {
            "text/plain": [
              "array([[-1.09 , -0.388,  0.399, -0.697,  1.68 , -0.975],\n",
              "       [ 1.297,  0.074,  0.25 ,  0.845, -0.538,  0.456],\n",
              "       [-0.04 , -1.196, -0.906, -0.384,  2.003,  1.003],\n",
              "       [ 2.51 ,  1.43 ,  0.309,  0.626, -0.769, -0.486],\n",
              "       [ 2.12 , -1.307, -0.895,  0.459, -0.012,  1.005],\n",
              "       [ 2.435, -0.586, -0.358,  0.149, -0.62 , -0.583]])"
            ]
          },
          "metadata": {},
          "execution_count": 44
        }
      ],
      "source": [
        "np.random.normal(0, 1, (6,6)) # unreadable\n",
        "np.random.normal(0, 1, (6,6)).round(3) # readable"
      ]
    },
    {
      "cell_type": "markdown",
      "metadata": {
        "id": "y3xuuz7HP082"
      },
      "source": [
        "# Next we can generate a list of random numbers between a start and end and then specify array size\n"
      ]
    },
    {
      "cell_type": "markdown",
      "metadata": {
        "id": "oH-6F96UQEL5"
      },
      "source": [
        "<font size = 6 color = green face = Monospace>\n",
        "np.random.randint(10, 17, (2,3))  <br>\n",
        "Note the order of arguments above <br>\n",
        "First - start is 10, <br>\n",
        "Second - end is 17, <br>\n",
        "Third - size of array where Rows x Cols = No of Elements\n",
        "</font>\n"
      ]
    },
    {
      "cell_type": "code",
      "execution_count": 45,
      "metadata": {
        "id": "HE_98kD8PZ12",
        "colab": {
          "base_uri": "https://localhost:8080/"
        },
        "outputId": "f51eaef4-50f8-43f7-807b-95611e2218bc"
      },
      "outputs": [
        {
          "output_type": "execute_result",
          "data": {
            "text/plain": [
              "array([[142, 171, 175],\n",
              "       [170, 130, 152]])"
            ]
          },
          "metadata": {},
          "execution_count": 45
        }
      ],
      "source": [
        "np.random.randint(10, 17, (2,3))\n",
        "np.random.randint(100, 201, (2,3))"
      ]
    },
    {
      "cell_type": "markdown",
      "metadata": {
        "id": "hK3-GhMfQvom"
      },
      "source": [
        "# Lastly an Identity matrix\n",
        "# It is usually written as $I$ in Math. np.eye sounds like that."
      ]
    },
    {
      "cell_type": "code",
      "execution_count": 46,
      "metadata": {
        "id": "LOdUynOOQqPN",
        "colab": {
          "base_uri": "https://localhost:8080/"
        },
        "outputId": "7c7fed02-d27a-40e2-f480-bcd6a73cea46"
      },
      "outputs": [
        {
          "output_type": "execute_result",
          "data": {
            "text/plain": [
              "array([[1, 0, 0, 0],\n",
              "       [0, 1, 0, 0],\n",
              "       [0, 0, 1, 0],\n",
              "       [0, 0, 0, 1]])"
            ]
          },
          "metadata": {},
          "execution_count": 46
        }
      ],
      "source": [
        "np.eye(4, dtype = float) # float is default\n",
        "np.eye(4, dtype = int)"
      ]
    },
    {
      "cell_type": "code",
      "execution_count": 47,
      "metadata": {
        "id": "VmJpk3jGjy7k",
        "colab": {
          "base_uri": "https://localhost:8080/",
          "height": 79
        },
        "outputId": "11b36731-8ee9-4999-9608-127cf13bdf4d"
      },
      "outputs": [
        {
          "output_type": "display_data",
          "data": {
            "text/plain": [
              "<IPython.core.display.Javascript object>"
            ],
            "application/javascript": [
              "\n",
              "  for (rule of document.styleSheets[0].cssRules){\n",
              "    if (rule.selectorText=='body') {\n",
              "      rule.style.fontSize = '25px'\n",
              "      rule.style.color = 'darkblue'\n",
              "      break\n",
              "    }\n",
              "  }\n",
              "  "
            ]
          },
          "metadata": {}
        },
        {
          "output_type": "stream",
          "name": "stdout",
          "text": [
            "Hello in \n",
            "...in larger font \n"
          ]
        }
      ],
      "source": [
        "def increase_font():\n",
        "  from IPython.display import Javascript\n",
        "  display(Javascript('''\n",
        "  for (rule of document.styleSheets[0].cssRules){\n",
        "    if (rule.selectorText=='body') {\n",
        "      rule.style.fontSize = '25px'\n",
        "      rule.style.color = 'darkblue'\n",
        "      break\n",
        "    }\n",
        "  }\n",
        "  '''))\n",
        "increase_font()\n",
        "get_ipython().events.register('pre_run_cell', increase_font)\n",
        "print(\"Hello in \")\n",
        "print(\"...in larger font \")"
      ]
    }
  ],
  "metadata": {
    "colab": {
      "provenance": []
    },
    "kernelspec": {
      "display_name": "Python 3",
      "name": "python3"
    },
    "language_info": {
      "name": "python"
    }
  },
  "nbformat": 4,
  "nbformat_minor": 0
}