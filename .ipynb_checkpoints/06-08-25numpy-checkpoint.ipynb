{
 "cells": [
  {
   "cell_type": "code",
   "execution_count": 1,
   "id": "43d685cb-98c6-42fb-a9b9-831271c81b2b",
   "metadata": {},
   "outputs": [],
   "source": [
    "import numpy as np"
   ]
  },
  {
   "cell_type": "code",
   "execution_count": 3,
   "id": "af04d742-39e1-4dc9-8ca5-5b083bef8b07",
   "metadata": {},
   "outputs": [
    {
     "data": {
      "text/plain": [
       "[0,\n",
       " 1,\n",
       " 2,\n",
       " 3,\n",
       " 4,\n",
       " 5,\n",
       " 6,\n",
       " 7,\n",
       " 8,\n",
       " 9,\n",
       " 10,\n",
       " 11,\n",
       " 12,\n",
       " 13,\n",
       " 14,\n",
       " 15,\n",
       " 16,\n",
       " 17,\n",
       " 18,\n",
       " 19,\n",
       " 20,\n",
       " 21,\n",
       " 22,\n",
       " 23,\n",
       " 24,\n",
       " 25,\n",
       " 26,\n",
       " 27,\n",
       " 28,\n",
       " 29,\n",
       " 30,\n",
       " 31,\n",
       " 32,\n",
       " 33,\n",
       " 34,\n",
       " 35,\n",
       " 36,\n",
       " 37,\n",
       " 38,\n",
       " 39,\n",
       " 40,\n",
       " 41,\n",
       " 42,\n",
       " 43,\n",
       " 44,\n",
       " 45,\n",
       " 46,\n",
       " 47,\n",
       " 48,\n",
       " 49,\n",
       " 50,\n",
       " 51,\n",
       " 52,\n",
       " 53,\n",
       " 54,\n",
       " 55,\n",
       " 56,\n",
       " 57,\n",
       " 58,\n",
       " 59,\n",
       " 60,\n",
       " 61,\n",
       " 62,\n",
       " 63,\n",
       " 64,\n",
       " 65,\n",
       " 66,\n",
       " 67,\n",
       " 68,\n",
       " 69,\n",
       " 70,\n",
       " 71,\n",
       " 72,\n",
       " 73,\n",
       " 74,\n",
       " 75,\n",
       " 76,\n",
       " 77,\n",
       " 78,\n",
       " 79,\n",
       " 80,\n",
       " 81,\n",
       " 82,\n",
       " 83,\n",
       " 84,\n",
       " 85,\n",
       " 86,\n",
       " 87,\n",
       " 88,\n",
       " 89,\n",
       " 90,\n",
       " 91,\n",
       " 92,\n",
       " 93,\n",
       " 94,\n",
       " 95,\n",
       " 96,\n",
       " 97,\n",
       " 98,\n",
       " 99,\n",
       " 100,\n",
       " 101,\n",
       " 102,\n",
       " 103,\n",
       " 104,\n",
       " 105,\n",
       " 106,\n",
       " 107,\n",
       " 108,\n",
       " 109,\n",
       " 110,\n",
       " 111,\n",
       " 112,\n",
       " 113,\n",
       " 114,\n",
       " 115,\n",
       " 116,\n",
       " 117,\n",
       " 118,\n",
       " 119,\n",
       " 120,\n",
       " 121,\n",
       " 122,\n",
       " 123,\n",
       " 124,\n",
       " 125,\n",
       " 126,\n",
       " 127,\n",
       " 128,\n",
       " 129,\n",
       " 130,\n",
       " 131,\n",
       " 132,\n",
       " 133,\n",
       " 134,\n",
       " 135,\n",
       " 136,\n",
       " 137,\n",
       " 138,\n",
       " 139,\n",
       " 140,\n",
       " 141,\n",
       " 142,\n",
       " 143,\n",
       " 144,\n",
       " 145,\n",
       " 146,\n",
       " 147,\n",
       " 148,\n",
       " 149,\n",
       " 150,\n",
       " 151,\n",
       " 152,\n",
       " 153,\n",
       " 154,\n",
       " 155,\n",
       " 156,\n",
       " 157,\n",
       " 158,\n",
       " 159,\n",
       " 160,\n",
       " 161,\n",
       " 162,\n",
       " 163,\n",
       " 164,\n",
       " 165,\n",
       " 166,\n",
       " 167,\n",
       " 168,\n",
       " 169,\n",
       " 170,\n",
       " 171,\n",
       " 172,\n",
       " 173,\n",
       " 174,\n",
       " 175,\n",
       " 176,\n",
       " 177,\n",
       " 178,\n",
       " 179,\n",
       " 180,\n",
       " 181,\n",
       " 182,\n",
       " 183,\n",
       " 184,\n",
       " 185,\n",
       " 186,\n",
       " 187,\n",
       " 188,\n",
       " 189,\n",
       " 190,\n",
       " 191,\n",
       " 192,\n",
       " 193,\n",
       " 194,\n",
       " 195,\n",
       " 196,\n",
       " 197,\n",
       " 198,\n",
       " 199,\n",
       " 200,\n",
       " 201,\n",
       " 202,\n",
       " 203,\n",
       " 204,\n",
       " 205,\n",
       " 206,\n",
       " 207,\n",
       " 208,\n",
       " 209,\n",
       " 210,\n",
       " 211,\n",
       " 212,\n",
       " 213,\n",
       " 214,\n",
       " 215,\n",
       " 216,\n",
       " 217,\n",
       " 218,\n",
       " 219,\n",
       " 220,\n",
       " 221,\n",
       " 222,\n",
       " 223,\n",
       " 224,\n",
       " 225,\n",
       " 226,\n",
       " 227,\n",
       " 228,\n",
       " 229,\n",
       " 230,\n",
       " 231,\n",
       " 232,\n",
       " 233,\n",
       " 234,\n",
       " 235,\n",
       " 236,\n",
       " 237,\n",
       " 238,\n",
       " 239,\n",
       " 240,\n",
       " 241,\n",
       " 242,\n",
       " 243,\n",
       " 244,\n",
       " 245,\n",
       " 246,\n",
       " 247,\n",
       " 248,\n",
       " 249,\n",
       " 250,\n",
       " 251,\n",
       " 252,\n",
       " 253,\n",
       " 254,\n",
       " 255,\n",
       " 256,\n",
       " 257,\n",
       " 258,\n",
       " 259,\n",
       " 260,\n",
       " 261,\n",
       " 262,\n",
       " 263,\n",
       " 264,\n",
       " 265,\n",
       " 266,\n",
       " 267,\n",
       " 268,\n",
       " 269,\n",
       " 270,\n",
       " 271,\n",
       " 272,\n",
       " 273,\n",
       " 274,\n",
       " 275,\n",
       " 276,\n",
       " 277,\n",
       " 278,\n",
       " 279,\n",
       " 280,\n",
       " 281,\n",
       " 282,\n",
       " 283,\n",
       " 284,\n",
       " 285,\n",
       " 286,\n",
       " 287,\n",
       " 288,\n",
       " 289,\n",
       " 290,\n",
       " 291,\n",
       " 292,\n",
       " 293,\n",
       " 294,\n",
       " 295,\n",
       " 296,\n",
       " 297,\n",
       " 298,\n",
       " 299]"
      ]
     },
     "execution_count": 3,
     "metadata": {},
     "output_type": "execute_result"
    }
   ],
   "source": [
    "enroll_list = list(range(300))\n",
    "enroll_list"
   ]
  },
  {
   "cell_type": "code",
   "execution_count": 13,
   "id": "489ee801-9017-4d83-8d38-07154551fd8b",
   "metadata": {},
   "outputs": [
    {
     "data": {
      "text/plain": [
       "array([[  0,   1,   2,   3,   4],\n",
       "       [  5,   6,   7,   8,   9],\n",
       "       [ 10,  11,  12,  13,  14],\n",
       "       [ 15,  16,  17,  18,  19],\n",
       "       [ 20,  21,  22,  23,  24],\n",
       "       [ 25,  26,  27,  28,  29],\n",
       "       [ 30,  31,  32,  33,  34],\n",
       "       [ 35,  36,  37,  38,  39],\n",
       "       [ 40,  41,  42,  43,  44],\n",
       "       [ 45,  46,  47,  48,  49],\n",
       "       [ 50,  51,  52,  53,  54],\n",
       "       [ 55,  56,  57,  58,  59],\n",
       "       [ 60,  61,  62,  63,  64],\n",
       "       [ 65,  66,  67,  68,  69],\n",
       "       [ 70,  71,  72,  73,  74],\n",
       "       [ 75,  76,  77,  78,  79],\n",
       "       [ 80,  81,  82,  83,  84],\n",
       "       [ 85,  86,  87,  88,  89],\n",
       "       [ 90,  91,  92,  93,  94],\n",
       "       [ 95,  96,  97,  98,  99],\n",
       "       [100, 101, 102, 103, 104],\n",
       "       [105, 106, 107, 108, 109],\n",
       "       [110, 111, 112, 113, 114],\n",
       "       [115, 116, 117, 118, 119],\n",
       "       [120, 121, 122, 123, 124],\n",
       "       [125, 126, 127, 128, 129],\n",
       "       [130, 131, 132, 133, 134],\n",
       "       [135, 136, 137, 138, 139],\n",
       "       [140, 141, 142, 143, 144],\n",
       "       [145, 146, 147, 148, 149],\n",
       "       [150, 151, 152, 153, 154],\n",
       "       [155, 156, 157, 158, 159],\n",
       "       [160, 161, 162, 163, 164],\n",
       "       [165, 166, 167, 168, 169],\n",
       "       [170, 171, 172, 173, 174],\n",
       "       [175, 176, 177, 178, 179],\n",
       "       [180, 181, 182, 183, 184],\n",
       "       [185, 186, 187, 188, 189],\n",
       "       [190, 191, 192, 193, 194],\n",
       "       [195, 196, 197, 198, 199],\n",
       "       [200, 201, 202, 203, 204],\n",
       "       [205, 206, 207, 208, 209],\n",
       "       [210, 211, 212, 213, 214],\n",
       "       [215, 216, 217, 218, 219],\n",
       "       [220, 221, 222, 223, 224],\n",
       "       [225, 226, 227, 228, 229],\n",
       "       [230, 231, 232, 233, 234],\n",
       "       [235, 236, 237, 238, 239],\n",
       "       [240, 241, 242, 243, 244],\n",
       "       [245, 246, 247, 248, 249],\n",
       "       [250, 251, 252, 253, 254],\n",
       "       [255, 256, 257, 258, 259],\n",
       "       [260, 261, 262, 263, 264],\n",
       "       [265, 266, 267, 268, 269],\n",
       "       [270, 271, 272, 273, 274],\n",
       "       [275, 276, 277, 278, 279],\n",
       "       [280, 281, 282, 283, 284],\n",
       "       [285, 286, 287, 288, 289],\n",
       "       [290, 291, 292, 293, 294],\n",
       "       [295, 296, 297, 298, 299]])"
      ]
     },
     "execution_count": 13,
     "metadata": {},
     "output_type": "execute_result"
    }
   ],
   "source": [
    "df = np.array(enroll_list)\n",
    "op = df.reshape(60, 5)\n",
    "op"
   ]
  },
  {
   "cell_type": "code",
   "execution_count": 25,
   "id": "757dbe96-0045-436a-80b7-2e4ccdde08db",
   "metadata": {},
   "outputs": [
    {
     "data": {
      "text/plain": [
       "[296, 297, 298]"
      ]
     },
     "execution_count": 25,
     "metadata": {},
     "output_type": "execute_result"
    }
   ],
   "source": [
    "enroll_list[-4:]\n",
    "enroll_list[-4:-1]"
   ]
  },
  {
   "cell_type": "markdown",
   "id": "5fafbd52-6212-4f06-a08e-e182cb2ad455",
   "metadata": {},
   "source": [
    "# tuples"
   ]
  },
  {
   "cell_type": "code",
   "execution_count": 28,
   "id": "5b255783-1307-49b2-b3ca-c554e73519e6",
   "metadata": {},
   "outputs": [
    {
     "name": "stdout",
     "output_type": "stream",
     "text": [
      "<class 'tuple'>\n",
      "5\n"
     ]
    }
   ],
   "source": [
    "akshay_tuple = (\"rowdy rathod\", \"omg\", \"chinagate\", \"chadni chowk\", \"entertainment\")\n",
    "print(type(akshay_tuple))\n",
    "print(len(akshay_tuple))"
   ]
  },
  {
   "cell_type": "code",
   "execution_count": 29,
   "id": "6d9f413b-180f-466d-8402-045da9078332",
   "metadata": {},
   "outputs": [],
   "source": [
    "my_tuple = 1,232,23,23 #tuple created if no parenthesis"
   ]
  },
  {
   "cell_type": "code",
   "execution_count": 35,
   "id": "a1edae9e-225a-4a15-a331-295230b136e2",
   "metadata": {},
   "outputs": [
    {
     "name": "stdout",
     "output_type": "stream",
     "text": [
      "the movies of akshay kumar are ['rowdy rathod', 'omg', 'chinagate', 'chadni chowk', 'entertainment']\n"
     ]
    }
   ],
   "source": [
    "akshay_tuple[2:5]\n",
    "print(f\"the movies of akshay kumar are {list(akshay_tuple)}\")"
   ]
  },
  {
   "cell_type": "code",
   "execution_count": 46,
   "id": "a84e522e-b30a-4a19-83f2-93ac68744309",
   "metadata": {},
   "outputs": [
    {
     "name": "stdout",
     "output_type": "stream",
     "text": [
      "('rowdy rathod', 'omg', 'chinagate', 'chadni chowk', 'entertainment', 1, 232, 23, 23)\n",
      "9\n"
     ]
    }
   ],
   "source": [
    "concat_tuple = akshay_tuple + my_tuple #concatinating\n",
    "print(concat_tuple)\n",
    "print (len(concat_tuple)) #length function"
   ]
  },
  {
   "cell_type": "markdown",
   "id": "85a9b388-22d5-4d86-a3b4-302db858e269",
   "metadata": {},
   "source": [
    "### multiple assignments "
   ]
  },
  {
   "cell_type": "code",
   "execution_count": 48,
   "id": "82c92248-d38f-4445-950d-03a8f7c4eca1",
   "metadata": {},
   "outputs": [
    {
     "name": "stdout",
     "output_type": "stream",
     "text": [
      "rowdy rathod\n",
      "omg\n",
      "chinagate\n"
     ]
    }
   ],
   "source": [
    "rajesh, kamlehs, vednash = akshay_tuple[0: 3] #multiple assiignments\n",
    "print (rajesh)\n",
    "print (kamlehs)\n",
    "print (vednash)"
   ]
  },
  {
   "cell_type": "code",
   "execution_count": 50,
   "id": "d5a76b16-228e-438f-bfa7-ac544bf9a7e3",
   "metadata": {},
   "outputs": [
    {
     "name": "stdout",
     "output_type": "stream",
     "text": [
      "rowdy rathod\n",
      "omg\n"
     ]
    }
   ],
   "source": [
    "rajesh , kamlehs = kamlehs, rajesh #interchanging the values of the elements\n",
    "print (rajesh)\n",
    "print (kamlehs)"
   ]
  },
  {
   "cell_type": "code",
   "execution_count": 56,
   "id": "50afebe6-398e-4aa6-9afd-22e1d3ea7b9a",
   "metadata": {},
   "outputs": [
    {
     "name": "stdout",
     "output_type": "stream",
     "text": [
      "rowdy rathod\n",
      "omg\n",
      "['chinagate', 'chadni chowk', 'entertainment']\n"
     ]
    }
   ],
   "source": [
    "omg ,chinagate, *result = akshay_tuple\n",
    "print (omg) #str\n",
    "print (chinagate) #str\n",
    "print (result) #list\n",
    "\n",
    "\n",
    "#we converted tuple into str and list"
   ]
  },
  {
   "cell_type": "code",
   "execution_count": null,
   "id": "4cc4e831-995a-4d54-b246-d0279b709e2a",
   "metadata": {},
   "outputs": [],
   "source": []
  },
  {
   "cell_type": "code",
   "execution_count": null,
   "id": "a85ab4df-98f8-43f3-96b8-10c8ee66abef",
   "metadata": {},
   "outputs": [],
   "source": []
  }
 ],
 "metadata": {
  "kernelspec": {
   "display_name": "Python 3 (ipykernel)",
   "language": "python",
   "name": "python3"
  },
  "language_info": {
   "codemirror_mode": {
    "name": "ipython",
    "version": 3
   },
   "file_extension": ".py",
   "mimetype": "text/x-python",
   "name": "python",
   "nbconvert_exporter": "python",
   "pygments_lexer": "ipython3",
   "version": "3.13.5"
  }
 },
 "nbformat": 4,
 "nbformat_minor": 5
}
